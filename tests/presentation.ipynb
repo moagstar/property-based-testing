{
 "cells": [
  {
   "cell_type": "markdown",
   "metadata": {
    "slideshow": {
     "slide_type": "notes"
    }
   },
   "source": [
    "say we have a run length encoding function we encode a string as characters and the number of consective occurences of that character let's just test this out with something simple"
   ]
  },
  {
   "cell_type": "markdown",
   "metadata": {
    "slideshow": {
     "slide_type": "slide"
    }
   },
   "source": [
    "def encode(input_string):\n",
    "    count = 1\n",
    "    prev = ''\n",
    "    lst = []\n",
    "    for character in input_string:\n",
    "        if character != prev:\n",
    "            if prev:\n",
    "                lst.append((prev, count))\n",
    "            count = 1\n",
    "            prev = character\n",
    "        else:\n",
    "            count += 1\n",
    "    else:\n",
    "        lst.append((character, count))\n",
    "    return lst\n"
   ]
  },
  {
   "cell_type": "markdown",
   "metadata": {
    "slideshow": {
     "slide_type": "fragment"
    }
   },
   "source": [
    "encode('Hello, World')\n"
   ]
  },
  {
   "cell_type": "markdown",
   "metadata": {
    "slideshow": {
     "slide_type": "notes"
    }
   },
   "source": [
    "say we have a run length encoding function. We encode a string as characters and the number of consecutive occurrences of that character. let's just test this out with something simple"
   ]
  },
  {
   "cell_type": "code",
   "execution_count": null,
   "metadata": {
    "slideshow": {
     "slide_type": "subslide"
    }
   },
   "outputs": [],
   "source": [
    "def encode(input_string):\n",
    "    count = 1\n",
    "    prev = ''\n",
    "    lst = []\n",
    "    for character in input_string:\n",
    "        if character != prev:\n",
    "            if prev:\n",
    "                lst.append((prev, count))\n",
    "            count = 1\n",
    "            prev = character\n",
    "        else:\n",
    "            count += 1\n",
    "    else:\n",
    "        lst.append((character, count))\n",
    "    return lst"
   ]
  },
  {
   "cell_type": "markdown",
   "metadata": {
    "slideshow": {
     "slide_type": "fragment"
    }
   },
   "source": [
    "encode('hello')\n"
   ]
  },
  {
   "cell_type": "markdown",
   "metadata": {
    "slideshow": {
     "slide_type": "notes"
    }
   },
   "source": [
    "and we also have a decode function which reconstructs the string let's just check this function, let's use the output from the encode"
   ]
  },
  {
   "cell_type": "code",
   "execution_count": null,
   "metadata": {
    "slideshow": {
     "slide_type": "subslide"
    }
   },
   "outputs": [],
   "source": [
    "def decode(lst):\n",
    "    return ''.join(c * n for c, n in lst)"
   ]
  },
  {
   "cell_type": "code",
   "execution_count": null,
   "metadata": {
    "slideshow": {
     "slide_type": "fragment"
    }
   },
   "outputs": [],
   "source": [
    "decode([('h', 1), ('e', 1), ('l', 2), ('o', 1)])"
   ]
  },
  {
   "cell_type": "markdown",
   "metadata": {
    "slideshow": {
     "slide_type": "notes"
    }
   },
   "source": [
    "but it's probably best to formalize this in a unit test. I'm using pytest here, but you could use unittest or your favourite test runner, the principal is the same."
   ]
  },
  {
   "cell_type": "code",
   "execution_count": null,
   "metadata": {
    "slideshow": {
     "slide_type": "subslide"
    }
   },
   "outputs": [],
   "source": [
    "def test_run_length_encode():\n",
    "    test_data = \"Hello, World\"\n",
    "    expected = [('h', 1), ('e', 1), ('l', 2), ('o', 1)]\n",
    "    actual = encode(test_data)\n",
    "    assert actual == expected"
   ]
  },
  {
   "cell_type": "code",
   "execution_count": null,
   "metadata": {
    "slideshow": {
     "slide_type": "subslide"
    }
   },
   "outputs": [],
   "source": [
    "def test_run_length_decode():\n",
    "    test_data = [('h', 1), ('e', 1), ('l', 2), ('o', 1)]\n",
    "    expected = \"Hello, World\"\n",
    "    actual = decode(test_data)\n",
    "    assert actual == expected"
   ]
  },
  {
   "cell_type": "code",
   "execution_count": null,
   "metadata": {
    "slideshow": {
     "slide_type": "fragment"
    }
   },
   "outputs": [],
   "source": [
    "!py.test -k test_run_length_decode -q"
   ]
  },
  {
   "cell_type": "code",
   "execution_count": null,
   "metadata": {
    "slideshow": {
     "slide_type": "subslide"
    }
   },
   "outputs": [],
   "source": [
    "@pytest.mark.parametrize('test_data, expected', [\n",
    "    ('hello', [('h', 1), ('e', 1), ('l', 2), ('o', 1)]),\n",
    "    ('python', [('p', 1), ('y', 1), ('t', 1), ('h', 1), ('o', 1), ('n', 1)]),\n",
    "    ('uhm...', [('u', 1), ('h', 1), ('m', 1), ('.', 3)]),\n",
    "])\n",
    "def test_run_length_encode(test_data, expected):\n",
    "    actual = decode(test_data)\n",
    "    assert actual == expected"
   ]
  },
  {
   "cell_type": "code",
   "execution_count": null,
   "metadata": {
    "slideshow": {
     "slide_type": "fragment"
    }
   },
   "outputs": [],
   "source": [
    "!py.test -k test_run_length_encode_decode_parameterized -q"
   ]
  },
  {
   "cell_type": "code",
   "execution_count": null,
   "metadata": {
    "slideshow": {
     "slide_type": "fragment"
    }
   },
   "outputs": [],
   "source": [
    "import random, string\n",
    "\n",
    "random.seed(0)\n",
    "\n",
    "random_letter = lambda: random.choice(string.lowercase)\n",
    "random_range = lambda: range(random.randint(0, 10))\n",
    "random_word = lambda: (random_letter() for i in random_range())\n",
    "random_words = lambda n: (''.join(random_word()) for n in range(n))\n",
    "\n",
    "@pytest.mark.parametrize('input_data', random_words(5))\n",
    "def test_run_length_encode_decode_fuzzed(input_data):\n",
    "    assert decode(encode(input_data)) == input_data"
   ]
  },
  {
   "cell_type": "code",
   "execution_count": null,
   "metadata": {
    "slideshow": {
     "slide_type": "fragment"
    }
   },
   "outputs": [],
   "source": [
    "!py.test -k test_run_length_encode_decode_fuzzed -q"
   ]
  },
  {
   "cell_type": "code",
   "execution_count": null,
   "metadata": {
    "slideshow": {
     "slide_type": "fragment"
    }
   },
   "outputs": [],
   "source": [
    "from hypothesis import strategies as st\n",
    "from hypothesis import given\n",
    "\n",
    "@given(st.text())\n",
    "def test_run_length_encode_decode_property_based(input_data):\n",
    "    assert decode(encode(input_data)) == input_data"
   ]
  },
  {
   "cell_type": "code",
   "execution_count": null,
   "metadata": {
    "slideshow": {
     "slide_type": "fragment"
    }
   },
   "outputs": [],
   "source": [
    "!py.test -k test_run_length_encode_decode_property_based -q"
   ]
  }
 ],
 "metadata": {},
 "nbformat": 4,
 "nbformat_minor": 0
}