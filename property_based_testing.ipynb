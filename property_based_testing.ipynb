{
 "cells": [
  {
   "cell_type": "markdown",
   "metadata": {
    "collapsed": false,
    "slideshow": {
     "slide_type": "slide"
    }
   },
   "source": [
    "# PROPERTY BASED TESTING \n",
    "# IN PYTHON WITH HYPOTHESIS\n",
    "- - - -\n",
    "### DANIEL BRADBURN"
   ]
  },
  {
   "cell_type": "markdown",
   "metadata": {
    "slideshow": {
     "slide_type": "slide"
    }
   },
   "source": [
    " "
   ]
  },
  {
   "cell_type": "markdown",
   "metadata": {
    "collapsed": true,
    "slideshow": {
     "slide_type": "fragment"
    }
   },
   "source": [
    "##### ⚛ example based testing"
   ]
  },
  {
   "cell_type": "markdown",
   "metadata": {
    "slideshow": {
     "slide_type": "fragment"
    }
   },
   "source": [
    "##### ⚛ fuzz and property based testing"
   ]
  },
  {
   "cell_type": "markdown",
   "metadata": {
    "collapsed": true,
    "slideshow": {
     "slide_type": "fragment"
    }
   },
   "source": [
    "##### ⚛ hypothesis"
   ]
  },
  {
   "cell_type": "markdown",
   "metadata": {
    "slideshow": {
     "slide_type": "fragment"
    }
   },
   "source": [
    "##### ⚛ rule based stateful testing "
   ]
  },
  {
   "cell_type": "markdown",
   "metadata": {
    "collapsed": true,
    "slideshow": {
     "slide_type": "fragment"
    }
   },
   "source": [
    "##### ⚛ django"
   ]
  },
  {
   "cell_type": "markdown",
   "metadata": {
    "slideshow": {
     "slide_type": "slide"
    }
   },
   "source": [
    "## Example Based Testing"
   ]
  },
  {
   "cell_type": "markdown",
   "metadata": {
    "slideshow": {
     "slide_type": "notes"
    }
   },
   "source": [
    "* say we have a run length encoding function\n",
    "* we encode a string as characters and the number of consective occurences of that character\n",
    "* let's just test this out with something simple \n"
   ]
  },
  {
   "cell_type": "code",
   "execution_count": null,
   "metadata": {
    "collapsed": false,
    "slideshow": {
     "slide_type": "slide"
    }
   },
   "outputs": [],
   "source": [
    "def encode(input_string):\n",
    "    count = 1\n",
    "    prev = ''\n",
    "    lst = []\n",
    "    for character in input_string:\n",
    "        if character != prev:\n",
    "            if prev:\n",
    "                lst.append((prev, count))\n",
    "            count = 1\n",
    "            prev = character\n",
    "        else:\n",
    "            count += 1\n",
    "    else:\n",
    "        lst.append((character, count))\n",
    "    return lst"
   ]
  },
  {
   "cell_type": "code",
   "execution_count": null,
   "metadata": {
    "collapsed": false,
    "slideshow": {
     "slide_type": "fragment"
    }
   },
   "outputs": [],
   "source": [
    "encode('hellllllo')"
   ]
  },
  {
   "cell_type": "markdown",
   "metadata": {
    "collapsed": true,
    "slideshow": {
     "slide_type": "notes"
    }
   },
   "source": [
    "* and we also have a decode function which reconstructs the string\n",
    "* let's just check this function, let's use the output from the encode"
   ]
  },
  {
   "cell_type": "code",
   "execution_count": null,
   "metadata": {
    "collapsed": true,
    "slideshow": {
     "slide_type": "slide"
    }
   },
   "outputs": [],
   "source": [
    "def decode(lst):\n",
    "    return ''.join(c * n for c, n in lst)"
   ]
  },
  {
   "cell_type": "code",
   "execution_count": null,
   "metadata": {
    "collapsed": false,
    "slideshow": {
     "slide_type": "fragment"
    }
   },
   "outputs": [],
   "source": [
    "decode([('h', 1), ('e', 1), ('l', 2), ('o', 1)])"
   ]
  },
  {
   "cell_type": "markdown",
   "metadata": {
    "slideshow": {
     "slide_type": "notes"
    }
   },
   "source": [
    "* but it's probably best to formalize this in a unit test\n",
    "* I'm using pytest here, but you could use unittest or your favourite test runner, the principal is the same"
   ]
  },
  {
   "cell_type": "code",
   "execution_count": null,
   "metadata": {
    "collapsed": true,
    "slideshow": {
     "slide_type": "slide"
    }
   },
   "outputs": [],
   "source": [
    "def test_run_length_encode_decode():\n",
    "    input_data = 'hello'\n",
    "    assert decode(encode(input_data)) == input_data"
   ]
  },
  {
   "cell_type": "markdown",
   "metadata": {
    "slideshow": {
     "slide_type": "notes"
    }
   },
   "source": [
    "* Looks good, tests are passing, everyone is happy."
   ]
  },
  {
   "cell_type": "code",
   "execution_count": 12,
   "metadata": {
    "collapsed": false,
    "slideshow": {
     "slide_type": "slide"
    }
   },
   "outputs": [
    {
     "name": "stdout",
     "output_type": "stream",
     "text": [
      "================================================= test session starts =================================================\n",
      "platform linux2 -- Python 2.7.6, pytest-2.9.2, py-1.4.31, pluggy-0.3.1\n",
      "rootdir: /home/moagstar/Projects/property-based-testing, inifile: \n",
      "plugins: hypothesis-3.4.2\n",
      "collected 0 items\n",
      "\n",
      "============================================ no tests ran in 0.01 seconds =============================================\n"
     ]
    }
   ],
   "source": [
    "import pytest\n",
    "\n",
    "def pytest_run(test_name):\n",
    "    pytest.cmdline.main(['.', '-k', test_name])\n",
    "    \n",
    "pytest_run('test_run_length_encode_decode')"
   ]
  },
  {
   "cell_type": "markdown",
   "metadata": {
    "slideshow": {
     "slide_type": "notes"
    }
   },
   "source": [
    "* But that's just one test case\n",
    "* Maybe some other input might cause the test to fail?\n",
    "* Let's parameterize the test"
   ]
  },
  {
   "cell_type": "code",
   "execution_count": 13,
   "metadata": {
    "collapsed": false,
    "slideshow": {
     "slide_type": "slide"
    }
   },
   "outputs": [],
   "source": [
    "@pytest.mark.parametrize('input_data', [\n",
    "    'hello',\n",
    "    'Hello, World',\n",
    "    'django',\n",
    "    'uhhhmm...',\n",
    "])\n",
    "def test_run_length_encode_decode_parameterized(input_data):\n",
    "    assert decode(encode(input_data)) == input_data"
   ]
  },
  {
   "cell_type": "markdown",
   "metadata": {
    "slideshow": {
     "slide_type": "notes"
    }
   },
   "source": [
    "* Still all tests are passing, I'm starting to feel a bit more confident\n",
    "* However, I'm not very creative, as you can see I struggled to come up with 4 test cases\n",
    "* This is of course a simple example, \n",
    "* As our models become more complex, our ability to come up with good test cases them diminishes"
   ]
  },
  {
   "cell_type": "code",
   "execution_count": null,
   "metadata": {
    "collapsed": false,
    "slideshow": {
     "slide_type": "slide"
    }
   },
   "outputs": [],
   "source": [
    "pytest_run('test_run_length_encode_decode_parameterized')"
   ]
  },
  {
   "cell_type": "markdown",
   "metadata": {
    "slideshow": {
     "slide_type": "notes"
    }
   },
   "source": [
    "* So one tool we can employ is fuzz testing\n",
    "* We try to find a falsifying example by throwing a bunch of random data at our test"
   ]
  },
  {
   "cell_type": "markdown",
   "metadata": {
    "slideshow": {
     "slide_type": "slide"
    }
   },
   "source": [
    "## Fuzz testing"
   ]
  },
  {
   "cell_type": "markdown",
   "metadata": {
    "slideshow": {
     "slide_type": "notes"
    }
   },
   "source": [
    "* So this is a simple fuzzing strategy we can use\n",
    "* Basically we generate a bunch of random strings and give it to the test function"
   ]
  },
  {
   "cell_type": "code",
   "execution_count": null,
   "metadata": {
    "collapsed": false,
    "slideshow": {
     "slide_type": "slide"
    }
   },
   "outputs": [],
   "source": [
    "import random, string\n",
    "\n",
    "random.seed(0)\n",
    "\n",
    "rand_lower = lambda: random.choice(string.lowercase)\n",
    "rand_range = lambda: range(int(random.random() * 10))\n",
    "\n",
    "def randomwords(n):\n",
    "    return [''.join(rand_lower() for i in rand_range())\n",
    "            for n in range(n)]\n",
    "\n",
    "@pytest.mark.parametrize('input_data', randomwords(5))\n",
    "def test_run_length_encode_decode_fuzzed(input_data):\n",
    "    assert decode(encode(input_data)) == input_data"
   ]
  },
  {
   "cell_type": "code",
   "execution_count": null,
   "metadata": {
    "collapsed": false,
    "slideshow": {
     "slide_type": "slide"
    }
   },
   "outputs": [],
   "source": [
    "pytest_run('test_run_length_encode_decode_fuzzed')"
   ]
  },
  {
   "cell_type": "markdown",
   "metadata": {
    "slideshow": {
     "slide_type": "notes"
    }
   },
   "source": [
    "* Looks good, everyting is still passing\n",
    "* But something bugs me about this kind of fuzzing\n",
    "* Perhaps I just didn't plug the right parameters into the fuzzer to find a failing example?\n",
    "* This is where property based testing can help improve on fuzzing\n",
    "* Let's take a closer look at property based testing"
   ]
  },
  {
   "cell_type": "code",
   "execution_count": null,
   "metadata": {
    "collapsed": false,
    "slideshow": {
     "slide_type": "slide"
    }
   },
   "outputs": [],
   "source": [
    "@pytest.mark.parametrize('input_data', randomwords(10))\n",
    "def test_run_length_encode_decode_fuzzed_fails(input_data):\n",
    "    assert decode(encode(input_data)) == input_data"
   ]
  },
  {
   "cell_type": "code",
   "execution_count": null,
   "metadata": {
    "collapsed": false,
    "slideshow": {
     "slide_type": "slide"
    }
   },
   "outputs": [],
   "source": [
    "pytest_run('test_run_length_encode_decode_fuzzed_fails')"
   ]
  },
  {
   "cell_type": "raw",
   "metadata": {
    "slideshow": {
     "slide_type": "notes"
    }
   },
   "source": [
    "* For example let's tweak the parameters a little\n",
    "* Oh, we found a failure, but I don't want to have to manually tweak parameters\n",
    "* This is where property based testing can help improve on fuzzing\n",
    "* Let's take a closer look"
   ]
  },
  {
   "cell_type": "markdown",
   "metadata": {
    "collapsed": true,
    "slideshow": {
     "slide_type": "slide"
    }
   },
   "source": [
    "## Property Based testing"
   ]
  },
  {
   "cell_type": "code",
   "execution_count": null,
   "metadata": {
    "collapsed": false,
    "slideshow": {
     "slide_type": "slide"
    }
   },
   "outputs": [],
   "source": [
    "from hypothesis import strategies as st\n",
    "from hypothesis import given\n",
    "\n",
    "@given(st.text())\n",
    "def test_run_length_encode_decode_hypothesis(input_data):\n",
    "    assert decode(encode(input_data)) == input_data"
   ]
  },
  {
   "cell_type": "code",
   "execution_count": null,
   "metadata": {
    "collapsed": false,
    "slideshow": {
     "slide_type": "slide"
    }
   },
   "outputs": [],
   "source": [
    "pytest_run('test_run_length_encode_decode_hypothesis')"
   ]
  },
  {
   "cell_type": "markdown",
   "metadata": {
    "slideshow": {
     "slide_type": "slide"
    }
   },
   "source": [
    "## built in (and building) strategies"
   ]
  },
  {
   "cell_type": "code",
   "execution_count": null,
   "metadata": {
    "collapsed": false,
    "slideshow": {
     "slide_type": "slide"
    }
   },
   "outputs": [],
   "source": [
    "st.integers(min_value=-100, max_value=100).example()"
   ]
  },
  {
   "cell_type": "code",
   "execution_count": null,
   "metadata": {
    "collapsed": false,
    "slideshow": {
     "slide_type": "slide"
    }
   },
   "outputs": [],
   "source": [
    "st.text(st.characters(\n",
    "        min_codepoint=64,\n",
    "        max_codepoint=127)).example()"
   ]
  },
  {
   "cell_type": "code",
   "execution_count": null,
   "metadata": {
    "collapsed": false,
    "slideshow": {
     "slide_type": "slide"
    }
   },
   "outputs": [],
   "source": [
    "st.lists(st.integers()).example()"
   ]
  },
  {
   "cell_type": "code",
   "execution_count": null,
   "metadata": {
    "collapsed": false,
    "slideshow": {
     "slide_type": "slide"
    }
   },
   "outputs": [],
   "source": [
    "@st.composite\n",
    "def composite_strategy(draw):\n",
    "    # TODO : More interesting composite strategy\n",
    "    return draw(st.one_of(st.integers(), st.text()))\n",
    "\n",
    "composite_strategy().example()"
   ]
  },
  {
   "cell_type": "code",
   "execution_count": null,
   "metadata": {
    "collapsed": true,
    "slideshow": {
     "slide_type": "slide"
    }
   },
   "outputs": [],
   "source": [
    "# TODO: json (recursive)"
   ]
  },
  {
   "cell_type": "markdown",
   "metadata": {
    "collapsed": true,
    "slideshow": {
     "slide_type": "slide"
    }
   },
   "source": [
    "## rule based stateful testing "
   ]
  },
  {
   "cell_type": "code",
   "execution_count": null,
   "metadata": {
    "collapsed": true,
    "slideshow": {
     "slide_type": "notes"
    }
   },
   "outputs": [],
   "source": []
  },
  {
   "cell_type": "code",
   "execution_count": null,
   "metadata": {
    "collapsed": true,
    "slideshow": {
     "slide_type": "slide"
    }
   },
   "outputs": [],
   "source": [
    "class Heap(list):\n",
    "    \n",
    "    def push(self, value):\n",
    "        self += [value]\n",
    "        index = len(self) - 1\n",
    "        while index > 0:\n",
    "            parent = (index - 1) // 2\n",
    "            if self[parent] > self[index]:\n",
    "                self[parent], self[index] = self[index], self[parent]\n",
    "                index = parent\n",
    "            else:\n",
    "                break\n",
    "        return self"
   ]
  },
  {
   "cell_type": "code",
   "execution_count": null,
   "metadata": {
    "collapsed": true,
    "slideshow": {
     "slide_type": "notes"
    }
   },
   "outputs": [],
   "source": [
    "heap = Heap()\n",
    "heap.push(99)\n",
    "heap.push(0)"
   ]
  },
  {
   "cell_type": "code",
   "execution_count": null,
   "metadata": {
    "collapsed": false,
    "slideshow": {
     "slide_type": "slide"
    }
   },
   "outputs": [],
   "source": [
    "heap = Heap()"
   ]
  },
  {
   "cell_type": "code",
   "execution_count": null,
   "metadata": {
    "collapsed": false,
    "slideshow": {
     "slide_type": "slide"
    }
   },
   "outputs": [],
   "source": [
    "@given(st.lists(st.integers()))\n",
    "def test_pop_in_sorted_order(lst):\n",
    "    heap = Heap()\n",
    "    map(heap.push, lst)\n",
    "    r = [heap.pop() for _ in range(len(heap))]\n",
    "    assert r == sorted(lst)"
   ]
  },
  {
   "cell_type": "code",
   "execution_count": null,
   "metadata": {
    "collapsed": false,
    "slideshow": {
     "slide_type": "slide"
    }
   },
   "outputs": [],
   "source": [
    "pytest_run('test_pop_in_sorted_order')"
   ]
  },
  {
   "cell_type": "code",
   "execution_count": null,
   "metadata": {
    "collapsed": false,
    "slideshow": {
     "slide_type": "slide"
    }
   },
   "outputs": [],
   "source": [
    "class HeapFixed(Heap):\n",
    "    \n",
    "    def pop(self):\n",
    "        if len(self) == 0: raise ValueError(\"Empty self\")\n",
    "        if len(self) == 1: return super(HeapFixed, self).pop()\n",
    "        result = self[0]\n",
    "        self[0] = super(HeapFixed, self).pop()\n",
    "        index = 0\n",
    "        while index * 2 + 1 < len(self):\n",
    "            children = [index * 2 + 1, index * 2 + 2]\n",
    "            children = [i for i in children if i < len(self)]\n",
    "            assert children\n",
    "            children.sort(key=lambda x: self[x])\n",
    "            for c in children:\n",
    "                if self[index] > self[c]:\n",
    "                    self[index], self[c] = self[c], self[index]\n",
    "                    index = c\n",
    "                    break\n",
    "            else:\n",
    "                break\n",
    "        return result"
   ]
  },
  {
   "cell_type": "code",
   "execution_count": null,
   "metadata": {
    "collapsed": false,
    "slideshow": {
     "slide_type": "slide"
    }
   },
   "outputs": [],
   "source": [
    "@given(st.lists(st.integers()))\n",
    "def test_pop_in_sorted_order_fixed(lst):\n",
    "    heap = HeapFixed()\n",
    "    map(heap.push, lst)\n",
    "    r = [heap.pop() for _ in range(len(heap))]\n",
    "    assert r == sorted(lst)"
   ]
  },
  {
   "cell_type": "code",
   "execution_count": null,
   "metadata": {
    "collapsed": false,
    "slideshow": {
     "slide_type": "slide"
    }
   },
   "outputs": [],
   "source": [
    "pytest_run('test_pop_in_sorted_order_fixed')"
   ]
  },
  {
   "cell_type": "code",
   "execution_count": null,
   "metadata": {
    "collapsed": false,
    "slideshow": {
     "slide_type": "slide"
    }
   },
   "outputs": [],
   "source": [
    "def heapmerge(heap1, heap2):\n",
    "    \n",
    "    result = []\n",
    "    i, j = 0, 0\n",
    "    \n",
    "    while i < len(heap1) and j < len(heap2):\n",
    "        if heap1[i] <= heap2[j]:\n",
    "            result.append(heap1[i])\n",
    "            i += 1\n",
    "        else:\n",
    "            result.append(heap2[j])\n",
    "            j += 1\n",
    "            \n",
    "    result.extend(heap1[i:])\n",
    "    result.extend(heap2[j:])\n",
    "    \n",
    "    return result"
   ]
  },
  {
   "cell_type": "code",
   "execution_count": null,
   "metadata": {
    "collapsed": true,
    "slideshow": {
     "slide_type": "slide"
    }
   },
   "outputs": [],
   "source": [
    "from hypothesis.stateful import rule \n",
    "from hypothesis.stateful import RuleBasedStateMachine\n",
    "\n",
    "class HeapMachine(RuleBasedStateMachine):\n",
    "    \n",
    "    Heaps = Bundle('heaps')\n",
    "\n",
    "    @rule(target=Heaps)\n",
    "    def newheap(self): \n",
    "        return HeapFixed()\n",
    "\n",
    "    @rule(heap=Heaps, value=integers())\n",
    "    def push(self, heap, value): \n",
    "        heap.push(value)\n",
    "\n",
    "    @rule(heap=Heaps.filter(bool))\n",
    "    def pop(self, heap):\n",
    "        assert min(heap) == heap.pop()\n",
    "\n",
    "    @rule(target=Heaps, heap1=Heaps, heap2=Heaps)\n",
    "    def merge(self, heap1, heap2):\n",
    "        return heapmerge(heap1, heap2)"
   ]
  },
  {
   "cell_type": "code",
   "execution_count": null,
   "metadata": {
    "collapsed": true,
    "slideshow": {
     "slide_type": "slide"
    }
   },
   "outputs": [],
   "source": [
    "# django"
   ]
  }
 ],
 "metadata": {
  "celltoolbar": "Slideshow",
  "kernelspec": {
   "display_name": "Python 2",
   "language": "python",
   "name": "python2"
  },
  "language_info": {
   "codemirror_mode": {
    "name": "ipython",
    "version": 2
   },
   "file_extension": ".py",
   "mimetype": "text/x-python",
   "name": "python",
   "nbconvert_exporter": "python",
   "pygments_lexer": "ipython2",
   "version": "2.7.6"
  },
  "livereveal": {
   "theme": "black",
   "transition": "zoom",
   "transitionSpeed": "fast"
  }
 },
 "nbformat": 4,
 "nbformat_minor": 0
}
