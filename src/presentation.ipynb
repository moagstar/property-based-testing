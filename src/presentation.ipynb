{
 "cells": [
  {
   "cell_type": "code",
   "execution_count": 383,
   "metadata": {
    "collapsed": false,
    "deletable": true,
    "editable": true,
    "slideshow": {
     "slide_type": "notes"
    }
   },
   "outputs": [
    {
     "data": {
      "application/javascript": [
       "$('#run_all_cells_below').click()"
      ],
      "text/plain": [
       "<IPython.core.display.Javascript object>"
      ]
     },
     "metadata": {},
     "output_type": "display_data"
    },
    {
     "data": {
      "application/javascript": [
       "$('#run_all_cells_below').click()"
      ],
      "text/plain": [
       "<IPython.core.display.Javascript object>"
      ]
     },
     "metadata": {},
     "output_type": "display_data"
    }
   ],
   "source": [
    "%%javascript\n",
    "$('#run_all_cells_below').click()"
   ]
  },
  {
   "cell_type": "code",
   "execution_count": 384,
   "metadata": {
    "collapsed": true,
    "deletable": true,
    "editable": true,
    "slideshow": {
     "slide_type": "notes"
    }
   },
   "outputs": [],
   "source": [
    "from hypothesis import settings\n",
    "\n",
    "settings.register_profile(\"presentation\", settings(\n",
    "    database_file=None, \n",
    "    max_examples=100, \n",
    "    stateful_step_count=1000,\n",
    "))\n",
    "\n",
    "settings.load_profile(\"presentation\")"
   ]
  },
  {
   "cell_type": "markdown",
   "metadata": {
    "deletable": true,
    "editable": true,
    "slideshow": {
     "slide_type": "slide"
    }
   },
   "source": [
    "# Property Based Testing\n",
    "## Using Hypothesis<br><br><br>\n",
    "### Amsterdam Python Meetup\n",
    "### 26 April 2017<br><br><br>\n",
    "### Daniel Bradburn"
   ]
  },
  {
   "cell_type": "markdown",
   "metadata": {
    "deletable": true,
    "editable": true,
    "slideshow": {
     "slide_type": "subslide"
    }
   },
   "source": [
    "Property based testing"
   ]
  },
  {
   "cell_type": "markdown",
   "metadata": {
    "deletable": true,
    "editable": true,
    "slideshow": {
     "slide_type": "fragment"
    }
   },
   "source": [
    "Choosing properties"
   ]
  },
  {
   "cell_type": "markdown",
   "metadata": {
    "deletable": true,
    "editable": true,
    "slideshow": {
     "slide_type": "fragment"
    }
   },
   "source": [
    "Generating data"
   ]
  },
  {
   "cell_type": "markdown",
   "metadata": {
    "deletable": true,
    "editable": true,
    "slideshow": {
     "slide_type": "fragment"
    }
   },
   "source": [
    "Stateful testing"
   ]
  },
  {
   "cell_type": "markdown",
   "metadata": {
    "deletable": true,
    "editable": true,
    "slideshow": {
     "slide_type": "slide"
    }
   },
   "source": [
    "## Property Based Testing"
   ]
  },
  {
   "cell_type": "code",
   "execution_count": 385,
   "metadata": {
    "collapsed": false,
    "deletable": true,
    "editable": true,
    "slideshow": {
     "slide_type": "subslide"
    }
   },
   "outputs": [],
   "source": [
    "def encode(text):\n",
    "    \"\"\"\n",
    "    Run length encode text - repeated characters are replaced\n",
    "    by a single instance followed by the count.\n",
    "    \"\"\"\n",
    "    prev, count, result = '', '', []\n",
    "    \n",
    "    for curr in text:\n",
    "        if prev == curr:\n",
    "            count += 1\n",
    "        else:\n",
    "            result.append(f'{prev}{count}')\n",
    "            prev, count = curr, 1\n",
    "    else:\n",
    "        result.append(f'{curr}{count}')\n",
    "        \n",
    "    return ''.join(result)"
   ]
  },
  {
   "cell_type": "code",
   "execution_count": 386,
   "metadata": {
    "collapsed": false,
    "deletable": true,
    "editable": true,
    "scrolled": false,
    "slideshow": {
     "slide_type": "subslide"
    }
   },
   "outputs": [
    {
     "data": {
      "text/plain": [
       "'h2e1l4o1'"
      ]
     },
     "execution_count": 386,
     "metadata": {},
     "output_type": "execute_result"
    }
   ],
   "source": [
    "encode('hhellllo')"
   ]
  },
  {
   "cell_type": "code",
   "execution_count": 387,
   "metadata": {
    "collapsed": true,
    "deletable": true,
    "editable": true,
    "slideshow": {
     "slide_type": "subslide"
    }
   },
   "outputs": [],
   "source": [
    "from re import sub\n",
    "\n",
    "def decode(text):\n",
    "    \"\"\"\n",
    "    Run length decode text - characters followed by a count n\n",
    "    are replaced by the character repeated n times.\n",
    "    \"\"\"\n",
    "    grouper = lambda m: m.group(1) * int(m.group(2))\n",
    "    return sub(r'(\\D)(\\d+)', grouper, text)"
   ]
  },
  {
   "cell_type": "code",
   "execution_count": 388,
   "metadata": {
    "collapsed": false,
    "deletable": true,
    "editable": true,
    "slideshow": {
     "slide_type": "subslide"
    }
   },
   "outputs": [
    {
     "data": {
      "text/plain": [
       "'hellllo'"
      ]
     },
     "execution_count": 388,
     "metadata": {},
     "output_type": "execute_result"
    }
   ],
   "source": [
    "decode('h1e1l4o1')"
   ]
  },
  {
   "cell_type": "code",
   "execution_count": 389,
   "metadata": {
    "collapsed": true,
    "deletable": true,
    "editable": true,
    "slideshow": {
     "slide_type": "subslide"
    }
   },
   "outputs": [],
   "source": [
    "def test_run_length_encode():\n",
    "    assert encode('hello') == 'h1e1l2o1'"
   ]
  },
  {
   "cell_type": "code",
   "execution_count": 390,
   "metadata": {
    "collapsed": false,
    "deletable": true,
    "editable": true,
    "scrolled": true,
    "slideshow": {
     "slide_type": "-"
    }
   },
   "outputs": [
    {
     "name": "stdout",
     "output_type": "stream",
     "text": [
      ".\r\n",
      "\r\n",
      "==================== 32 tests deselected =====================\r\n",
      "\r\n",
      "1 passed, 32 deselected in 0.60 seconds\r\n"
     ]
    }
   ],
   "source": [
    "!sh pytest.sh test_run_length_encode"
   ]
  },
  {
   "cell_type": "code",
   "execution_count": 391,
   "metadata": {
    "collapsed": true,
    "deletable": true,
    "editable": true,
    "slideshow": {
     "slide_type": "subslide"
    }
   },
   "outputs": [],
   "source": [
    "def test_run_length_decode():\n",
    "    assert decode('h1e1l2o1') == 'hello'"
   ]
  },
  {
   "cell_type": "code",
   "execution_count": 392,
   "metadata": {
    "collapsed": false,
    "deletable": true,
    "editable": true,
    "slideshow": {
     "slide_type": "-"
    }
   },
   "outputs": [
    {
     "name": "stdout",
     "output_type": "stream",
     "text": [
      ".\r\n",
      "\r\n",
      "==================== 32 tests deselected =====================\r\n",
      "\r\n",
      "1 passed, 32 deselected in 0.63 seconds\r\n"
     ]
    }
   ],
   "source": [
    "!sh pytest.sh test_run_length_decode"
   ]
  },
  {
   "cell_type": "code",
   "execution_count": 393,
   "metadata": {
    "collapsed": true,
    "deletable": true,
    "editable": true,
    "slideshow": {
     "slide_type": "subslide"
    }
   },
   "outputs": [],
   "source": [
    "import pytest\n",
    "\n",
    "examples = ['hello', 'python', 'meetup', 'amsterdam']\n",
    "\n",
    "@pytest.mark.parametrize('text', examples)\n",
    "def test_parameterized_run_length_encode_decode(text):\n",
    "    assert decode(encode(text)) == text"
   ]
  },
  {
   "cell_type": "code",
   "execution_count": 394,
   "metadata": {
    "collapsed": false,
    "deletable": true,
    "editable": true,
    "slideshow": {
     "slide_type": "-"
    }
   },
   "outputs": [
    {
     "name": "stdout",
     "output_type": "stream",
     "text": [
      "....\r\n",
      "\r\n",
      "==================== 29 tests deselected =====================\r\n",
      "\r\n",
      "4 passed, 29 deselected in 0.59 seconds\r\n"
     ]
    }
   ],
   "source": [
    "!sh pytest.sh test_parameterized_run_length_encode_decode"
   ]
  },
  {
   "cell_type": "code",
   "execution_count": 395,
   "metadata": {
    "collapsed": false,
    "deletable": true,
    "editable": true,
    "slideshow": {
     "slide_type": "subslide"
    }
   },
   "outputs": [],
   "source": [
    "from random import seed, choice, randint\n",
    "\n",
    "seed(0)\n",
    "\n",
    "randletter = lambda _: chr(choice(range(32, 255)))\n",
    "randrange  = lambda length: range(randint(0, length))\n",
    "randchars  = lambda max_len: map(randletter, randrange(max_len))\n",
    "randword   = lambda max_len: ''.join(randchars(max_len))\n",
    "randwords  = lambda n, max_len: (randword(max_len) for _ in range(n))\n",
    "\n",
    "@pytest.mark.parametrize('text', randwords(n=5, max_len=5))\n",
    "def test_fuzzed_run_length_encode_decode(text):\n",
    "    assert decode(encode(text)) == text"
   ]
  },
  {
   "cell_type": "code",
   "execution_count": 396,
   "metadata": {
    "collapsed": false,
    "deletable": true,
    "editable": true,
    "scrolled": true,
    "slideshow": {
     "slide_type": "-"
    }
   },
   "outputs": [
    {
     "name": "stdout",
     "output_type": "stream",
     "text": [
      ".....\r\n",
      "\r\n",
      "==================== 28 tests deselected =====================\r\n",
      "\r\n",
      "5 passed, 28 deselected in 0.60 seconds\r\n"
     ]
    }
   ],
   "source": [
    "!sh pytest.sh test_fuzzed_run_length_encode_decode"
   ]
  },
  {
   "cell_type": "code",
   "execution_count": 397,
   "metadata": {
    "collapsed": true,
    "deletable": true,
    "editable": true,
    "slideshow": {
     "slide_type": "subslide"
    }
   },
   "outputs": [],
   "source": [
    "from hypothesis import strategies as st, given\n",
    "\n",
    "@given(st.text())\n",
    "def test_property_based_run_length_encode_decode(text):\n",
    "    assert decode(encode(text)) == text"
   ]
  },
  {
   "cell_type": "code",
   "execution_count": 398,
   "metadata": {
    "collapsed": false,
    "deletable": true,
    "editable": true,
    "scrolled": false,
    "slideshow": {
     "slide_type": "-"
    }
   },
   "outputs": [
    {
     "name": "stdout",
     "output_type": "stream",
     "text": [
      "F\r\n",
      "\r\n",
      "========================== FAILURES ==========================\r\n",
      "\r\n",
      "\r\n",
      "________ test_property_based_run_length_encode_decode ________\r\n",
      "\r\n",
      "\r\n",
      "test_run.py:77: in test_property_based_run_length_encode_decode\r\n",
      "\r\n",
      "test_run.py:78: in test_property_based_run_length_encode_decode\r\n",
      "\r\n",
      "test_run.py:26: in encode\r\n",
      "\r\n",
      "E   UnboundLocalError: local variable 'curr' referenced before assignment\r\n",
      "\r\n",
      "------------------------- Hypothesis -------------------------\r\n",
      "\r\n",
      "Falsifying example: test_property_based_run_length_encode_decode(text='')\r\n",
      "\r\n",
      "==================== 32 tests deselected =====================\r\n",
      "\r\n",
      "1 failed, 32 deselected in 0.74 seconds\r\n"
     ]
    }
   ],
   "source": [
    "!sh pytest.sh test_property_based_run_length_encode_decode"
   ]
  },
  {
   "cell_type": "code",
   "execution_count": 399,
   "metadata": {
    "collapsed": true,
    "deletable": true,
    "editable": true,
    "slideshow": {
     "slide_type": "subslide"
    }
   },
   "outputs": [],
   "source": [
    "def encode_fixed(text):\n",
    "    \"\"\"\n",
    "    Run length encode text - repeated characters are replaced\n",
    "    by a single instance followed by the count.\n",
    "    \"\"\"\n",
    "    curr, prev, count, result = '', '', '', []\n",
    "    \n",
    "    for curr in text:\n",
    "        if prev == curr:\n",
    "            count += 1\n",
    "        else:\n",
    "            result.append(f'{prev}{count}')\n",
    "            prev, count = curr, 1\n",
    "    else:\n",
    "        result.append(f'{curr}{count}')\n",
    "        \n",
    "    return ''.join(result)"
   ]
  },
  {
   "cell_type": "code",
   "execution_count": 400,
   "metadata": {
    "collapsed": false,
    "deletable": true,
    "editable": true,
    "slideshow": {
     "slide_type": "subslide"
    }
   },
   "outputs": [],
   "source": [
    "@given(st.text())\n",
    "def test_property_based_fixed_run_length_encode_decode(text):\n",
    "    assert decode(encode_fixed(text)) == text"
   ]
  },
  {
   "cell_type": "code",
   "execution_count": 401,
   "metadata": {
    "collapsed": false,
    "deletable": true,
    "editable": true,
    "scrolled": false,
    "slideshow": {
     "slide_type": "-"
    }
   },
   "outputs": [
    {
     "name": "stdout",
     "output_type": "stream",
     "text": [
      "F\r\n",
      "\r\n",
      "========================== FAILURES ==========================\r\n",
      "\r\n",
      "\r\n",
      "_____ test_property_based_fixed_run_length_encode_decode _____\r\n",
      "\r\n",
      "\r\n",
      "test_run.py:101: in test_property_based_fixed_run_length_encode_decode\r\n",
      "\r\n",
      "test_run.py:102: in test_property_based_fixed_run_length_encode_decode\r\n",
      "\r\n",
      "E   AssertionError: assert '01' == '0'\r\n",
      "\r\n",
      "\r\n",
      "\r\n",
      "------------------------- Hypothesis -------------------------\r\n",
      "\r\n",
      "Falsifying example: test_property_based_fixed_run_length_encode_decode(text='0')\r\n",
      "\r\n",
      "==================== 32 tests deselected =====================\r\n",
      "\r\n",
      "1 failed, 32 deselected in 0.75 seconds\r\n"
     ]
    }
   ],
   "source": [
    "!sh pytest.sh test_property_based_fixed_run_length_encode_decode"
   ]
  },
  {
   "cell_type": "code",
   "execution_count": 402,
   "metadata": {
    "collapsed": false,
    "deletable": true,
    "editable": true,
    "slideshow": {
     "slide_type": "subslide"
    }
   },
   "outputs": [],
   "source": [
    "from hypothesis import settings, Verbosity\n",
    "\n",
    "@settings(verbosity=Verbosity.verbose)\n",
    "@given(st.text())\n",
    "def test_property_based_show_encode_decode(text):\n",
    "    assert decode(encode_fixed(text)) == text"
   ]
  },
  {
   "cell_type": "code",
   "execution_count": 403,
   "metadata": {
    "collapsed": false,
    "deletable": true,
    "editable": true,
    "scrolled": false,
    "slideshow": {
     "slide_type": "-"
    }
   },
   "outputs": [
    {
     "name": "stdout",
     "output_type": "stream",
     "text": [
      "F\r\n",
      "\r\n",
      "========================== FAILURES ==========================\r\n",
      "\r\n",
      "\r\n",
      "___________ test_property_based_show_encode_decode ___________\r\n",
      "\r\n",
      "\r\n",
      "test_run.py:108: in test_property_based_show_encode_decode\r\n",
      "\r\n",
      "test_run.py:110: in test_property_based_show_encode_decode\r\n",
      "\r\n",
      "E   AssertionError: assert '01' == '0'\r\n",
      "\r\n",
      "\r\n",
      "\r\n",
      "------------------------- Hypothesis -------------------------\r\n",
      "\r\n",
      "Trying example: test_property_based_show_encode_decode(text='\\U0007779bS쟫d⍞띍\\U0005e51bⅥè\\U000dba55[진,J\\U00108ff9谟\\U000c8cd9\\U000aea93Ꚉ𡸶\\x1e\\x8f\\x0bKô')\r\n",
      "Trying example: test_property_based_show_encode_decode(text='\\U00052520S鍻諗⍜\\U0001bf4d\\U00051829\\U000ef94c𑊗')\r\n",
      "Trying example: test_property_based_show_encode_decode(text='\\U00052620𐡃º-\\U000c31ca')\r\n",
      "Trying example: test_property_based_show_encode_decode(text='Ŷ')\r\n",
      "Trying example: test_property_based_show_encode_decode(text='¦\\U000e104f\\U0005c66a\\ua7ca\\x86\\U000d3863鲦Ǒ\\x01霺英\\n')\r\n",
      "Trying example: test_property_based_show_encode_decode(text='\\U000108a6\\U000e114fǚ')\r\n",
      "Trying example: test_property_based_show_encode_decode(text='=\\U000e104f(\\U0001cc81\\x850\\x1e\\U000504b1')\r\n",
      "Traceback (most recent call last):\r\n",
      "  File \"/home/moagstar/Projects/property-based-testi_\r\n",
      "  File \"/home/moagstar/Projects/property-based-testi_\r\n",
      "  File \"/home/moagstar/Projects/property-based-testi_\r\n",
      "  File \"/home/moagstar/Projects/property-based-testing/src/test_run.py\", line 110, in test_property_based_show_encode_decode\r\n",
      "AssertionError: assert '=\\U000e104f(...x1e\\U000504b1' == '=\\U000e104f(\\...x1e\\U000504b1'\r\n",
      "  + 0\u001e",
      "\r\n",
      "  - ",
      "\r\n",
      "  - \u001e",
      "\r\n",
      "\r\n",
      "Trying example: test_property_based_show_encode_decode(text='=\\U0001cc81\\x850\\x1e\\U000504b1')\r\n",
      "AssertionError: assert '=\\U0001cc81\\...x1e\\U000504b1' == '=\\U0001cc81\\x...x1e\\U000504b1'\r\n",
      "Trying example: test_property_based_show_encode_decode(text='=\\U0001cc81\\x850\\U000504b1')\r\n",
      "AssertionError: assert '=\\U0001cc81\\...x85\\U000504b1' == '=\\U0001cc81\\x850\\U000504b1'\r\n",
      "  + 0񐒱\r\n",
      "  - 񐒱\r\n",
      "Trying example: test_property_based_show_encode_decode(text='=\\U0001cc810\\U000504b1')\r\n",
      "AssertionError: assert '=\\U0001cc81\\...c81\\U000504b1' == '=\\U0001cc810\\U000504b1'\r\n",
      "  - =𜲁𜲁𜲁𜲁𜲁𜲁𜲁𜲁𜲁𜲁𜲁𜲁𜲁𜲁𜲁𜲁𜲁𜲁𜲁𜲁𜲁𜲁𜲁𜲁𜲁𜲁𜲁𜲁𜲁𜲁𜲁𜲁𜲁𜲁𜲁𜲁𜲁𜲁𜲁𜲁𜲁𜲁𜲁𜲁𜲁𜲁𜲁𜲁𜲁𜲁𜲁𜲁𜲁𜲁𜲁𜲁𜲁𜲁𜲁𜲁𜲁𜲁𜲁𜲁𜲁𜲁𜲁𜲁𜲁𜲁𜲁𜲁𜲁𜲁𜲁𜲁𜲁𜲁𜲁𜲁𜲁𜲁𜲁𜲁𜲁𜲁𜲁𜲁𜲁𜲁𜲁𜲁𜲁𜲁𜲁𜲁𜲁𜲁𜲁𜲁𜲁񐒱\r\n",
      "  + =𜲁0񐒱\r\n",
      "Trying example: test_property_based_show_encode_decode(text='=\\U0001cc81')\r\n",
      "Trying example: test_property_based_show_encode_decode(text='=𐠰')\r\n",
      "Trying example: test_property_based_show_encode_decode(text='=\\U00045931')\r\n",
      "Trying example: test_property_based_show_encode_decode(text='')\r\n",
      "Trying example: test_property_based_show_encode_decode(text='0\\U000504b1')\r\n",
      "AssertionError: assert '01\\U000504b1' == '0\\U000504b1'\r\n",
      "  - 01񐒱\r\n",
      "  ?  -\r\n",
      "Trying example: test_property_based_show_encode_decode(text='\\U000504b1')\r\n",
      "Trying example: test_property_based_show_encode_decode(text='0')\r\n",
      "AssertionError: assert '01' == '0'\r\n",
      "  - 01\r\n",
      "  + 0\r\n",
      "Falsifying example: test_property_based_show_encode_decode(text='0')\r\n",
      "\r\n",
      "==================== 32 tests deselected =====================\r\n",
      "\r\n",
      "1 failed, 32 deselected in 0.75 seconds\r\n"
     ]
    }
   ],
   "source": [
    "!sh pytest.sh test_property_based_show_encode_decode"
   ]
  },
  {
   "cell_type": "code",
   "execution_count": 404,
   "metadata": {
    "collapsed": true,
    "deletable": true,
    "editable": true,
    "slideshow": {
     "slide_type": "subslide"
    }
   },
   "outputs": [],
   "source": [
    "from random import seed\n",
    "\n",
    "seed(0)\n",
    "\n",
    "@pytest.mark.parametrize('text', randwords(n=5, max_len=15))\n",
    "def test_fuzzed_more_run_length_encode_decode(text):\n",
    "    assert decode(encode_fixed(text)) == text"
   ]
  },
  {
   "cell_type": "code",
   "execution_count": 405,
   "metadata": {
    "collapsed": false,
    "deletable": true,
    "editable": true,
    "slideshow": {
     "slide_type": "-"
    }
   },
   "outputs": [
    {
     "name": "stdout",
     "output_type": "stream",
     "text": [
      ".FFF.\r\n",
      "\r\n",
      "========================== FAILURES ==========================\r\n",
      "\r\n",
      "\r\n",
      "_____ test_fuzzed_more_run_length_encode_decode[o9\\xda2] _____\r\n",
      "\r\n",
      "\r\n",
      "test_run.py:119: in test_fuzzed_more_run_length_encode_decode\r\n",
      "\r\n",
      "E   AssertionError: assert 'oooooooooooo...ÚÚÚÚÚÚÚÚÚÚÚÚÚ' == 'o9Ú2'\r\n",
      "\r\n",
      "\r\n",
      "___ test_fuzzed_more_run_length_encode_decode[\\x98\\xaf9z\\x8fp\\xbc\\xc3T\\xad] ____\r\n",
      "\r\n",
      "E   AssertionError: assert '\\x98¯¯¯¯¯¯¯¯...z\\x8fp¼ÃT\\xad' == '\\x98¯9z\\x8fp¼ÃT\\xad'\r\n",
      "\r\n",
      "\r\n",
      " test_fuzzed_more_run_length_encode_decode[\\x91\\xfd\\xa5b/\\xee\\xac#7\\xd8\\xf7\\x86\\xd5\\xf3\\xe8] \r\n",
      "\r\n",
      "E   AssertionError: assert '\\x91ý¥b/î¬##...####Ø÷\\x86Õóè' == '\\x91ý¥b/î¬#7Ø÷\\x86Õóè'\r\n",
      "\r\n",
      "\r\n",
      "\r\n",
      "==================== 28 tests deselected =====================\r\n",
      "\r\n",
      "3 failed, 2 passed, 28 deselected in 0.70 seconds\r\n"
     ]
    }
   ],
   "source": [
    "!sh pytest.sh test_fuzzed_more_run_length_encode_decode"
   ]
  },
  {
   "cell_type": "code",
   "execution_count": 406,
   "metadata": {
    "collapsed": false,
    "deletable": true,
    "editable": true,
    "slideshow": {
     "slide_type": "subslide"
    }
   },
   "outputs": [],
   "source": [
    "from string import digits\n",
    "\n",
    "@given(st.text(st.characters(blacklist_characters=digits)))\n",
    "def test_property_based_no_digits_run_length_encode_decode(text):\n",
    "    assert decode(encode_fixed(text)) == text"
   ]
  },
  {
   "cell_type": "code",
   "execution_count": 407,
   "metadata": {
    "collapsed": false,
    "deletable": true,
    "editable": true,
    "scrolled": false,
    "slideshow": {
     "slide_type": "-"
    }
   },
   "outputs": [
    {
     "name": "stdout",
     "output_type": "stream",
     "text": [
      ".\r\n",
      "\r\n",
      "==================== 32 tests deselected =====================\r\n",
      "\r\n",
      "1 passed, 32 deselected in 0.67 seconds\r\n"
     ]
    }
   ],
   "source": [
    "!sh pytest.sh test_property_based_no_digits_run_length_encode_decode"
   ]
  },
  {
   "cell_type": "markdown",
   "metadata": {
    "slideshow": {
     "slide_type": "subslide"
    }
   },
   "source": [
    "&nbsp;"
   ]
  },
  {
   "cell_type": "markdown",
   "metadata": {
    "slideshow": {
     "slide_type": "fragment"
    }
   },
   "source": [
    "* Example Based Testing"
   ]
  },
  {
   "cell_type": "markdown",
   "metadata": {
    "deletable": true,
    "editable": true,
    "slideshow": {
     "slide_type": "fragment"
    }
   },
   "source": [
    "*  Parameterized Tests"
   ]
  },
  {
   "cell_type": "markdown",
   "metadata": {
    "deletable": true,
    "editable": true,
    "slideshow": {
     "slide_type": "fragment"
    }
   },
   "source": [
    "*  Property Based Tests"
   ]
  },
  {
   "cell_type": "markdown",
   "metadata": {
    "deletable": true,
    "editable": true,
    "slideshow": {
     "slide_type": "fragment"
    }
   },
   "source": [
    "&nbsp;&nbsp;&nbsp;&nbsp;&nbsp;&nbsp;&nbsp;&nbsp;• Data generation and shrinking"
   ]
  },
  {
   "cell_type": "markdown",
   "metadata": {
    "deletable": true,
    "editable": true,
    "slideshow": {
     "slide_type": "slide"
    }
   },
   "source": [
    "## Property patterns"
   ]
  },
  {
   "cell_type": "code",
   "execution_count": 408,
   "metadata": {
    "collapsed": true,
    "deletable": true,
    "editable": true,
    "slideshow": {
     "slide_type": "subslide"
    }
   },
   "outputs": [],
   "source": [
    "@given(st.text())\n",
    "def test_there_and_back_again(text):\n",
    "    assert text.encode('utf-8').decode('utf-8') == text"
   ]
  },
  {
   "cell_type": "code",
   "execution_count": 409,
   "metadata": {
    "collapsed": false,
    "deletable": true,
    "editable": true,
    "slideshow": {
     "slide_type": "-"
    }
   },
   "outputs": [
    {
     "name": "stdout",
     "output_type": "stream",
     "text": [
      ".\r\n",
      "\r\n",
      "==================== 32 tests deselected =====================\r\n",
      "\r\n",
      "1 passed, 32 deselected in 0.67 seconds\r\n"
     ]
    }
   ],
   "source": [
    "!sh pytest.sh test_there_and_back_again"
   ]
  },
  {
   "cell_type": "code",
   "execution_count": 410,
   "metadata": {
    "collapsed": true,
    "deletable": true,
    "editable": true,
    "slideshow": {
     "slide_type": "subslide"
    }
   },
   "outputs": [],
   "source": [
    "@given(st.lists(st.integers(), min_size=1))\n",
    "def test_round_and_around(c):\n",
    "    assert c[::-1][::-1] == c"
   ]
  },
  {
   "cell_type": "code",
   "execution_count": 411,
   "metadata": {
    "collapsed": false,
    "deletable": true,
    "editable": true,
    "slideshow": {
     "slide_type": "-"
    }
   },
   "outputs": [
    {
     "name": "stdout",
     "output_type": "stream",
     "text": [
      ".\r\n",
      "\r\n",
      "==================== 32 tests deselected =====================\r\n",
      "\r\n",
      "1 passed, 32 deselected in 0.66 seconds\r\n"
     ]
    }
   ],
   "source": [
    "!sh pytest.sh test_round_and_around"
   ]
  },
  {
   "cell_type": "code",
   "execution_count": 412,
   "metadata": {
    "collapsed": true,
    "deletable": true,
    "editable": true,
    "slideshow": {
     "slide_type": "subslide"
    }
   },
   "outputs": [],
   "source": [
    "@given(st.integers(), st.integers())\n",
    "def test_different_paths_same_destination(x, y):\n",
    "    assert x + y == y + x"
   ]
  },
  {
   "cell_type": "code",
   "execution_count": 413,
   "metadata": {
    "collapsed": false,
    "deletable": true,
    "editable": true,
    "slideshow": {
     "slide_type": "-"
    }
   },
   "outputs": [
    {
     "name": "stdout",
     "output_type": "stream",
     "text": [
      ".\r\n",
      "\r\n",
      "==================== 32 tests deselected =====================\r\n",
      "\r\n",
      "1 passed, 32 deselected in 0.67 seconds\r\n"
     ]
    }
   ],
   "source": [
    "!sh pytest.sh test_different_paths_same_destination"
   ]
  },
  {
   "cell_type": "code",
   "execution_count": 414,
   "metadata": {
    "collapsed": true,
    "deletable": true,
    "editable": true,
    "slideshow": {
     "slide_type": "subslide"
    }
   },
   "outputs": [],
   "source": [
    "from heapq import heapify, heappop\n",
    "\n",
    "@given(st.lists(st.integers(), min_size=1))\n",
    "def test_some_things_never_change(c):\n",
    "    smallest = min(c)\n",
    "    heapify(c)\n",
    "    assert heappop(c) == smallest"
   ]
  },
  {
   "cell_type": "code",
   "execution_count": 415,
   "metadata": {
    "collapsed": false,
    "deletable": true,
    "editable": true,
    "slideshow": {
     "slide_type": "-"
    }
   },
   "outputs": [
    {
     "name": "stdout",
     "output_type": "stream",
     "text": [
      ".\r\n",
      "\r\n",
      "==================== 32 tests deselected =====================\r\n",
      "\r\n",
      "1 passed, 32 deselected in 0.67 seconds\r\n"
     ]
    }
   ],
   "source": [
    "!sh pytest.sh test_some_things_never_change"
   ]
  },
  {
   "cell_type": "code",
   "execution_count": 416,
   "metadata": {
    "collapsed": true,
    "deletable": true,
    "editable": true,
    "slideshow": {
     "slide_type": "subslide"
    }
   },
   "outputs": [],
   "source": [
    "@given(st.lists(st.integers()))\n",
    "def test_the_more_things_change_the_more_they_stay_the_same(c):\n",
    "    assert set(c) == set(set(c))"
   ]
  },
  {
   "cell_type": "code",
   "execution_count": 417,
   "metadata": {
    "collapsed": false,
    "deletable": true,
    "editable": true,
    "slideshow": {
     "slide_type": "-"
    }
   },
   "outputs": [
    {
     "name": "stdout",
     "output_type": "stream",
     "text": [
      ".\r\n",
      "\r\n",
      "==================== 32 tests deselected =====================\r\n",
      "\r\n",
      "1 passed, 32 deselected in 0.66 seconds\r\n"
     ]
    }
   ],
   "source": [
    "!sh pytest.sh test_the_more_things_change_the_more_they_stay_the_same"
   ]
  },
  {
   "cell_type": "code",
   "execution_count": 418,
   "metadata": {
    "code_folding": [],
    "collapsed": false,
    "deletable": true,
    "editable": true,
    "slideshow": {
     "slide_type": "subslide"
    }
   },
   "outputs": [],
   "source": [
    "from dataset import connect\n",
    "\n",
    "@given(st.lists(st.integers(min_value=0, max_value=1e6), min_size=1))\n",
    "def test_two_heads_are_better_than_one(numbers):\n",
    "    \n",
    "    db = connect('sqlite:///:memory:')\n",
    "    db['nums'].insert_many({'num': x} for x in numbers)\n",
    "    \n",
    "    actual = next(db.query('select sum(num) s from nums'))['s']\n",
    "    expected = sum(numbers)\n",
    "   \n",
    "    assert actual == expected"
   ]
  },
  {
   "cell_type": "code",
   "execution_count": 419,
   "metadata": {
    "collapsed": false,
    "deletable": true,
    "editable": true,
    "slideshow": {
     "slide_type": "-"
    }
   },
   "outputs": [
    {
     "name": "stdout",
     "output_type": "stream",
     "text": [
      ".\r\n",
      "\r\n",
      "==================== 32 tests deselected =====================\r\n",
      "\r\n",
      "1 passed, 32 deselected in 1.17 seconds\r\n"
     ]
    }
   ],
   "source": [
    "!sh pytest.sh test_two_heads_are_better_than_one"
   ]
  },
  {
   "cell_type": "markdown",
   "metadata": {
    "deletable": true,
    "editable": true,
    "slideshow": {
     "slide_type": "subslide"
    }
   },
   "source": [
    "&nbsp;"
   ]
  },
  {
   "cell_type": "markdown",
   "metadata": {
    "deletable": true,
    "editable": true,
    "slideshow": {
     "slide_type": "fragment"
    }
   },
   "source": [
    "* No errors"
   ]
  },
  {
   "cell_type": "markdown",
   "metadata": {
    "deletable": true,
    "editable": true,
    "slideshow": {
     "slide_type": "fragment"
    }
   },
   "source": [
    "* Function pairs"
   ]
  },
  {
   "cell_type": "markdown",
   "metadata": {
    "deletable": true,
    "editable": true,
    "slideshow": {
     "slide_type": "fragment"
    }
   },
   "source": [
    "* Commutivity"
   ]
  },
  {
   "cell_type": "markdown",
   "metadata": {
    "deletable": true,
    "editable": true,
    "slideshow": {
     "slide_type": "fragment"
    }
   },
   "source": [
    "* Inverse"
   ]
  },
  {
   "cell_type": "markdown",
   "metadata": {
    "deletable": true,
    "editable": true,
    "slideshow": {
     "slide_type": "fragment"
    }
   },
   "source": [
    "* Invariants"
   ]
  },
  {
   "cell_type": "markdown",
   "metadata": {
    "deletable": true,
    "editable": true,
    "slideshow": {
     "slide_type": "fragment"
    }
   },
   "source": [
    "* Idempotency"
   ]
  },
  {
   "cell_type": "markdown",
   "metadata": {
    "deletable": true,
    "editable": true,
    "slideshow": {
     "slide_type": "fragment"
    }
   },
   "source": [
    "* Model Based"
   ]
  },
  {
   "cell_type": "markdown",
   "metadata": {
    "deletable": true,
    "editable": true,
    "slideshow": {
     "slide_type": "slide"
    }
   },
   "source": [
    "## Data generation"
   ]
  },
  {
   "cell_type": "code",
   "execution_count": 420,
   "metadata": {
    "collapsed": false,
    "deletable": true,
    "editable": true,
    "slideshow": {
     "slide_type": "subslide"
    }
   },
   "outputs": [],
   "source": [
    "from re import findall\n",
    "from stdnum.isin import is_valid\n",
    "\n",
    "def extract_isin_codes(text):\n",
    "    \"\"\"\n",
    "    Extract strings conforming to the isin code standard\n",
    "    from words in text.\n",
    "    \"\"\"\n",
    "    regex = '[a-zA-Z]{2}[a-zA-Z0-9]{9}[0-9]'\n",
    "    possible_isins = findall(regex, text)\n",
    "    return filter(is_valid, possible_isins)"
   ]
  },
  {
   "cell_type": "code",
   "execution_count": 421,
   "metadata": {
    "collapsed": false,
    "deletable": true,
    "editable": true,
    "slideshow": {
     "slide_type": "subslide"
    }
   },
   "outputs": [],
   "source": [
    "from hypothesis import given, strategies as st\n",
    "\n",
    "@settings(verbosity=Verbosity.verbose)\n",
    "@given(st.text())\n",
    "def test_1_extract_isin_codes(text):\n",
    "    extract_isin_codes(text)"
   ]
  },
  {
   "cell_type": "code",
   "execution_count": 422,
   "metadata": {
    "collapsed": false,
    "deletable": true,
    "editable": true,
    "slideshow": {
     "slide_type": "-"
    }
   },
   "outputs": [
    {
     "name": "stdout",
     "output_type": "stream",
     "text": [
      "Trying example: test_1_extract_isin_codes(text='\\U0007779bS쟫d⍞띍\\U0005e51bⅥè\\U000dba55[진,J\\U00108ff9谟\\U000c8cd9\\U000aea93Ꚉ𡸶\\x1e\\x8f\\x0bKô')\r\n",
      "Trying example: test_1_extract_isin_codes(text='\\U00052520S鍻諗⍜\\U0001bf4d\\U00051829\\U000ef94c𑊗')\r\n",
      "Trying example: test_1_extract_isin_codes(text='\\U00052620𐡃º-\\U000c31ca')\r\n",
      "Trying example: test_1_extract_isin_codes(text='Ŷ')\r\n",
      "Trying example: test_1_extract_isin_codes(text='¦\\U000e104f\\U0005c66a\\ua7ca\\x86\\U000d3863鲦Ǒ\\x01霺英\\n')\r\n",
      "Trying example: test_1_extract_isin_codes(text='\\U000108a6\\U000e114fǚ')\r\n",
      "Trying example: test_1_extract_isin_codes(text='=\\U000e104f(\\U0001cc81\\x850\\x1e\\U000504b1')\r\n",
      "Trying example: test_1_extract_isin_codes(text='H')\r\n",
      "Trying example: test_1_extract_isin_codes(text='3ĺ\\x06^\\U000875aeÁ¶嵱\\n鏿\\U0010dbd1+\\n:\\r\\U000d0e91')\r\n",
      "Trying example: test_1_extract_isin_codes(text='\\U00040833')\r\n",
      "Trying example: test_1_extract_isin_codes(text='ꅗ')\r\n",
      "Trying example: test_1_extract_isin_codes(text='\\U00102444\\U00100227\\U00080f69\\n')\r\n",
      "Trying example: test_1_extract_isin_codes(text='\\U00102444\\U000ffa27\\x0e\\U00080f69씭\\U000ed42e\\U00055a2c\\U00042ce0')\r\n",
      "Trying example: test_1_extract_isin_codes(text='씭\\U00102444\\U00102444\\x0e윭\\U000ed42f\\x0e\\U00062ce0')\r\n",
      "Trying example: test_1_extract_isin_codes(text='')\r\n",
      "Trying example: test_1_extract_isin_codes(text='\\nT⤝齕[\\U0009e6a8\\n')\r\n",
      "Trying example: test_1_extract_isin_codes(text='\\n9ଥᐋ\\n\\U0002d46b!\\x04\\U000b12ab')\r\n",
      "Trying example: test_1_extract_isin_codes(text='\\U0002d46b8\\U000531f5\\n\\n\\n\\U0006b68a\\n᯲鞷»')\r\n",
      "Trying example: test_1_extract_isin_codes(text='-1')\r\n",
      "Trying example: test_1_extract_isin_codes(text='-1➄')\r\n",
      "Trying example: test_1_extract_isin_codes(text='000')\r\n",
      "Trying example: test_1_extract_isin_codes(text='Ųª\\xad')\r\n",
      "Trying example: test_1_extract_isin_codes(text='㼸\\x10')\r\n",
      "Trying example: test_1_extract_isin_codes(text='\\U0003e7c1\\x15i\\U000af530*\"\\n\\U00079ce0n\\n\\U00064191êà\\U000709c9䝨v')\r\n",
      "Trying example: test_1_extract_isin_codes(text='\\U000eccbb覫')\r\n",
      "Trying example: test_1_extract_isin_codes(text='0鹲Ꮲ')\r\n",
      "Trying example: test_1_extract_isin_codes(text='\\U00050018')\r\n",
      "Trying example: test_1_extract_isin_codes(text='0')\r\n",
      "Trying example: test_1_extract_isin_codes(text='薲')\r\n",
      "Trying example: test_1_extract_isin_codes(text='뷃\\U000cbbab숬')\r\n",
      "Trying example: test_1_extract_isin_codes(text='⁇㺎ᅬⴼ㎓')\r\n",
      "Trying example: test_1_extract_isin_codes(text='\\U000ef71e')\r\n",
      "Trying example: test_1_extract_isin_codes(text='M\\n\\x0fÌ蓹둺\\U00099581\\U000e23df𦻈')\r\n",
      "Trying example: test_1_extract_isin_codes(text='M\\U000b537b\\x0f')\r\n",
      "Trying example: test_1_extract_isin_codes(text='M\\U00087098')\r\n",
      "Trying example: test_1_extract_isin_codes(text='\\U000f173f\\U00064aa0¨')\r\n",
      "Trying example: test_1_extract_isin_codes(text='\\U00087098\\U00105880¨')\r\n",
      "Trying example: test_1_extract_isin_codes(text='a쟩')\r\n",
      "Trying example: test_1_extract_isin_codes(text='\\U000fd539\\x18\\x1bǡk')\r\n",
      "Trying example: test_1_extract_isin_codes(text='\\U000ed85f\\n\\x82\\x0e\\U000156a1')\r\n",
      "Trying example: test_1_extract_isin_codes(text='\\U000d7853C')\r\n",
      "Trying example: test_1_extract_isin_codes(text='B取\\x93\\nƒ\\U000e6ffeª\\n')\r\n",
      "Trying example: test_1_extract_isin_codes(text='\\U000c0126\\U000edcf5\\U0005d4dd')\r\n",
      "Trying example: test_1_extract_isin_codes(text='\\nF\\U0010e1f9')\r\n",
      "Trying example: test_1_extract_isin_codes(text='\\U000792a9Ð\\U000f75b6')\r\n",
      "Trying example: test_1_extract_isin_codes(text='/\\x18\\nR\\x90\\U000c73e9\\U000994c4')\r\n",
      "Trying example: test_1_extract_isin_codes(text='!')\r\n",
      "Trying example: test_1_extract_isin_codes(text='Y')\r\n",
      "Trying example: test_1_extract_isin_codes(text='\\x87䫳\\x9dô\\n\\U00047a58廉䢌Y曩')\r\n",
      "Trying example: test_1_extract_isin_codes(text='𠣣\\U0010de9bFö+嗝')\r\n",
      "Trying example: test_1_extract_isin_codes(text='\\x0c\\x00\\n\\U000742325')\r\n",
      "Trying example: test_1_extract_isin_codes(text='\\U0010e321\\U001071fe\\n\\U0007efb4½\\u177c)')\r\n",
      "Trying example: test_1_extract_isin_codes(text='\\U0010e321')\r\n",
      "Trying example: test_1_extract_isin_codes(text='\\U000134eb㽙')\r\n",
      "Trying example: test_1_extract_isin_codes(text='Ⳬ')\r\n",
      "Trying example: test_1_extract_isin_codes(text='Ḗ')\r\n",
      "Trying example: test_1_extract_isin_codes(text='ᰊ\\n\\nùG\\U000a033d,\\nq')\r\n",
      "Trying example: test_1_extract_isin_codes(text='ᑚ\\U0010ffe5\\nWÇ\\U000a073d\\U000a033d𐠱ŉ\\x06\\U0009cebd썐\\U00032f7d`嵄')\r\n",
      "Trying example: test_1_extract_isin_codes(text='˓ᑚ\\x80ᑚ\\U0010ffe5ᑚ\\U00076e4e뵏I\\U00108029\\U00082bb8')\r\n",
      "Trying example: test_1_extract_isin_codes(text='˓4䶏')\r\n",
      "Trying example: test_1_extract_isin_codes(text='æ㪥뽨⊃,寓')\r\n",
      "Trying example: test_1_extract_isin_codes(text='=\\U000442a5\\U0001c768')\r\n",
      "Trying example: test_1_extract_isin_codes(text='萒\\U00016674')\r\n",
      ".\r\n",
      "\r\n",
      "==================== 32 tests deselected =====================\r\n",
      "\r\n",
      "1 passed, 32 deselected in 0.72 seconds\r\n"
     ]
    }
   ],
   "source": [
    "!sh pytest.sh test_1_extract_isin_codes -s"
   ]
  },
  {
   "cell_type": "code",
   "execution_count": 423,
   "metadata": {
    "collapsed": false,
    "deletable": true,
    "editable": true,
    "slideshow": {
     "slide_type": "subslide"
    }
   },
   "outputs": [],
   "source": [
    "from string import ascii_letters, digits\n",
    "from stdnum.isin import _country_codes, from_natid\n",
    "\n",
    "@st.composite\n",
    "def st_isin_codes(draw):\n",
    "    country_code = draw(st.sampled_from(_country_codes))\n",
    "    alphanum = ascii_letters + digits\n",
    "    natid = draw(st.text(alphanum, min_size=9, max_size=9))\n",
    "    return from_natid(country_code, natid)"
   ]
  },
  {
   "cell_type": "code",
   "execution_count": 424,
   "metadata": {
    "collapsed": false,
    "deletable": true,
    "editable": true,
    "scrolled": false,
    "slideshow": {
     "slide_type": "-"
    }
   },
   "outputs": [
    {
     "data": {
      "text/plain": [
       "'GL47J0IHHZ46'"
      ]
     },
     "execution_count": 424,
     "metadata": {},
     "output_type": "execute_result"
    }
   ],
   "source": [
    "st_isin_codes().example()"
   ]
  },
  {
   "cell_type": "code",
   "execution_count": 425,
   "metadata": {
    "collapsed": false,
    "deletable": true,
    "editable": true,
    "slideshow": {
     "slide_type": "subslide"
    }
   },
   "outputs": [],
   "source": [
    "@given(st.lists(st_isin_codes()), st.lists(st.text()), st.randoms())\n",
    "def test_2_extract_isin_codes(isins, tokens, random):\n",
    "    \n",
    "    tokens += isins\n",
    "    random.shuffle(tokens)\n",
    "    text = ' '.join(tokens)\n",
    "    \n",
    "    actual = sorted(extract_isin_codes(text))\n",
    "    expected = sorted(isins)\n",
    "    \n",
    "    assert actual == expected "
   ]
  },
  {
   "cell_type": "code",
   "execution_count": 426,
   "metadata": {
    "collapsed": false,
    "deletable": true,
    "editable": true,
    "scrolled": false,
    "slideshow": {
     "slide_type": "-"
    }
   },
   "outputs": [
    {
     "name": "stdout",
     "output_type": "stream",
     "text": [
      ".\r\n",
      "\r\n",
      "==================== 32 tests deselected =====================\r\n",
      "\r\n",
      "1 passed, 32 deselected in 0.78 seconds\r\n"
     ]
    }
   ],
   "source": [
    "!sh pytest.sh test_2_extract_isin_codes"
   ]
  },
  {
   "cell_type": "code",
   "execution_count": 427,
   "metadata": {
    "collapsed": false,
    "deletable": true,
    "editable": true,
    "slideshow": {
     "slide_type": "subslide"
    }
   },
   "outputs": [],
   "source": [
    "class TextWithIsins:\n",
    "    \n",
    "    def __init__(self, isins, tokens, random):\n",
    "        self.isins, self.tokens = isins, isins + tokens\n",
    "        random.shuffle(self.tokens)\n",
    "        \n",
    "    def __repr__(self):\n",
    "        return ' '.join(self.tokens)\n",
    "\n",
    "    \n",
    "st_text_with_isins = st.builds(TextWithIsins, \n",
    "    isins=st.lists(st_isin_codes()),\n",
    "    tokens=st.lists(st.text()),\n",
    "    random=st.randoms(),\n",
    ")"
   ]
  },
  {
   "cell_type": "code",
   "execution_count": 428,
   "metadata": {
    "collapsed": false,
    "deletable": true,
    "editable": true,
    "slideshow": {
     "slide_type": "subslide"
    }
   },
   "outputs": [],
   "source": [
    "@settings(verbosity=Verbosity.verbose)\n",
    "@given(st_text_with_isins)\n",
    "def test_3_extract_isin_codes(text_with_isins):\n",
    "    actual = sorted(extract_isin_codes(repr(text_with_isins)))\n",
    "    expected = sorted(text_with_isins.isins)\n",
    "    assert actual == expected "
   ]
  },
  {
   "cell_type": "code",
   "execution_count": 429,
   "metadata": {
    "collapsed": false,
    "deletable": true,
    "editable": true,
    "scrolled": false,
    "slideshow": {
     "slide_type": "-"
    }
   },
   "outputs": [
    {
     "name": "stdout",
     "output_type": "stream",
     "text": [
      "Trying example: test_3_extract_isin_codes(text_with_isins=BDUX95ENVQX2 쟫d⍞띍񞔛Ⅵè󛩕[진,J􈿹谟󈳙򮪓Ꚉ𡸶\r\n",
      "\r\n",
      "Kô)\r\n",
      "Trying example: test_3_extract_isin_codes(text_with_isins=\u0005󰤰󜂊\r\n",
      "  CAA9DXJ9CMB6)\r\n",
      "Trying example: test_3_extract_isin_codes(text_with_isins=  󣟆 AWI6BAAVAXI9 GWJDHWHHDEE2)\r\n",
      "Trying example: test_3_extract_isin_codes(text_with_isins=0 򸶿쎠\u0005 񏎍)\r\n",
      "Trying example: test_3_extract_isin_codes(text_with_isins=)\r\n",
      "Trying example: test_3_extract_isin_codes(text_with_isins=Û=쌶(⦖\u001a痕졨񐒱 w>ǂ \r\n",
      "頉\"鞙Q ^E  󭐮񕨬񂳠 n\r\n",
      "´E􍯑+\r\n",
      ":\r\n",
      "󐺑 jĝ\r\n",
      "򊩱J 󗵒\r\n",
      "?蝚¡ ¸ ø󵀩-D󸘥鮇ࠕ AQ0SLBRG2OF9 \u0019\r\n",
      "\r\n",
      "  \r\n",
      "㙸GN\u0018-\r\n",
      "T⤝齕[򞚨\r\n",
      " ')\r\n",
      "Trying example: test_3_extract_isin_codes(text_with_isins=ڥ\u001b𒢥  GSGZRHVLPCB6 REAAQA4ACAC7 )\r\n",
      "Trying example: test_3_extract_isin_codes(text_with_isins=GSA8LD9SWAS3 X*\"\r\n",
      "񹳠n\r\n",
      "񤆑êà񰧉䝨v DEHNQXQK1LH8 VNFX3DLTG644 AXP9GDBASEE9 CO3L82ODMJ73 ZMONLA5JR193 XCNBI4CODJF5 AMQ4ZNSZKQG8  EH7CTUCAPXW6 IREGXLOGJQD3 °\r\n",
      "  LR8IPOPTL0L3 \tI֍` BDPPAYDTLCD8 GMRW0EXSRJV8)\r\n",
      "Trying example: test_3_extract_isin_codes(text_with_isins=UAFBA8B7LZF4 FOCHX9W5KMB9 NPVJTBQ0DAS3 󣽕)\r\n",
      "Trying example: test_3_extract_isin_codes(text_with_isins=MGFLKSBHAYE3 CX3ZTKJF21D1 쵑񦘯 IDOGMASJPLF6 GTMSOWAZCID8 GLABJAUCAAO7 Ҹ򱩁卣\u001f赭  뀓\r\n",
      "箃\r\n",
      "\u001bǡk)\r\n",
      "Trying example: test_3_extract_isin_codes(text_with_isins=\r\n",
      "򲼫旲取\r\n",
      "ƒ󦿾ª\r\n",
      " UMLI1R8WALL4 GEEMMHRN9846 KMFIVUWOKPV7 JMHWQ3VMA222 PAL8JCA5A8E8 NAF3Q8AVHTP3 KMIB9N9HI5S2 AICGWN03ODL0 YEROF732H0M1 USPW32ZV0AV3 HNXYPONVMAZ9)\r\n",
      "Trying example: test_3_extract_isin_codes(text_with_isins=CXCCCJARWWQ4 SLAPAQ23IAA9 \r\n",
      "Ę㙦 錓𖬻󠵧󪚓򤙤萝 )\r\n",
      "Trying example: test_3_extract_isin_codes(text_with_isins=  )\r\n",
      "Trying example: test_3_extract_isin_codes(text_with_isins=򥍁2  埢  几򫫤;)\r\n",
      "Trying example: test_3_extract_isin_codes(text_with_isins= \r\n",
      "\u0000\r\n",
      "񴈲5 SGY2TOR4E3V7)\r\n",
      "Trying example: test_3_extract_isin_codes(text_with_isins=REBY2BATBA21)\r\n",
      "Trying example: test_3_extract_isin_codes(text_with_isins=ZAOEEB0BGWU7 \u000f\u0001)\r\n",
      "Trying example: test_3_extract_isin_codes(text_with_isins= SAWRYF0LRGE6)\r\n",
      "Trying example: test_3_extract_isin_codes(text_with_isins=WF4DQEEM7WE3 )\r\n",
      "Trying example: test_3_extract_isin_codes(text_with_isins=TZFJWBV1MLD1 \u0006򜺽썐𲽽`嵄 PTC4LESTYIZ0 FRGHSPZMTQE4 CK6YAFKEV462 HUTRLTXUDTC3)\r\n",
      "Trying example: test_3_extract_isin_codes(text_with_isins=CYYQEXQXZ6I0 NOQJEPN2QKM5 JMGXL0HR76H2)\r\n",
      "Trying example: test_3_extract_isin_codes(text_with_isins=򼰽yଇ\r\n",
      "   GGJRRZYL7N05 AIK3MZ3PTBY5 뽨⊃,寓 )\r\n",
      "Trying example: test_3_extract_isin_codes(text_with_isins=󐱋)\r\n",
      "Trying example: test_3_extract_isin_codes(text_with_isins=Rݧ\u0017򀉠\u0002v\r\n",
      "୥ ᚄÄ􃝹M􌊔4񢠌\r\n",
      "򛍥  錘1\r\n",
      "񗏘 򸤩󲺰댹 \r\n",
      "µ谦Ľȓ涱򾐉-伌9 9  \r\n",
      "𓢖 )\r\n",
      "Trying example: test_3_extract_isin_codes(text_with_isins=DZGBXZ2PQDH8 NIKIABS3NBR8 PRNFWPBMO7D0 REGB7EAAMQZ1 SSPRRN7YEIQ0 XSLHYYPAXIW2 VIIMCWWBME44)\r\n",
      "Trying example: test_3_extract_isin_codes(text_with_isins=KPPFNUIYFGN6 GRSYI42MMAU7 CHXLGURMDEW3 SJNVDS2PHHR0 LCG9UEKVNXL4)\r\n",
      "Trying example: test_3_extract_isin_codes(text_with_isins=TFMRBGZ4P331 DKJLIKXAFF63 GMY3OOHCBUH7 AFRVTSP2GUU5 򹱬ፑ¢l赞늪估㻀򭌱񳨀\u0015񙻧񸫍 TMNRATYTBWU1 󢕲 NC1TOPSLHQV4 CLKZGPAOCAE2 GNIROMWCGJN3 SLWFUDHNT5Z3 TT62HV2AMOR5 ASB8YW7LEDX7)\r\n",
      "Trying example: test_3_extract_isin_codes(text_with_isins=PKOY5HBVUA93)\r\n",
      "Trying example: test_3_extract_isin_codes(text_with_isins=񬱋 𸄇\r\n",
      "򟻐\r\n",
      "\u001f\u0016Ę᜞g'\r\n",
      "~񹍮񗻓 ß\r\n",
      "򍌋\r\n",
      "󿧸º\u0019r \r\n",
      "莝񊷚霽𖂬񨤂𨻾\u001b  ú򱶬Ǝ\r\n",
      " 闢 Ʊ IOBWW1NNVPE8 MGMGNCHDCRR5  HKUUSRW0EY23 GTVNG7WEAGV6 KYWEINM2AKX3  \u0017 SMTEXMXMQNX3 FMNSM76XUS87 PGMWVBIOFCS8)\r\n",
      "Trying example: test_3_extract_isin_codes(text_with_isins=񼮒\u0018)\r\n",
      "Trying example: test_3_extract_isin_codes(text_with_isins=TLAXWZXNWMC9 㝻Y F ⯂ŮĢ슇B郂򰄳 \u001a\u0015\r\n",
      "飾\r\n",
      "!ƒ򋔽\r\n",
      "ĳƩ]×𔣐\r\n",
      " 䃾p缅 RUGIMA61UV34  긒 MGIJCAAUGET8 ೧䜅㶘𱾣ć텎󫣴xĂ\u0002ꢅ\u001b·쳷*\r\n",
      "Þ )\r\n",
      "Trying example: test_3_extract_isin_codes(text_with_isins= AEHZUVGXEOL6 CWENEVMUZDD0  󩚾瘇ą򵪌 NRHYB4S4PBA4 PFW7Z0QWUSP3)\r\n",
      "Trying example: test_3_extract_isin_codes(text_with_isins=IRJUJVTSGHN9 ઴򐡰 Ȱ򍃸\u0002󩚾𝻦   󉚾 )\r\n",
      "Trying example: test_3_extract_isin_codes(text_with_isins= MU4UZTSULKZ0  󍓼N𖨱򉃸)\r\n",
      "Trying example: test_3_extract_isin_codes(text_with_isins=NRRFLUE5QAQ5 BNMH9MZIAOX8 ISMKD8S1IYM1 MLEMT1DM3VK9 SMHG7JLKDGB0 SSXARUIRTV07 N¿󄡾򃹬򛩩鵪綦뫡󧭱󂭶񑿁񉴑m` MX413D0RHAE8 \u0015\r\n",
      "×󕦭⢂  \r\n",
      "񮚫I\u0011M\u001aC\u0016ਅ  ㋨䑵+\r\n",
      "^ 񸮈 '\u0014 )\r\n",
      "Trying example: test_3_extract_isin_codes(text_with_isins=BJAFLUAARAU4  SSABLUAAAA28)\r\n",
      "Trying example: test_3_extract_isin_codes(text_with_isins=UYAAAUAEAA00)\r\n",
      "Trying example: test_3_extract_isin_codes(text_with_isins=ATAAASAAAA25)\r\n",
      "Trying example: test_3_extract_isin_codes(text_with_isins=ATAAAAAAAA25)\r\n",
      "Trying example: test_3_extract_isin_codes(text_with_isins=SOGABAAQAA25)\r\n",
      "Trying example: test_3_extract_isin_codes(text_with_isins=KNAAAAIQAGA7)\r\n",
      "Trying example: test_3_extract_isin_codes(text_with_isins=KNAAAAYQAGA4)\r\n",
      "Trying example: test_3_extract_isin_codes(text_with_isins=󍺶\" TLZU7Y2TYVC5 HUNV4NG6D3M8 罚鮇Gb  CGXMGEXZLRA8 LBZG01ET9HT7 󾜄ć9󙥢\u0002{i򊝍4R𠍭¤Þ\u001aį)\r\n",
      "Trying example: test_3_extract_isin_codes(text_with_isins=MZATZ0C1Z962 CDBXAGMAAAZ8 󍺶)\r\n",
      "Trying example: test_3_extract_isin_codes(text_with_isins=먯Ŋ\r\n",
      "\u001b¥癜쎦𰀣񈎹é,j򉏊\u0001â VUTAPOID2NY7 BMAQAAAAAAO9 x wƻ𮡒񮠃\t\r\n",
      " {襙󟪺偺󞽇T REAAAAYMPQF3 蟴ß\u0013 ¬)\r\n",
      "Trying example: test_3_extract_isin_codes(text_with_isins= )\r\n",
      "Trying example: test_3_extract_isin_codes(text_with_isins=AGAZQANYAAK1 FIVDLSFEV801 BS5X85GMG218 󎸛ㆩሎ#! PYEKDINIC4O7 BMAV2HAMVGB3 NGHZP8ZKZZG1 TJB033NTMXL6 ETUWEGBRBOE5 SGQ05CZ2QTB7 GISDK3QIEXV9 HMUDLIDZTOC9 IM4JEDSONFO1)\r\n",
      "Trying example: test_3_extract_isin_codes(text_with_isins= 0 )\r\n",
      "Trying example: test_3_extract_isin_codes(text_with_isins=BZZZHHASHPA3 BQZA9AEAAAP9)\r\n",
      " \u0017\r\n",
      "󯚾\r\n",
      "禐\u001b\r\n",
      "ŋ\u00117逞蒾񓻡¢𘫅唦𤱣둂%,\b\r\n",
      "臰Șª灏Ç\u0017\u0017_.\r\n",
      "򎲆¿F񼤻Ꮓ |_ °đC핅𙜸\u001f@\r\n",
      " IEOTAAAFAAA4 󲜵껤\u0016򧗪\u0004l韬㠤Rö\" \r\n",
      "󬙴󛠗X 1ᓌ%c粜ƽ Ĩ鳷\u00196숨\r\n",
      "Ų 崧 )\r\n",
      "Trying example: test_3_extract_isin_codes(text_with_isins=庅\u001fꏯ)\r\n",
      "Trying example: test_3_extract_isin_codes(text_with_isins=REAAPAAAAGA0 훶c)\r\n",
      "Trying example: test_3_extract_isin_codes(text_with_isins=ţ凳U걘 .:lڊE\r\n",
      "򍿄Ồ  )\r\n",
      "Trying example: test_3_extract_isin_codes(text_with_isins= 󴋽 XS96GLAG72G2 GAQG63Y1BBP5 KMAYPGMG3G44 NOAGSA6VTLC3 󪢟)\r\n",
      "Trying example: test_3_extract_isin_codes(text_with_isins=Ꮌ𦪒󋓜Ą MKSR6UZ6T7K1 NGN8Q7FZE2O1 9⻐祷i_񰂡 \r\n",
      "󄰛򃥪  \r\n",
      "ǡ PFD9F6YG66G1 ğ󛻈**󇁹 )\r\n",
      "Trying example: test_3_extract_isin_codes(text_with_isins=DJBZE8IDYDL0)\r\n",
      "Trying example: test_3_extract_isin_codes(text_with_isins=򂗘_򫦀 舯K깢𧩚뭂\r\n",
      "該À;\u0002򉤖 蔹\r\n",
      "0ĕ\u0010󂬿s򃝹\u0011 󀳃é   𽅎\r\n",
      "𚏹𹎥򭞄򭳢𬯹ųªD둱  򑼯)\r\n",
      "Trying example: test_3_extract_isin_codes(text_with_isins=âኼ霙  \r\n",
      "➲ą򹶵5x񋂹\u0013􋺒䙗  GWPGDNGTDMM3 TGWAXAAATYE4)\r\n",
      "Trying example: test_3_extract_isin_codes(text_with_isins=SRUXTNAAHSA5 MRWMJXFJ9EJ3 񖶕)\r\n",
      "Trying example: test_3_extract_isin_codes(text_with_isins=ZMLIGMCWAPG8)\r\n",
      "Trying example: test_3_extract_isin_codes(text_with_isins=ILSBWI3DF7C6)\r\n",
      "Trying example: test_3_extract_isin_codes(text_with_isins=MKYPERAWYWP3 GQ3ALC8AUZE3)\r\n",
      "Trying example: test_3_extract_isin_codes(text_with_isins=񙰳  `񴮼\r\n",
      " 𛾎q鳱匬Ĳŧ\u0019A 󙕷D 𫜕hW \r\n",
      "\u001aw񂴬KÐ򹍈î \r\n",
      "\u0013𭀠󜃯厶b걮∳ \r\n",
      "慆\u0015:8䗐Ŋ)\r\n",
      "Trying example: test_3_extract_isin_codes(text_with_isins=REAAAAAAAAA5 )\r\n",
      "Trying example: test_3_extract_isin_codes(text_with_isins= 0)\r\n",
      ".\r\n",
      "\r\n",
      "==================== 32 tests deselected =====================\r\n",
      "\r\n",
      "1 passed, 32 deselected in 0.79 seconds\r\n"
     ]
    }
   ],
   "source": [
    "!sh pytest.sh test_3_extract_isin_codes -s"
   ]
  },
  {
   "cell_type": "code",
   "execution_count": 430,
   "metadata": {
    "collapsed": false,
    "deletable": true,
    "editable": true,
    "slideshow": {
     "slide_type": "subslide"
    }
   },
   "outputs": [
    {
     "data": {
      "text/plain": [
       "[[{'\\n邠·n°': 9007199254740992.0, '䕕\\U0009c859': False},\n",
       "  {'': ['\\x05',\n",
       "    -0.7953042655303273,\n",
       "    False,\n",
       "    True,\n",
       "    '푭렲',\n",
       "    -inf,\n",
       "    False,\n",
       "    5.732881846031734e+18,\n",
       "    None,\n",
       "    False,\n",
       "    None,\n",
       "    False,\n",
       "    False],\n",
       "   '\\n': {},\n",
       "   '@D': ['⻨䃎䟞\\nǭť\\n믐è萜Ɗ\\u1ca9榃Ó', None, -0.99999, inf],\n",
       "   '\\x9c\\x8c8\\x04(\\x07\\n崕\\U0004f80c\\U00078c8a\\U000fcfcd': ['ð',\n",
       "    False,\n",
       "    None,\n",
       "    False,\n",
       "    nan,\n",
       "    None,\n",
       "    '',\n",
       "    -9.929792697524115e+17],\n",
       "   'Ƣ\\x0f': 0.6305258879649471,\n",
       "   '☶Ŗ\\n\\U000997b1Â\\U0006ea1c\\\\Ő\\x11}': [0.6844653687167109,\n",
       "    False,\n",
       "    None,\n",
       "    7.088699320972906e-140,\n",
       "    None,\n",
       "    2.0454715940347337e-175,\n",
       "    None,\n",
       "    '\\U0007ae0f',\n",
       "    '\\U000dc39e刎'],\n",
       "   '恅': ['䡞-$', 0.0],\n",
       "   '\\U00107a2a$': False},\n",
       "  True,\n",
       "  {'': {'': '\\U000cd243ÜòQ\\U000d7aabb\\U0005be46\\U000856cc㛱]\\x1bኗ5\\n됡ꓸ\\U00012870q煚𐅜D.鬶ˁ\\U00091709\\n\\U00057475\\n\\U0010e6682𗚄\\x07',\n",
       "    \"9'$ţᦓ鞔\\\\Ç筋\": True,\n",
       "    ']\\U0009f066Ċ<': True,\n",
       "    '\\x8c儋\\x82\\U000344a6\\U0010b9db⏂\\n\\U000eadc9\\U00073a88\\U000e8082': False,\n",
       "    '\\x9c6匍\\U000732e7': -0.08254987374875995,\n",
       "    '¡\\\\T-': True,\n",
       "    '걻': False,\n",
       "    '\\U0001927c\\n\\U0005378d': True,\n",
       "    '\\U00056059Þ\\x1d瓌\\U000e57ba\\n漹\\U000fa33e\\x17\\U0004f2d3\\U000e3541$': '∯\\n',\n",
       "    '\\U000bb74c\\n': 'ß\\U000bc390',\n",
       "    '\\U000be0aeė\\x07\\x98': 0.72079183352242,\n",
       "    '\\U000bf207㭶K5\\n': 'ĉĤ\\U00073448岾\\U0002f419\\U000a0451\\x04ÐR',\n",
       "    '\\U00100562Z\\U000717ee\\U000a9aa5': None,\n",
       "    '\\U00106894Pe\\U000db833': None},\n",
       "   '\\x10': {'\\n𨍛\\x1eÉ{瀛': None, 'l\\n\\n❆뿅\\U0004247e䗥R': 0.22294013625550207},\n",
       "   '®\\x15\\n\\U00034dcc\\x11絰 낶_뉽': {'': '\\x1f¦Yഩ\\U000ca8ee쯅\\U00082cb03!',\n",
       "    '\\n': inf,\n",
       "    '\\n矙': '¶\\r\\U000707fe\\n\\U000b63c7',\n",
       "    '㼕': -2.2250738585072014e-308,\n",
       "    '\\U0003b44bt': None},\n",
       "   'ȹ\\U00062ca2\\U000c6385\\x08⭫Ä\\x14\\n4\"\\n\\U0004d974\\U000dafae*\\U000515ee': ''},\n",
       "  {'h': '⧝@¬\\U000e1c3b\\x0e¿©/ËN', 'Ô': None, '\\U0003c4bf\\xa0\\U0004e19cE': nan},\n",
       "  {'': '',\n",
       "   '\\n\\x16{±≛|îT㳙': '',\n",
       "   'Ꝃ\\U000fecf7ꎗ3ă\\x97\\U000d9e7aỆ\\x9b\\x83\\U00078c93uė': None}]]"
      ]
     },
     "execution_count": 430,
     "metadata": {},
     "output_type": "execute_result"
    }
   ],
   "source": [
    "nodes = st.floats() | st.booleans() | st.text() | st.none()\n",
    "children = lambda x: st.lists(x) | st.dictionaries(st.text(), x)\n",
    "st.recursive(nodes, children).example()"
   ]
  },
  {
   "cell_type": "markdown",
   "metadata": {
    "deletable": true,
    "editable": true,
    "slideshow": {
     "slide_type": "subslide"
    }
   },
   "source": [
    "&nbsp;"
   ]
  },
  {
   "cell_type": "markdown",
   "metadata": {
    "deletable": true,
    "editable": true,
    "slideshow": {
     "slide_type": "fragment"
    }
   },
   "source": [
    "* Input data often needs to be a particular shape"
   ]
  },
  {
   "cell_type": "markdown",
   "metadata": {
    "deletable": true,
    "editable": true,
    "slideshow": {
     "slide_type": "fragment"
    }
   },
   "source": [
    "* PBT Frameworks offer data generation mechanisms"
   ]
  },
  {
   "cell_type": "markdown",
   "metadata": {
    "deletable": true,
    "editable": true,
    "slideshow": {
     "slide_type": "fragment"
    }
   },
   "source": [
    "* Hypothesis is very advanced in this respect"
   ]
  },
  {
   "cell_type": "markdown",
   "metadata": {
    "deletable": true,
    "editable": true,
    "slideshow": {
     "slide_type": "slide"
    }
   },
   "source": [
    "## Stateful Testing"
   ]
  },
  {
   "cell_type": "code",
   "execution_count": 431,
   "metadata": {
    "code_folding": [],
    "collapsed": true,
    "deletable": true,
    "editable": true,
    "slideshow": {
     "slide_type": "subslide"
    }
   },
   "outputs": [],
   "source": [
    "class Queue(object):\n",
    "    \"\"\"FIFO queue with a maximum size\"\"\"\n",
    "\n",
    "    def __init__(self, max_size):\n",
    "        self._buffer = [None] * max_size\n",
    "        self._in, self._out, self.max_size = 0, 0, max_size\n",
    "\n",
    "    def put(self, item):\n",
    "        self._buffer[self._in] = item\n",
    "        self._in = (self._in + 1) % self.max_size\n",
    "\n",
    "    def get(self):\n",
    "        result = self._buffer[self._out]\n",
    "        self._out = (self._out + 1) % self.max_size\n",
    "        return result\n",
    "\n",
    "    def __len__(self):\n",
    "        return (self._in - self._out) % self.max_size"
   ]
  },
  {
   "cell_type": "code",
   "execution_count": 432,
   "metadata": {
    "collapsed": true,
    "deletable": true,
    "editable": true,
    "slideshow": {
     "slide_type": "subslide"
    }
   },
   "outputs": [],
   "source": [
    "import itertools"
   ]
  },
  {
   "cell_type": "code",
   "execution_count": 433,
   "metadata": {
    "collapsed": false,
    "deletable": true,
    "editable": true,
    "slideshow": {
     "slide_type": "-"
    }
   },
   "outputs": [
    {
     "data": {
      "text/plain": [
       "[('new', 'put', 'get', 'size'),\n",
       " ('new', 'put', 'size', 'get'),\n",
       " ('new', 'get', 'put', 'size'),\n",
       " ('new', 'get', 'size', 'put'),\n",
       " ('new', 'size', 'put', 'get'),\n",
       " ('new', 'size', 'get', 'put'),\n",
       " ('put', 'new', 'get', 'size'),\n",
       " ('put', 'new', 'size', 'get'),\n",
       " ('put', 'get', 'new', 'size'),\n",
       " ('put', 'get', 'size', 'new'),\n",
       " ('put', 'size', 'new', 'get'),\n",
       " ('put', 'size', 'get', 'new'),\n",
       " ('get', 'new', 'put', 'size'),\n",
       " ('get', 'new', 'size', 'put'),\n",
       " ('get', 'put', 'new', 'size'),\n",
       " ('get', 'put', 'size', 'new'),\n",
       " ('get', 'size', 'new', 'put'),\n",
       " ('get', 'size', 'put', 'new'),\n",
       " ('size', 'new', 'put', 'get'),\n",
       " ('size', 'new', 'get', 'put'),\n",
       " ('size', 'put', 'new', 'get'),\n",
       " ('size', 'put', 'get', 'new'),\n",
       " ('size', 'get', 'new', 'put'),\n",
       " ('size', 'get', 'put', 'new')]"
      ]
     },
     "execution_count": 433,
     "metadata": {},
     "output_type": "execute_result"
    }
   ],
   "source": [
    "operations = 'new', 'put', 'get', 'size'\n",
    "list(itertools.permutations(operations))"
   ]
  },
  {
   "cell_type": "code",
   "execution_count": 434,
   "metadata": {
    "collapsed": true,
    "slideshow": {
     "slide_type": "subslide"
    }
   },
   "outputs": [],
   "source": [
    "from hypothesis.stateful import RuleBasedStateMachine\n",
    "from hypothesis.stateful import rule, precondition"
   ]
  },
  {
   "cell_type": "code",
   "execution_count": 435,
   "metadata": {
    "code_folding": [
     10,
     17,
     22,
     28
    ],
    "collapsed": false,
    "deletable": true,
    "editable": true,
    "slideshow": {
     "slide_type": "subslide"
    }
   },
   "outputs": [],
   "source": [
    "class QueueStateMachine(RuleBasedStateMachine):\n",
    "    \n",
    "    Actual, Model = Queue, list\n",
    "\n",
    "    is_created = lambda self: hasattr(self, 'model')\n",
    "    is_not_created = lambda self: not hasattr(self, 'model')\n",
    "    is_not_empty = lambda self: hasattr(self, 'model') \\\n",
    "                                and self.model\n",
    "    \n",
    "    @precondition(is_not_created)\n",
    "    @rule(max_size=st.integers(min_value=1, max_value=5))\n",
    "    def new(self, max_size):\n",
    "        self.actual = self.Actual(max_size) \n",
    "        self.model = self.Model()\n",
    "        self.max_size = max_size\n",
    "\n",
    "    @precondition(is_created)\n",
    "    @rule(item=st.integers())\n",
    "    def put(self, item):\n",
    "        self.actual.put(item), self.model.append(item)\n",
    "\n",
    "    @precondition(is_not_empty)\n",
    "    @rule()\n",
    "    def get(self):\n",
    "        actual, model = self.actual.get(), self.model.pop()\n",
    "        assert actual == model\n",
    "\n",
    "    @precondition(is_created)\n",
    "    @rule()\n",
    "    def length(self):\n",
    "        actual, model = len(self.actual), len(self.model)\n",
    "        assert actual == model"
   ]
  },
  {
   "cell_type": "code",
   "execution_count": 436,
   "metadata": {
    "collapsed": true,
    "slideshow": {
     "slide_type": "subslide"
    }
   },
   "outputs": [],
   "source": [
    "test_queue_stateful_1 = QueueStateMachine.TestCase"
   ]
  },
  {
   "cell_type": "code",
   "execution_count": 437,
   "metadata": {
    "code_folding": [],
    "collapsed": false,
    "deletable": true,
    "editable": true,
    "slideshow": {
     "slide_type": "skip"
    }
   },
   "outputs": [],
   "source": [
    "class QueueStateMachine(QueueStateMachine):\n",
    "    # this is a total cheat, the order in which the errors would naturally occur is \n",
    "    # system under test, model, specification. However the narrative is a little\n",
    "    # better when presented as model, specification, system under test, so secretly\n",
    "    # fix the bug with the system under test here\n",
    "    class Actual(Queue):\n",
    "        def __init__(self, max_size):\n",
    "            super().__init__(max_size + 1)\n",
    "            \n",
    "test_queue_stateful_1 = QueueStateMachine.TestCase"
   ]
  },
  {
   "cell_type": "code",
   "execution_count": 438,
   "metadata": {
    "collapsed": false,
    "deletable": true,
    "editable": true,
    "slideshow": {
     "slide_type": "subslide"
    }
   },
   "outputs": [
    {
     "name": "stdout",
     "output_type": "stream",
     "text": [
      "F\r\n",
      "\r\n",
      "========================== FAILURES ==========================\r\n",
      "\r\n",
      "\r\n",
      "_______________ test_queue_stateful_1.runTest ________________\r\n",
      "\r\n",
      "\r\n",
      "test_run.py:299: in length\r\n",
      "\r\n",
      "E   AssertionError: assert 0 == 2\r\n",
      "\r\n",
      "------------------------- Hypothesis -------------------------\r\n",
      "\r\n",
      "Step #1: new(max_size=1)\r\n",
      "Step #2: put(item=0)\r\n",
      "Step #3: put(item=0)\r\n",
      "Step #4: length()\r\n",
      "\r\n",
      "==================== 32 tests deselected =====================\r\n",
      "\r\n",
      "1 failed, 32 deselected in 0.78 seconds\r\n"
     ]
    }
   ],
   "source": [
    "!sh pytest.sh test_queue_stateful_1"
   ]
  },
  {
   "cell_type": "code",
   "execution_count": 439,
   "metadata": {
    "code_folding": [],
    "collapsed": false,
    "deletable": true,
    "editable": true,
    "slideshow": {
     "slide_type": "subslide"
    }
   },
   "outputs": [],
   "source": [
    "class QueueStateMachine2(QueueStateMachine):\n",
    "        \n",
    "    is_not_full = lambda self: (hasattr(self, 'model')\n",
    "                                and len(self.model) < self.max_size)\n",
    "\n",
    "    @precondition(is_not_full)\n",
    "    @rule(item=st.integers())\n",
    "    def put(self, item):\n",
    "        super().put(item)\n",
    "        \n",
    "test_queue_stateful_2 = QueueStateMachine2.TestCase"
   ]
  },
  {
   "cell_type": "code",
   "execution_count": 440,
   "metadata": {
    "collapsed": false,
    "deletable": true,
    "editable": true,
    "scrolled": false,
    "slideshow": {
     "slide_type": "subslide"
    }
   },
   "outputs": [
    {
     "name": "stdout",
     "output_type": "stream",
     "text": [
      "F\r\n",
      "\r\n",
      "========================== FAILURES ==========================\r\n",
      "\r\n",
      "\r\n",
      "_______________ test_queue_stateful_2.runTest ________________\r\n",
      "\r\n",
      "\r\n",
      "test_run.py:293: in get\r\n",
      "\r\n",
      "E   AssertionError: assert 0 == 1\r\n",
      "\r\n",
      "------------------------- Hypothesis -------------------------\r\n",
      "\r\n",
      "Step #1: new(max_size=2)\r\n",
      "Step #2: put(item=0)\r\n",
      "Step #3: put(item=1)\r\n",
      "Step #4: get()\r\n",
      "\r\n",
      "==================== 32 tests deselected =====================\r\n",
      "\r\n",
      "1 failed, 32 deselected in 0.85 seconds\r\n"
     ]
    }
   ],
   "source": [
    "!sh pytest.sh test_queue_stateful_2"
   ]
  },
  {
   "cell_type": "code",
   "execution_count": 441,
   "metadata": {
    "collapsed": true,
    "deletable": true,
    "editable": true,
    "slideshow": {
     "slide_type": "skip"
    }
   },
   "outputs": [],
   "source": [
    "class QueueStateMachine2(QueueStateMachine2):\n",
    "    # undo the cheating fix\n",
    "    Actual = Queue"
   ]
  },
  {
   "cell_type": "code",
   "execution_count": 442,
   "metadata": {
    "code_folding": [],
    "collapsed": true,
    "deletable": true,
    "editable": true,
    "slideshow": {
     "slide_type": "subslide"
    }
   },
   "outputs": [],
   "source": [
    "class QueueStateMachine3(QueueStateMachine2):\n",
    "    \n",
    "    @precondition(QueueStateMachine2.is_not_full)\n",
    "    @rule(item=st.integers())\n",
    "    def put(self, item):\n",
    "        self.actual.put(item), self.model.insert(0, item)\n",
    "        \n",
    "test_queue_stateful_3 = QueueStateMachine3.TestCase"
   ]
  },
  {
   "cell_type": "code",
   "execution_count": 443,
   "metadata": {
    "collapsed": false,
    "deletable": true,
    "editable": true,
    "slideshow": {
     "slide_type": "subslide"
    }
   },
   "outputs": [
    {
     "name": "stdout",
     "output_type": "stream",
     "text": [
      "F\r\n",
      "\r\n",
      "========================== FAILURES ==========================\r\n",
      "\r\n",
      "\r\n",
      "_______________ test_queue_stateful_3.runTest ________________\r\n",
      "\r\n",
      "\r\n",
      "test_run.py:299: in length\r\n",
      "\r\n",
      "E   AssertionError: assert 0 == 1\r\n",
      "\r\n",
      "------------------------- Hypothesis -------------------------\r\n",
      "\r\n",
      "Step #1: new(max_size=1)\r\n",
      "Step #2: put(item=0)\r\n",
      "Step #3: length()\r\n",
      "\r\n",
      "==================== 32 tests deselected =====================\r\n",
      "\r\n",
      "1 failed, 32 deselected in 0.80 seconds\r\n"
     ]
    }
   ],
   "source": [
    "!sh pytest.sh test_queue_stateful_3"
   ]
  },
  {
   "cell_type": "code",
   "execution_count": 444,
   "metadata": {
    "collapsed": false,
    "deletable": true,
    "editable": true,
    "slideshow": {
     "slide_type": "subslide"
    }
   },
   "outputs": [
    {
     "data": {
      "text/plain": [
       "(0, 0)"
      ]
     },
     "execution_count": 444,
     "metadata": {},
     "output_type": "execute_result"
    }
   ],
   "source": [
    "queue = Queue(max_size=1)\n",
    "queue._in, queue._out"
   ]
  },
  {
   "cell_type": "code",
   "execution_count": 445,
   "metadata": {
    "collapsed": false,
    "deletable": true,
    "editable": true,
    "slideshow": {
     "slide_type": "fragment"
    }
   },
   "outputs": [
    {
     "data": {
      "text/plain": [
       "(0, 0)"
      ]
     },
     "execution_count": 445,
     "metadata": {},
     "output_type": "execute_result"
    }
   ],
   "source": [
    "queue.put(0)\n",
    "queue._in, queue._out"
   ]
  },
  {
   "cell_type": "code",
   "execution_count": 446,
   "metadata": {
    "collapsed": false,
    "deletable": true,
    "editable": true,
    "slideshow": {
     "slide_type": "fragment"
    }
   },
   "outputs": [],
   "source": [
    "def put(self, item):\n",
    "    self._buffer[self._in] = item\n",
    "    self._in = (self._in + 1) % self.max_size"
   ]
  },
  {
   "cell_type": "code",
   "execution_count": 447,
   "metadata": {
    "collapsed": true,
    "deletable": true,
    "editable": true,
    "slideshow": {
     "slide_type": "subslide"
    }
   },
   "outputs": [],
   "source": [
    "class Queue2(Queue):\n",
    "    def __init__(self, max_size):\n",
    "        super(Queue2, self).__init__(max_size + 1)\n",
    "\n",
    "class QueueStateMachine4(QueueStateMachine3):\n",
    "    Actual = Queue2\n",
    "    \n",
    "test_queue_stateful_4 = QueueStateMachine4.TestCase"
   ]
  },
  {
   "cell_type": "code",
   "execution_count": 448,
   "metadata": {
    "collapsed": false,
    "deletable": true,
    "editable": true,
    "slideshow": {
     "slide_type": "subslide"
    }
   },
   "outputs": [
    {
     "name": "stdout",
     "output_type": "stream",
     "text": [
      ".\r\n",
      "\r\n",
      "==================== 32 tests deselected =====================\r\n",
      "\r\n",
      "1 passed, 32 deselected in 1.61 seconds\r\n"
     ]
    }
   ],
   "source": [
    "!sh pytest.sh test_queue_stateful_4"
   ]
  },
  {
   "cell_type": "markdown",
   "metadata": {
    "deletable": true,
    "editable": true,
    "slideshow": {
     "slide_type": "subslide"
    }
   },
   "source": [
    "&nbsp;"
   ]
  },
  {
   "cell_type": "markdown",
   "metadata": {
    "deletable": true,
    "editable": true,
    "slideshow": {
     "slide_type": "fragment"
    }
   },
   "source": [
    "* Automatic testing of stateful systems"
   ]
  },
  {
   "cell_type": "markdown",
   "metadata": {
    "slideshow": {
     "slide_type": "fragment"
    }
   },
   "source": [
    "* Interpreting Errors"
   ]
  },
  {
   "cell_type": "markdown",
   "metadata": {
    "deletable": true,
    "editable": true,
    "slideshow": {
     "slide_type": "fragment"
    }
   },
   "source": [
    "&nbsp;&nbsp;&nbsp;&nbsp;&nbsp;&nbsp;&nbsp;&nbsp;• Specification"
   ]
  },
  {
   "cell_type": "markdown",
   "metadata": {
    "deletable": true,
    "editable": true,
    "slideshow": {
     "slide_type": "fragment"
    }
   },
   "source": [
    "&nbsp;&nbsp;&nbsp;&nbsp;&nbsp;&nbsp;&nbsp;&nbsp;• Model"
   ]
  },
  {
   "cell_type": "markdown",
   "metadata": {
    "deletable": true,
    "editable": true,
    "slideshow": {
     "slide_type": "fragment"
    }
   },
   "source": [
    "&nbsp;&nbsp;&nbsp;&nbsp;&nbsp;&nbsp;&nbsp;&nbsp;• System under test"
   ]
  },
  {
   "cell_type": "markdown",
   "metadata": {
    "deletable": true,
    "editable": true,
    "slideshow": {
     "slide_type": "slide"
    }
   },
   "source": [
    "&nbsp;"
   ]
  },
  {
   "cell_type": "markdown",
   "metadata": {
    "slideshow": {
     "slide_type": "fragment"
    }
   },
   "source": [
    "# Stop Writing Tests..."
   ]
  },
  {
   "cell_type": "markdown",
   "metadata": {
    "deletable": true,
    "editable": true,
    "slideshow": {
     "slide_type": "fragment"
    }
   },
   "source": [
    "# ...Start Generating Them!"
   ]
  },
  {
   "cell_type": "markdown",
   "metadata": {
    "deletable": true,
    "editable": true,
    "slideshow": {
     "slide_type": "subslide"
    }
   },
   "source": [
    "# Shrinking - Extract signal from noise"
   ]
  },
  {
   "cell_type": "markdown",
   "metadata": {
    "deletable": true,
    "editable": true,
    "slideshow": {
     "slide_type": "subslide"
    }
   },
   "source": [
    "# Look for property patterns"
   ]
  },
  {
   "cell_type": "markdown",
   "metadata": {
    "deletable": true,
    "editable": true,
    "slideshow": {
     "slide_type": "subslide"
    }
   },
   "source": [
    "# Stateful testing - Auto integration tests"
   ]
  },
  {
   "cell_type": "code",
   "execution_count": 449,
   "metadata": {
    "collapsed": false,
    "deletable": true,
    "editable": true,
    "slideshow": {
     "slide_type": "skip"
    }
   },
   "outputs": [
    {
     "data": {
      "application/javascript": [
       "//$('#clear_all_output').click()"
      ],
      "text/plain": [
       "<IPython.core.display.Javascript object>"
      ]
     },
     "metadata": {},
     "output_type": "display_data"
    }
   ],
   "source": [
    "%%javascript\n",
    "//$('#clear_all_output').click()"
   ]
  },
  {
   "cell_type": "code",
   "execution_count": 451,
   "metadata": {
    "collapsed": false,
    "deletable": true,
    "editable": true,
    "slideshow": {
     "slide_type": "skip"
    }
   },
   "outputs": [
    {
     "data": {
      "text/html": [
       "<link href=\"https://fonts.googleapis.com/css?family=ABeeZee\" rel=\"stylesheet\">\n",
       "<style>body { font-family: 'ABeeZee', serif !important; }</style>"
      ],
      "text/plain": [
       "<IPython.core.display.HTML object>"
      ]
     },
     "metadata": {},
     "output_type": "display_data"
    }
   ],
   "source": [
    "%%HTML\n",
    "<link href=\"https://fonts.googleapis.com/css?family=ABeeZee\" rel=\"stylesheet\">\n",
    "<style>body { font-family: 'ABeeZee', serif !important; }</style>"
   ]
  }
 ],
 "metadata": {
  "celltoolbar": "Slideshow",
  "kernelspec": {
   "display_name": "Python 3",
   "language": "python",
   "name": "python3"
  },
  "language_info": {
   "codemirror_mode": {
    "name": "ipython",
    "version": 3
   },
   "file_extension": ".py",
   "mimetype": "text/x-python",
   "name": "python",
   "nbconvert_exporter": "python",
   "pygments_lexer": "ipython3",
   "version": "3.6.0"
  },
  "livereveal": {
   "scroll": true,
   "theme": "black",
   "transition": "fade"
  }
 },
 "nbformat": 4,
 "nbformat_minor": 0
}
