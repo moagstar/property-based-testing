{
 "cells": [
  {
   "cell_type": "code",
   "execution_count": null,
   "metadata": {
    "collapsed": false,
    "deletable": true,
    "editable": true,
    "slideshow": {
     "slide_type": "notes"
    }
   },
   "outputs": [],
   "source": [
    "%%javascript\n",
    "$('#run_all_cells_below').click()"
   ]
  },
  {
   "cell_type": "code",
   "execution_count": null,
   "metadata": {
    "collapsed": true,
    "deletable": true,
    "editable": true,
    "slideshow": {
     "slide_type": "notes"
    }
   },
   "outputs": [],
   "source": [
    "from hypothesis import settings\n",
    "\n",
    "settings.register_profile(\"presentation\", settings(\n",
    "    database_file=None, \n",
    "    max_examples=100, \n",
    "    stateful_step_count=1000,\n",
    "))\n",
    "\n",
    "settings.load_profile(\"presentation\")"
   ]
  },
  {
   "cell_type": "markdown",
   "metadata": {
    "deletable": true,
    "editable": true,
    "slideshow": {
     "slide_type": "slide"
    }
   },
   "source": [
    "# Property Based Testing\n",
    "## Using Hypothesis<br><br><br>\n",
    "### Amsterdam Python Meetup\n",
    "### 26 April 2017<br><br><br>\n",
    "### Daniel Bradburn"
   ]
  },
  {
   "cell_type": "markdown",
   "metadata": {
    "deletable": true,
    "editable": true,
    "slideshow": {
     "slide_type": "subslide"
    }
   },
   "source": [
    "Property based testing"
   ]
  },
  {
   "cell_type": "markdown",
   "metadata": {
    "deletable": true,
    "editable": true,
    "slideshow": {
     "slide_type": "fragment"
    }
   },
   "source": [
    "Choosing properties"
   ]
  },
  {
   "cell_type": "markdown",
   "metadata": {
    "deletable": true,
    "editable": true,
    "slideshow": {
     "slide_type": "fragment"
    }
   },
   "source": [
    "Generating data"
   ]
  },
  {
   "cell_type": "markdown",
   "metadata": {
    "deletable": true,
    "editable": true,
    "slideshow": {
     "slide_type": "fragment"
    }
   },
   "source": [
    "Stateful testing"
   ]
  },
  {
   "cell_type": "markdown",
   "metadata": {
    "deletable": true,
    "editable": true,
    "slideshow": {
     "slide_type": "slide"
    }
   },
   "source": [
    "## Property Based Testing"
   ]
  },
  {
   "cell_type": "code",
   "execution_count": null,
   "metadata": {
    "collapsed": false,
    "deletable": true,
    "editable": true,
    "slideshow": {
     "slide_type": "subslide"
    }
   },
   "outputs": [],
   "source": [
    "def encode(text):\n",
    "    \"\"\"\n",
    "    Run length encode text - repeated characters are replaced\n",
    "    by a single instance followed by the count.\n",
    "    \"\"\"\n",
    "    prev, count, result = '', '', []\n",
    "    \n",
    "    for curr in text:\n",
    "        if prev == curr:\n",
    "            count += 1\n",
    "        else:\n",
    "            result.append(f'{prev}{count}')\n",
    "            prev, count = curr, 1\n",
    "    else:\n",
    "        result.append(f'{curr}{count}')\n",
    "        \n",
    "    return ''.join(result)"
   ]
  },
  {
   "cell_type": "code",
   "execution_count": 78,
   "metadata": {
    "collapsed": false,
    "deletable": true,
    "editable": true,
    "scrolled": false,
    "slideshow": {
     "slide_type": "subslide"
    }
   },
   "outputs": [
    {
     "data": {
      "text/plain": [
       "'h1e1l2o1'"
      ]
     },
     "execution_count": 78,
     "metadata": {},
     "output_type": "execute_result"
    }
   ],
   "source": [
    "encode('hello')"
   ]
  },
  {
   "cell_type": "code",
   "execution_count": null,
   "metadata": {
    "collapsed": true,
    "deletable": true,
    "editable": true,
    "slideshow": {
     "slide_type": "subslide"
    }
   },
   "outputs": [],
   "source": [
    "from re import sub\n",
    "\n",
    "def decode(text):\n",
    "    \"\"\"\n",
    "    Run length decode text - characters followed by a count n\n",
    "    are replaced by the character repeated n times.\n",
    "    \"\"\"\n",
    "    grouper = lambda m: m.group(1) * int(m.group(2))\n",
    "    return sub(r'(\\D)(\\d+)', grouper, text)"
   ]
  },
  {
   "cell_type": "code",
   "execution_count": 79,
   "metadata": {
    "collapsed": false,
    "deletable": true,
    "editable": true,
    "slideshow": {
     "slide_type": "subslide"
    }
   },
   "outputs": [
    {
     "data": {
      "text/plain": [
       "'hello'"
      ]
     },
     "execution_count": 79,
     "metadata": {},
     "output_type": "execute_result"
    }
   ],
   "source": [
    "decode('h1e1l2o1')"
   ]
  },
  {
   "cell_type": "code",
   "execution_count": null,
   "metadata": {
    "collapsed": true,
    "deletable": true,
    "editable": true,
    "slideshow": {
     "slide_type": "subslide"
    }
   },
   "outputs": [],
   "source": [
    "def test_run_length_encode():\n",
    "    assert encode('hello') == 'h1e1l2o1'"
   ]
  },
  {
   "cell_type": "code",
   "execution_count": 80,
   "metadata": {
    "collapsed": false,
    "deletable": true,
    "editable": true,
    "scrolled": true,
    "slideshow": {
     "slide_type": "-"
    }
   },
   "outputs": [
    {
     "name": "stdout",
     "output_type": "stream",
     "text": [
      ".\r\n",
      "\r\n",
      "==================== 33 tests deselected =====================\r\n",
      "\r\n",
      "1 passed, 33 deselected in 0.59 seconds\r\n"
     ]
    }
   ],
   "source": [
    "!sh pytest.sh test_run_length_encode"
   ]
  },
  {
   "cell_type": "code",
   "execution_count": null,
   "metadata": {
    "collapsed": true,
    "deletable": true,
    "editable": true,
    "slideshow": {
     "slide_type": "subslide"
    }
   },
   "outputs": [],
   "source": [
    "def test_run_length_decode():\n",
    "    assert decode('h1e1l2o1') == 'hello'"
   ]
  },
  {
   "cell_type": "code",
   "execution_count": 81,
   "metadata": {
    "collapsed": false,
    "deletable": true,
    "editable": true,
    "slideshow": {
     "slide_type": "-"
    }
   },
   "outputs": [
    {
     "name": "stdout",
     "output_type": "stream",
     "text": [
      ".\r\n",
      "\r\n",
      "==================== 33 tests deselected =====================\r\n",
      "\r\n",
      "1 passed, 33 deselected in 0.62 seconds\r\n"
     ]
    }
   ],
   "source": [
    "!sh pytest.sh test_run_length_decode"
   ]
  },
  {
   "cell_type": "code",
   "execution_count": null,
   "metadata": {
    "collapsed": true,
    "deletable": true,
    "editable": true,
    "slideshow": {
     "slide_type": "subslide"
    }
   },
   "outputs": [],
   "source": [
    "import pytest\n",
    "\n",
    "examples = ['hello', 'python', 'meetup', 'amsterdam']\n",
    "\n",
    "@pytest.mark.parametrize('text', examples)\n",
    "def test_parameterized_run_length_encode_decode(text):\n",
    "    assert decode(encode(text)) == text"
   ]
  },
  {
   "cell_type": "code",
   "execution_count": 82,
   "metadata": {
    "collapsed": false,
    "deletable": true,
    "editable": true,
    "slideshow": {
     "slide_type": "-"
    }
   },
   "outputs": [
    {
     "name": "stdout",
     "output_type": "stream",
     "text": [
      "....\r\n",
      "\r\n",
      "==================== 30 tests deselected =====================\r\n",
      "\r\n",
      "4 passed, 30 deselected in 0.59 seconds\r\n"
     ]
    }
   ],
   "source": [
    "!sh pytest.sh test_parameterized_run_length_encode_decode"
   ]
  },
  {
   "cell_type": "code",
   "execution_count": 90,
   "metadata": {
    "collapsed": false,
    "deletable": true,
    "editable": true,
    "slideshow": {
     "slide_type": "subslide"
    }
   },
   "outputs": [],
   "source": [
    "from random import seed, choice, randint\n",
    "\n",
    "seed(0)\n",
    "\n",
    "def randwords(num, max_len):\n",
    "    CHARS = list(map(chr, range(32, 255)))\n",
    "    for _ in range(num):\n",
    "        randrange = range(randint(0, max_len))\n",
    "        randchars = (choice(CHARS) for _ in randrange)\n",
    "        yield ''.join(randchars)\n",
    "\n",
    "@pytest.mark.parametrize('text', randwords(num=5, max_len=5))\n",
    "def test_fuzzed_run_length_encode_decode(text):\n",
    "    assert decode(encode(text)) == text"
   ]
  },
  {
   "cell_type": "code",
   "execution_count": 93,
   "metadata": {
    "collapsed": false,
    "deletable": true,
    "editable": true,
    "scrolled": true,
    "slideshow": {
     "slide_type": "-"
    }
   },
   "outputs": [
    {
     "name": "stdout",
     "output_type": "stream",
     "text": [
      ".....\r\n",
      "\r\n",
      "==================== 29 tests deselected =====================\r\n",
      "\r\n",
      "5 passed, 29 deselected in 0.60 seconds\r\n"
     ]
    }
   ],
   "source": [
    "!sh pytest.sh test_fuzzed_run_length_encode_decode"
   ]
  },
  {
   "cell_type": "code",
   "execution_count": null,
   "metadata": {
    "collapsed": true,
    "deletable": true,
    "editable": true,
    "slideshow": {
     "slide_type": "subslide"
    }
   },
   "outputs": [],
   "source": [
    "from hypothesis import strategies as st, given\n",
    "\n",
    "@given(st.text())\n",
    "def check_property_rle_encode_decode_should_round_trip(text):\n",
    "    assert decode(encode(text)) == text"
   ]
  },
  {
   "cell_type": "code",
   "execution_count": null,
   "metadata": {
    "collapsed": false,
    "deletable": true,
    "editable": true,
    "scrolled": false,
    "slideshow": {
     "slide_type": "-"
    }
   },
   "outputs": [],
   "source": [
    "!sh pytest.sh check_property_rle_encode_decode_should_round_trip"
   ]
  },
  {
   "cell_type": "code",
   "execution_count": null,
   "metadata": {
    "collapsed": true,
    "deletable": true,
    "editable": true,
    "slideshow": {
     "slide_type": "subslide"
    }
   },
   "outputs": [],
   "source": [
    "def encode_fixed(text):\n",
    "    \"\"\"\n",
    "    Run length encode text - repeated characters are replaced\n",
    "    by a single instance followed by the count.\n",
    "    \"\"\"\n",
    "    curr, prev, count, result = '', '', '', []\n",
    "    \n",
    "    for curr in text:\n",
    "        if prev == curr:\n",
    "            count += 1\n",
    "        else:\n",
    "            result.append(f'{prev}{count}')\n",
    "            prev, count = curr, 1\n",
    "    else:\n",
    "        result.append(f'{curr}{count}')\n",
    "        \n",
    "    return ''.join(result)"
   ]
  },
  {
   "cell_type": "code",
   "execution_count": null,
   "metadata": {
    "collapsed": false,
    "deletable": true,
    "editable": true,
    "slideshow": {
     "slide_type": "subslide"
    }
   },
   "outputs": [],
   "source": [
    "@given(st.text())\n",
    "def check_property_fixed_rle_encode_decode_should_round_trip(text):\n",
    "    assert decode(encode_fixed(text)) == text"
   ]
  },
  {
   "cell_type": "code",
   "execution_count": null,
   "metadata": {
    "collapsed": false,
    "deletable": true,
    "editable": true,
    "scrolled": false,
    "slideshow": {
     "slide_type": "-"
    }
   },
   "outputs": [],
   "source": [
    "!sh pytest.sh check_property_fixed_rle_encode_decode_should_round_trip"
   ]
  },
  {
   "cell_type": "code",
   "execution_count": null,
   "metadata": {
    "code_folding": [],
    "collapsed": false,
    "deletable": true,
    "editable": true,
    "slideshow": {
     "slide_type": "subslide"
    }
   },
   "outputs": [],
   "source": [
    "from string import digits\n",
    "\n",
    "@given(st.text(st.characters(blacklist_characters=digits)))\n",
    "def check_property_nonum_rle_encode_decode_should_round_trip(text):\n",
    "    assert decode(encode_fixed(text)) == text"
   ]
  },
  {
   "cell_type": "code",
   "execution_count": null,
   "metadata": {
    "collapsed": false,
    "deletable": true,
    "editable": true,
    "scrolled": false,
    "slideshow": {
     "slide_type": "-"
    }
   },
   "outputs": [],
   "source": [
    "!sh pytest.sh check_property_nonum_rle_encode_decode_should_round_trip"
   ]
  },
  {
   "cell_type": "code",
   "execution_count": null,
   "metadata": {
    "collapsed": false,
    "deletable": true,
    "editable": true,
    "slideshow": {
     "slide_type": "subslide"
    }
   },
   "outputs": [],
   "source": [
    "from hypothesis import settings, Verbosity\n",
    "\n",
    "@settings(verbosity=Verbosity.verbose)\n",
    "@given(st.text())\n",
    "def check_property_verbose_rle_encode_decode_should_round_trip(text):\n",
    "    assert decode(encode_fixed(text)) == text"
   ]
  },
  {
   "cell_type": "code",
   "execution_count": null,
   "metadata": {
    "collapsed": false,
    "deletable": true,
    "editable": true,
    "scrolled": false,
    "slideshow": {
     "slide_type": "-"
    }
   },
   "outputs": [],
   "source": [
    "!sh pytest.sh check_property_verbose_rle_encode_decode_should_round_trip"
   ]
  },
  {
   "cell_type": "code",
   "execution_count": null,
   "metadata": {
    "collapsed": true,
    "deletable": true,
    "editable": true,
    "slideshow": {
     "slide_type": "subslide"
    }
   },
   "outputs": [],
   "source": [
    "from random import seed\n",
    "\n",
    "seed(0)\n",
    "\n",
    "@pytest.mark.parametrize('text', randwords(num=5, max_len=15))\n",
    "def test_fuzzed_more_run_length_encode_decode(text):\n",
    "    assert decode(encode_fixed(text)) == text"
   ]
  },
  {
   "cell_type": "code",
   "execution_count": 85,
   "metadata": {
    "collapsed": false,
    "deletable": true,
    "editable": true,
    "slideshow": {
     "slide_type": "-"
    }
   },
   "outputs": [
    {
     "name": "stdout",
     "output_type": "stream",
     "text": [
      ".FFF.\r\n",
      "\r\n",
      "========================== FAILURES ==========================\r\n",
      "\r\n",
      "\r\n",
      "_____ test_fuzzed_more_run_length_encode_decode[o9\\xda2] _____\r\n",
      "\r\n",
      "\r\n",
      "test_run.py:128: in test_fuzzed_more_run_length_encode_decode\r\n",
      "\r\n",
      "E   AssertionError: assert 'oooooooooooo...ÚÚÚÚÚÚÚÚÚÚÚÚÚ' == 'o9Ú2'\r\n",
      "\r\n",
      "\r\n",
      "___ test_fuzzed_more_run_length_encode_decode[\\x98\\xaf9z\\x8fp\\xbc\\xc3T\\xad] ____\r\n",
      "\r\n",
      "E   AssertionError: assert '\\x98¯¯¯¯¯¯¯¯...z\\x8fp¼ÃT\\xad' == '\\x98¯9z\\x8fp¼ÃT\\xad'\r\n",
      "\r\n",
      "\r\n",
      " test_fuzzed_more_run_length_encode_decode[\\x91\\xfd\\xa5b/\\xee\\xac#7\\xd8\\xf7\\x86\\xd5\\xf3\\xe8] \r\n",
      "\r\n",
      "E   AssertionError: assert '\\x91ý¥b/î¬##...####Ø÷\\x86Õóè' == '\\x91ý¥b/î¬#7Ø÷\\x86Õóè'\r\n",
      "\r\n",
      "\r\n",
      "\r\n",
      "==================== 29 tests deselected =====================\r\n",
      "\r\n",
      "3 failed, 2 passed, 29 deselected in 0.71 seconds\r\n"
     ]
    }
   ],
   "source": [
    "!sh pytest.sh test_fuzzed_more_run_length_encode_decode"
   ]
  },
  {
   "cell_type": "markdown",
   "metadata": {
    "deletable": true,
    "editable": true,
    "slideshow": {
     "slide_type": "slide"
    }
   },
   "source": [
    "## Property patterns"
   ]
  },
  {
   "cell_type": "code",
   "execution_count": null,
   "metadata": {
    "collapsed": true,
    "deletable": true,
    "editable": true,
    "slideshow": {
     "slide_type": "subslide"
    }
   },
   "outputs": [],
   "source": [
    "@given(st.text())\n",
    "def check_property_dont_explode(text):\n",
    "    text.encode('ascii')"
   ]
  },
  {
   "cell_type": "code",
   "execution_count": 94,
   "metadata": {
    "collapsed": false,
    "deletable": true,
    "editable": true,
    "slideshow": {
     "slide_type": "-"
    }
   },
   "outputs": [
    {
     "name": "stdout",
     "output_type": "stream",
     "text": [
      "F\r\n",
      "\r\n",
      "========================== FAILURES ==========================\r\n",
      "\r\n",
      "\r\n",
      "________________ check_property_dont_explode _________________\r\n",
      "\r\n",
      "\r\n",
      "test_run.py:131: in check_property_dont_explode\r\n",
      "\r\n",
      "test_run.py:132: in check_property_dont_explode\r\n",
      "\r\n",
      "E   UnicodeEncodeError: 'ascii' codec can't encode character '\\x80' in position 0: ordinal not in range(128)\r\n",
      "\r\n",
      "------------------------- Hypothesis -------------------------\r\n",
      "\r\n",
      "Falsifying example: check_property_dont_explode(text='\\x80')\r\n",
      "\r\n",
      "==================== 33 tests deselected =====================\r\n",
      "\r\n",
      "1 failed, 33 deselected in 0.78 seconds\r\n"
     ]
    }
   ],
   "source": [
    "!sh pytest.sh check_property_dont_explode"
   ]
  },
  {
   "cell_type": "code",
   "execution_count": null,
   "metadata": {
    "collapsed": true,
    "deletable": true,
    "editable": true,
    "slideshow": {
     "slide_type": "subslide"
    }
   },
   "outputs": [],
   "source": [
    "@given(st.text())\n",
    "def check_property_there_and_back_again(text):\n",
    "    assert text.encode('utf-8').decode('utf-8') == text"
   ]
  },
  {
   "cell_type": "code",
   "execution_count": 95,
   "metadata": {
    "collapsed": false,
    "deletable": true,
    "editable": true,
    "slideshow": {
     "slide_type": "-"
    }
   },
   "outputs": [
    {
     "name": "stdout",
     "output_type": "stream",
     "text": [
      ".\r\n",
      "\r\n",
      "==================== 33 tests deselected =====================\r\n",
      "\r\n",
      "1 passed, 33 deselected in 0.67 seconds\r\n"
     ]
    }
   ],
   "source": [
    "!sh pytest.sh check_property_there_and_back_again"
   ]
  },
  {
   "cell_type": "code",
   "execution_count": null,
   "metadata": {
    "collapsed": true,
    "deletable": true,
    "editable": true,
    "slideshow": {
     "slide_type": "subslide"
    }
   },
   "outputs": [],
   "source": [
    "@given(st.lists(st.integers(), min_size=1))\n",
    "def check_property_round_and_around(c):\n",
    "    assert c[::-1][::-1] == c"
   ]
  },
  {
   "cell_type": "code",
   "execution_count": 96,
   "metadata": {
    "collapsed": false,
    "deletable": true,
    "editable": true,
    "slideshow": {
     "slide_type": "-"
    }
   },
   "outputs": [
    {
     "name": "stdout",
     "output_type": "stream",
     "text": [
      ".\r\n",
      "\r\n",
      "==================== 33 tests deselected =====================\r\n",
      "\r\n",
      "1 passed, 33 deselected in 0.67 seconds\r\n"
     ]
    }
   ],
   "source": [
    "!sh pytest.sh check_property_round_and_around"
   ]
  },
  {
   "cell_type": "code",
   "execution_count": null,
   "metadata": {
    "collapsed": true,
    "deletable": true,
    "editable": true,
    "slideshow": {
     "slide_type": "subslide"
    }
   },
   "outputs": [],
   "source": [
    "@given(st.integers(), st.integers())\n",
    "def check_property_different_paths_same_destination(x, y):\n",
    "    assert x + y == y + x"
   ]
  },
  {
   "cell_type": "code",
   "execution_count": 97,
   "metadata": {
    "collapsed": false,
    "deletable": true,
    "editable": true,
    "slideshow": {
     "slide_type": "-"
    }
   },
   "outputs": [
    {
     "name": "stdout",
     "output_type": "stream",
     "text": [
      ".\r\n",
      "\r\n",
      "==================== 33 tests deselected =====================\r\n",
      "\r\n",
      "1 passed, 33 deselected in 0.65 seconds\r\n"
     ]
    }
   ],
   "source": [
    "!sh pytest.sh check_property_different_paths_same_destination"
   ]
  },
  {
   "cell_type": "code",
   "execution_count": null,
   "metadata": {
    "collapsed": true,
    "deletable": true,
    "editable": true,
    "slideshow": {
     "slide_type": "subslide"
    }
   },
   "outputs": [],
   "source": [
    "from heapq import heapify, heappop\n",
    "\n",
    "@given(st.lists(st.integers(), min_size=1))\n",
    "def check_property_some_things_never_change(c):\n",
    "    smallest = min(c)\n",
    "    heapify(c)\n",
    "    assert heappop(c) == smallest"
   ]
  },
  {
   "cell_type": "code",
   "execution_count": 98,
   "metadata": {
    "collapsed": false,
    "deletable": true,
    "editable": true,
    "slideshow": {
     "slide_type": "-"
    }
   },
   "outputs": [
    {
     "name": "stdout",
     "output_type": "stream",
     "text": [
      ".\r\n",
      "\r\n",
      "==================== 33 tests deselected =====================\r\n",
      "\r\n",
      "1 passed, 33 deselected in 0.67 seconds\r\n"
     ]
    }
   ],
   "source": [
    "!sh pytest.sh check_property_some_things_never_change"
   ]
  },
  {
   "cell_type": "code",
   "execution_count": null,
   "metadata": {
    "collapsed": true,
    "deletable": true,
    "editable": true,
    "slideshow": {
     "slide_type": "subslide"
    }
   },
   "outputs": [],
   "source": [
    "@given(st.lists(st.integers()))\n",
    "def check_property_the_more_things_change_the_more_they_stay_the_same(c):\n",
    "    assert set(c) == set(set(c))"
   ]
  },
  {
   "cell_type": "code",
   "execution_count": 99,
   "metadata": {
    "collapsed": false,
    "deletable": true,
    "editable": true,
    "slideshow": {
     "slide_type": "-"
    }
   },
   "outputs": [
    {
     "name": "stdout",
     "output_type": "stream",
     "text": [
      ".\r\n",
      "\r\n",
      "==================== 33 tests deselected =====================\r\n",
      "\r\n",
      "1 passed, 33 deselected in 0.66 seconds\r\n"
     ]
    }
   ],
   "source": [
    "!sh pytest.sh check_property_the_more_things_change_the_more_they_stay_the_same"
   ]
  },
  {
   "cell_type": "code",
   "execution_count": null,
   "metadata": {
    "code_folding": [],
    "collapsed": false,
    "deletable": true,
    "editable": true,
    "slideshow": {
     "slide_type": "subslide"
    }
   },
   "outputs": [],
   "source": [
    "from dataset import connect\n",
    "\n",
    "@given(st.lists(st.integers(min_value=0, max_value=1e6), min_size=1))\n",
    "def check_property_two_heads_are_better_than_one(numbers):\n",
    "    \n",
    "    db = connect('sqlite:///:memory:')\n",
    "    db['nums'].insert_many({'num': x} for x in numbers)\n",
    "    \n",
    "    actual = next(db.query('select sum(num) s from nums'))['s']\n",
    "    expected = sum(numbers)\n",
    "   \n",
    "    assert actual == expected"
   ]
  },
  {
   "cell_type": "code",
   "execution_count": 100,
   "metadata": {
    "collapsed": false,
    "deletable": true,
    "editable": true,
    "slideshow": {
     "slide_type": "-"
    }
   },
   "outputs": [
    {
     "name": "stdout",
     "output_type": "stream",
     "text": [
      ".\r\n",
      "\r\n",
      "==================== 33 tests deselected =====================\r\n",
      "\r\n",
      "1 passed, 33 deselected in 1.16 seconds\r\n"
     ]
    }
   ],
   "source": [
    "!sh pytest.sh check_property_two_heads_are_better_than_one"
   ]
  },
  {
   "cell_type": "markdown",
   "metadata": {
    "deletable": true,
    "editable": true,
    "slideshow": {
     "slide_type": "slide"
    }
   },
   "source": [
    "## Data generation"
   ]
  },
  {
   "cell_type": "code",
   "execution_count": null,
   "metadata": {
    "collapsed": false,
    "deletable": true,
    "editable": true,
    "slideshow": {
     "slide_type": "subslide"
    }
   },
   "outputs": [],
   "source": [
    "from re import findall\n",
    "from stdnum.isin import is_valid\n",
    "\n",
    "def extract_isin_codes(text):\n",
    "    \"\"\"\n",
    "    Extract strings conforming to the isin code standard\n",
    "    from words in text.\n",
    "    \"\"\"\n",
    "    regex = '[a-zA-Z]{2}[a-zA-Z0-9]{9}[0-9]'\n",
    "    possible_isins = findall(regex, text)\n",
    "    return filter(is_valid, possible_isins)"
   ]
  },
  {
   "cell_type": "code",
   "execution_count": null,
   "metadata": {
    "collapsed": false,
    "deletable": true,
    "editable": true,
    "slideshow": {
     "slide_type": "subslide"
    }
   },
   "outputs": [],
   "source": [
    "from hypothesis import given, strategies as st\n",
    "\n",
    "@settings(verbosity=Verbosity.verbose)\n",
    "@given(st.text())\n",
    "def check_property_extract_isin_codes_1(text):\n",
    "    extract_isin_codes(text)"
   ]
  },
  {
   "cell_type": "code",
   "execution_count": null,
   "metadata": {
    "collapsed": false,
    "deletable": true,
    "editable": true,
    "scrolled": false,
    "slideshow": {
     "slide_type": "-"
    }
   },
   "outputs": [],
   "source": [
    "!sh pytest.sh check_property_extract_isin_codes_1 -s"
   ]
  },
  {
   "cell_type": "code",
   "execution_count": null,
   "metadata": {
    "collapsed": false,
    "deletable": true,
    "editable": true,
    "slideshow": {
     "slide_type": "subslide"
    }
   },
   "outputs": [],
   "source": [
    "from string import ascii_letters, digits\n",
    "from stdnum.isin import _country_codes, from_natid\n",
    "\n",
    "@st.composite\n",
    "def st_isin_codes(draw):\n",
    "    country_code = draw(st.sampled_from(_country_codes))\n",
    "    alphanum = ascii_letters + digits\n",
    "    natid = draw(st.text(alphanum, min_size=9, max_size=9))\n",
    "    return from_natid(country_code, natid)"
   ]
  },
  {
   "cell_type": "code",
   "execution_count": null,
   "metadata": {
    "collapsed": false,
    "deletable": true,
    "editable": true,
    "scrolled": false,
    "slideshow": {
     "slide_type": "-"
    }
   },
   "outputs": [],
   "source": [
    "st_isin_codes().example()"
   ]
  },
  {
   "cell_type": "code",
   "execution_count": null,
   "metadata": {
    "collapsed": false,
    "deletable": true,
    "editable": true,
    "slideshow": {
     "slide_type": "subslide"
    }
   },
   "outputs": [],
   "source": [
    "@settings(verbosity=Verbosity.verbose)\n",
    "@given(st.lists(st_isin_codes()), st.lists(st.text()), st.randoms())\n",
    "def check_property_extract_isin_codes_2(isins, tokens, random):\n",
    "    \n",
    "    tokens += isins\n",
    "    random.shuffle(tokens)\n",
    "    text = ' '.join(tokens)\n",
    "    \n",
    "    actual = sorted(extract_isin_codes(text))\n",
    "    expected = sorted(isins)\n",
    "    \n",
    "    assert actual == expected "
   ]
  },
  {
   "cell_type": "code",
   "execution_count": 101,
   "metadata": {
    "collapsed": false,
    "deletable": true,
    "editable": true,
    "scrolled": false,
    "slideshow": {
     "slide_type": "-"
    }
   },
   "outputs": [
    {
     "name": "stdout",
     "output_type": "stream",
     "text": [
      "Trying example: check_property_extract_isin_codes_2(isins=['ASUX95ENVQX2'], tokens=['쟫d⍞띍\\U0005e51bⅥè\\U000dba55[진,J\\U00108ff9谟\\U000c8cd9\\U000aea93Ꚉ𡸶\\x1e\\x8f\\x0bKô'], random=RandomWithSeed(214))\r\n",
      "Trying example: check_property_extract_isin_codes_2(isins=['MOA9DXJ9CMB6'], tokens=['', '\\x05\\U000f0930\\U000dc08a\\n'], random=RandomWithSeed(-107))\r\n",
      "Trying example: check_property_extract_isin_codes_2(isins=['FMJDHWHHDEE5', 'GLI6BAAVAXI6'], tokens=['', '\\U000e37c6', ''], random=RandomWithSeed(129964248047425392171087870))\r\n",
      "Trying example: check_property_extract_isin_codes_2(isins=[], tokens=['0', '\\U000b8dbf쎠\\x05', '\\U0004f38d'], random=RandomWithSeed(28100003343711044662441065145513410816))\r\n",
      "Trying example: check_property_extract_isin_codes_2(isins=[], tokens=[], random=RandomWithSeed(28099841084434215449077673567503122688))\r\n",
      "Trying example: check_property_extract_isin_codes_2(isins=['YE0SLBRG2OF5'], tokens=['Û=쌶(⦖\\x1a痕졨\\U000504b1',\r\n",
      " '\\x90',\r\n",
      " 'w>ǂ',\r\n",
      " '^E',\r\n",
      " '\\x19\\n\\n',\r\n",
      " \"'\",\r\n",
      " 'n\\x0c´E\\U0010dbd1+\\n:\\r\\U000d0e91',\r\n",
      " '\\U000d7d52\\n?蝚¡',\r\n",
      " 'ø\\U000f5029-D\\U000f8625鮇\\ue144ࠕ',\r\n",
      " 'jĝ\\n\\U0008aa71J',\r\n",
      " '¸',\r\n",
      " '',\r\n",
      " '\\U000ed42e\\U00055a2c\\U00042ce0',\r\n",
      " '\\n頉\"鞙Q',\r\n",
      " '\\n\\x93㙸\\x9aGN\\x18-\\nT⤝齕[\\U0009e6a8\\n'], random=RandomWithSeed(97))\r\n",
      "Trying example: check_property_extract_isin_codes_2(isins=['KNGZRHVLPCB9', 'MYAAQA4ACAC8'], tokens=['', '', 'ڥ\\x1b\\U000128a5'], random=RandomWithSeed(-175))\r\n",
      "Trying example: check_property_extract_isin_codes_2(isins=[], tokens=[], random=RandomWithSeed(-90558587195530025593173947815523520512))\r\n",
      "Trying example: check_property_extract_isin_codes_2(isins=['KNA8LD9SWAS6',\r\n",
      " 'TZONLA5JR196',\r\n",
      " 'JO7CTUCAPXW2',\r\n",
      " 'UZ8IPOPTL0L7',\r\n",
      " 'MHFX3DLTG643',\r\n",
      " 'CH3L82ODMJ77',\r\n",
      " 'LARW0EXSRJV5',\r\n",
      " 'LTP9GDBASEE2',\r\n",
      " 'AXHNQXQK1LH8',\r\n",
      " 'NOEGXLOGJQD0',\r\n",
      " 'ASPPAYDTLCD8',\r\n",
      " 'SZNBI4CODJF5',\r\n",
      " 'LSQ4ZNSZKQG9'], tokens=['°\\n', '', '\\tI֍`', 'X*\"\\n\\U00079ce0n\\n\\U00064191êà\\U000709c9䝨v', ''], random=RandomWithSeed(111))\r\n",
      "Trying example: check_property_extract_isin_codes_2(isins=['AMCHX9W5KMB4', 'CMFBA8B7LZF7', 'KGVJTBQ0DAS7'], tokens=['\\U000e3f55'], random=RandomWithSeed(79796050814616553558978079213110100773))\r\n",
      "Trying example: check_property_extract_isin_codes_2(isins=['JMMSOWAZCID7',\r\n",
      " 'CCFLKSBHAYE3',\r\n",
      " 'SXABJAUCAAO7',\r\n",
      " 'CGOGMASJPLF2',\r\n",
      " 'RO3ZTKJF21D5'], tokens=['뀓\\x1d箃\\r\\x1bǡk', '쵑\\U0006662f', '', 'Ҹ\\U000b1a41卣\\x1f赭'], random=RandomWithSeed(-236))\r\n",
      "Trying example: check_property_extract_isin_codes_2(isins=['QAPW32ZV0AV9',\r\n",
      " 'BYEMMHRN9847',\r\n",
      " 'LUIB9N9HI5S1',\r\n",
      " 'PWHWQ3VMA222',\r\n",
      " 'KPF3Q8AVHTP7',\r\n",
      " 'FJL8JCA5A8E1',\r\n",
      " 'SBLI1R8WALL1',\r\n",
      " 'LKCGWN03ODL3',\r\n",
      " 'AGXYPONVMAZ8',\r\n",
      " 'NZROF732H0M9',\r\n",
      " 'LUFIVUWOKPV8'], tokens=['\\n\\U000b2f2b旲取\\x93\\nƒ\\U000e6ffeª\\n'], random=RandomWithSeed(141))\r\n",
      "Trying example: check_property_extract_isin_codes_2(isins=['DKAPAQ23IAA3', 'ROCCCJARWWQ1'], tokens=['\\nĘ㙦', '錓\\uf109𖬻\\U000e0d67\\U000ea693\\U000a4664萝 '], random=RandomWithSeed(145))\r\n",
      "Trying example: check_property_extract_isin_codes_2(isins=[], tokens=['', '', ''], random=RandomWithSeed(116))\r\n",
      "Trying example: check_property_extract_isin_codes_2(isins=[], tokens=['', '', '埢', '几\\U000abae4;', '\\U000a53412'], random=RandomWithSeed(61))\r\n",
      "Trying example: check_property_extract_isin_codes_2(isins=[], tokens=[''], random=RandomWithSeed(57))\r\n",
      "Trying example: check_property_extract_isin_codes_2(isins=[], tokens=[], random=RandomWithSeed(281))\r\n",
      "Trying example: check_property_extract_isin_codes_2(isins=[], tokens=[], random=RandomWithSeed(79))\r\n",
      "Trying example: check_property_extract_isin_codes_2(isins=[], tokens=[], random=RandomWithSeed(14))\r\n",
      "Trying example: check_property_extract_isin_codes_2(isins=[], tokens=[], random=RandomWithSeed(4))\r\n",
      "Trying example: check_property_extract_isin_codes_2(isins=['USY2TOR4E3V9'], tokens=['\\x0c\\x00\\n\\U000742325', ''], random=RandomWithSeed(128))\r\n",
      "Trying example: check_property_extract_isin_codes_2(isins=['MYBY2BATBA20'], tokens=[], random=RandomWithSeed(-31))\r\n",
      "Trying example: check_property_extract_isin_codes_2(isins=[], tokens=[''], random=RandomWithSeed(128))\r\n",
      "Trying example: check_property_extract_isin_codes_2(isins=[], tokens=[], random=RandomWithSeed(0))\r\n",
      "Trying example: check_property_extract_isin_codes_2(isins=['DZOEEB0BGWU4'], tokens=['\\x0f\\x01'], random=RandomWithSeed(218))\r\n",
      "Trying example: check_property_extract_isin_codes_2(isins=['TTWRYF0LRGE4'], tokens=[''], random=RandomWithSeed(140737488355546))\r\n",
      "Trying example: check_property_extract_isin_codes_2(isins=['ZA4DQEEM7WE7'], tokens=[''], random=RandomWithSeed(162652233030852194233896476392304915473))\r\n",
      "Trying example: check_property_extract_isin_codes_2(isins=['CXGHSPZMTQE9',\r\n",
      " 'GW6YAFKEV464',\r\n",
      " 'KWFJWBV1MLD3',\r\n",
      " 'TWC4LESTYIZ1',\r\n",
      " 'UYTRLTXUDTC8'], tokens=['\\x06\\U0009cebd썐\\U00032f7d`嵄'], random=RandomWithSeed(62))\r\n",
      "Trying example: check_property_extract_isin_codes_2(isins=['GUQJEPN2QKM6', 'SIYQEXQXZ6I2', 'PWGXL0HR76H2'], tokens=[], random=RandomWithSeed(37509375943114431783963360255399367473))\r\n",
      "Trying example: check_property_extract_isin_codes_2(isins=['LKK3MZ3PTBY8', 'PNJRRZYL7N02'], tokens=['', '', '뽨⊃,寓', '\\x8e', '\\U000bcc3dyଇ\\n'], random=RandomWithSeed(124))\r\n",
      "Trying example: check_property_extract_isin_codes_2(isins=[], tokens=['\\U000d0c4b'], random=RandomWithSeed(206))\r\n",
      "Trying example: check_property_extract_isin_codes_2(isins=[], tokens=[], random=RandomWithSeed(7))\r\n",
      "Trying example: check_property_extract_isin_codes_2(isins=[], tokens=[], random=RandomWithSeed(3))\r\n",
      "Trying example: check_property_extract_isin_codes_2(isins=[], tokens=[], random=RandomWithSeed(1))\r\n",
      "Trying example: check_property_extract_isin_codes_2(isins=[], tokens=['\\U000b8929\\U000f2eb0댹',\r\n",
      " '9',\r\n",
      " '\\n\\nµ谦Ľȓ涱\\U000be409-伌9',\r\n",
      " '\\n\\U00013896',\r\n",
      " '錘1\\n\\U000573d8',\r\n",
      " 'Rݧ\\x17\\U00080260\\x02v\\n\\u0b65',\r\n",
      " '\\x82',\r\n",
      " 'ᚄÄ\\U00103779M\\U0010c2944\\U0006280c\\n\\x99\\U0009b365'], random=RandomWithSeed(-18122))\r\n",
      "Trying example: check_property_extract_isin_codes_2(isins=['MYGB7EAAMQZ2',\r\n",
      " 'MMIMCWWBME49',\r\n",
      " 'GPGBXZ2PQDH7',\r\n",
      " 'GBKIABS3NBR4',\r\n",
      " 'WSNFWPBMO7D0',\r\n",
      " 'KHPRRN7YEIQ1',\r\n",
      " 'HMLHYYPAXIW8'], tokens=[], random=RandomWithSeed(1329228708839592462484036281630064641))\r\n",
      "Trying example: check_property_extract_isin_codes_2(isins=['MPG9UEKVNXL8',\r\n",
      " 'JESYI42MMAU9',\r\n",
      " 'MENVDS2PHHR1',\r\n",
      " 'FOXLGURMDEW2',\r\n",
      " 'GIPFNUIYFGN9'], tokens=[], random=RandomWithSeed(-49395175287350901875940602356820940824))\r\n",
      "Trying example: check_property_extract_isin_codes_2(isins=['MFKZGPAOCAE3',\r\n",
      " 'XARVTSP2GUU3',\r\n",
      " 'MDIROMWCGJN2',\r\n",
      " 'TJ62HV2AMOR7',\r\n",
      " 'AQMRBGZ4P339',\r\n",
      " 'DKWFUDHNT5Z1',\r\n",
      " 'NEB8YW7LEDX0',\r\n",
      " 'LAY3OOHCBUH4',\r\n",
      " 'LC1TOPSLHQV6',\r\n",
      " 'ERNRATYTBWU2',\r\n",
      " 'BAJLIKXAFF67'], tokens=['\\U000b9c6c\\x82ፑ¢l赞늪估㻀\\U000ad331\\U00073a00\\x15\\U00059ee7\\U00078acd',\r\n",
      " '\\U000e2572'], random=RandomWithSeed(-88))\r\n",
      "Trying example: check_property_extract_isin_codes_2(isins=['TKOY5HBVUA95'], tokens=[], random=RandomWithSeed(-31359355382910015260350208920182560663))\r\n",
      "Trying example: check_property_extract_isin_codes_2(isins=['KEUUSRW0EY20',\r\n",
      " 'CCMGNCHDCRR5',\r\n",
      " 'RUMWVBIOFCS5',\r\n",
      " 'IDWEINM2AKX2',\r\n",
      " 'CZTEXMXMQNX9',\r\n",
      " 'ETBWW1NNVPE7',\r\n",
      " 'UGNSM76XUS86',\r\n",
      " 'JMVNG7WEAGV0'], tokens=['Ʊ',\r\n",
      " '\\x17',\r\n",
      " 'ú\\U000b1dacƎ\\n',\r\n",
      " \"\\U00038107\\n\\U0009fed0\\n\\x1f\\x16Ę\\u171eg'\\x81\\n~\\U0007936e\\U00057ed3\",\r\n",
      " '\\x1d\\n莝\\U0004adda霽\\U000160ac\\U00068902𨻾\\x1b',\r\n",
      " 'ß\\n\\U0008d30b\\n\\n\\U000ff9f8º\\x19r',\r\n",
      " '闢',\r\n",
      " '\\U0006cc4b'], random=RandomWithSeed(-32))\r\n",
      "Trying example: check_property_extract_isin_codes_2(isins=[], tokens=[], random=RandomWithSeed(93289106670745746110184437766555043431))\r\n",
      "Trying example: check_property_extract_isin_codes_2(isins=[], tokens=[], random=RandomWithSeed(70))\r\n",
      "Trying example: check_property_extract_isin_codes_2(isins=[], tokens=['\\U0007cb92\\x18'], random=RandomWithSeed(-88740303530362383609076123114559161026))\r\n",
      "Trying example: check_property_extract_isin_codes_2(isins=['SYAXWZXNWMC4', 'CCIJCAAUGET8', 'FRGIMA61UV33'], tokens=['೧䜅㶘\\U00031fa3ć텎\\U000eb8f4xĂ\\x02ꢅ\\x1b·쳷*\\x0bÞ',\r\n",
      " '⯂ŮĢ슇B郂\\U000b0133',\r\n",
      " '\\x1a\\x15\\x0c飾\\n!ƒ\\U0008b53d\\nĳƩ]×\\U000148d0\\n',\r\n",
      " '㝻Y',\r\n",
      " '긒',\r\n",
      " 'F',\r\n",
      " '䃾p缅'], random=RandomWithSeed(-115))\r\n",
      "Trying example: check_property_extract_isin_codes_2(isins=['NRENEVMUZDD7', 'BRHZUVGXEOL6', 'MGW7Z0QWUSP8', 'SEHYB4S4PBA1'], tokens=['', '\\U000e96be瘇ą\\U000b5a8c', ''], random=RandomWithSeed(-45))\r\n",
      "Trying example: check_property_extract_isin_codes_2(isins=['NOJUJVTSGHN6'], tokens=['',\r\n",
      " '\\u0ab4\\U00090870',\r\n",
      " 'Ȱ\\U0008d0f8\\x02\\U000e96be\\U0001dee6',\r\n",
      " '\\U000c96be'], random=RandomWithSeed(-103851640184399968521409614698648384500))\r\n",
      "Trying example: check_property_extract_isin_codes_2(isins=['VN4UZTSULKZ8'], tokens=['', '', '\\U000cd4fcN𖨱\\ue910\\U000890f8'], random=RandomWithSeed(112093014985720905611464576565758940244))\r\n",
      "Trying example: check_property_extract_isin_codes_2(isins=['SERFLUE5QAQ5',\r\n",
      " 'KHXARUIRTV08',\r\n",
      " 'LR413D0RHAE2',\r\n",
      " 'INMH9MZIAOX1',\r\n",
      " 'CZHG7JLKDGB3',\r\n",
      " 'GYMKD8S1IYM3',\r\n",
      " 'TLEMT1DM3VK4'], tokens=['\\U00078b88',\r\n",
      " 'N¿\\U000c487e\\U00083e6c\\U0009ba69鵪綦뫡\\U000e7b71\\U000c2b76\\U00051fc1\\U00049d11m`',\r\n",
      " '\\x15\\n×\\U000d59ad⢂',\r\n",
      " '㋨䑵+\\n^',\r\n",
      " '\\n\\U0006e6abI\\x11M\\x1aC\\x16ਅ',\r\n",
      " \"'\\x14\",\r\n",
      " ''], random=RandomWithSeed(13540))\r\n",
      "Trying example: check_property_extract_isin_codes_2(isins=['OMAFLUAARAU1', 'KHABLUAAAA29'], tokens=[''], random=RandomWithSeed(0))\r\n",
      "Trying example: check_property_extract_isin_codes_2(isins=['BOAAAUAEAA05'], tokens=[], random=RandomWithSeed(-49181457012197589057816071516689793024))\r\n",
      "Trying example: check_property_extract_isin_codes_2(isins=['AIAAASAAAA28'], tokens=[], random=RandomWithSeed(-49181457012197589057816071516689793536))\r\n",
      "Trying example: check_property_extract_isin_codes_2(isins=['AIAAAAAAAA28'], tokens=[], random=RandomWithSeed(-49181457012197589057816071516689793536))\r\n",
      "Trying example: check_property_extract_isin_codes_2(isins=['GMGABAAQAA21'], tokens=[], random=RandomWithSeed(0))\r\n",
      "Trying example: check_property_extract_isin_codes_2(isins=['SSAAAAIQAGA9'], tokens=[], random=RandomWithSeed(295147905179352825856))\r\n",
      "Trying example: check_property_extract_isin_codes_2(isins=['SSAAAAYQAGA6'], tokens=[], random=RandomWithSeed(0))\r\n",
      "Trying example: check_property_extract_isin_codes_2(isins=[], tokens=[], random=RandomWithSeed(166153499473220945145271538825954328576))\r\n",
      "Trying example: check_property_extract_isin_codes_2(isins=['MQXMGEXZLRA6', 'BSZG01ET9HT0', 'SYZU7Y2TYVC0', 'UYNV4NG6D3M7'], tokens=['\\U000cdeb6\"', '', '\\U000fe704ć9\\U000d9962\\x02{i\\U0008a74d4R𠍭¤Þ\\x1aį', '罚鮇Gb'], random=RandomWithSeed(-5516542619865680))\r\n",
      "Trying example: check_property_extract_isin_codes_2(isins=['ZWBXAGMAAAZ9', 'DMATZ0C1Z969'], tokens=['\\U000cdeb6'], random=RandomWithSeed(94))\r\n",
      "Trying example: check_property_extract_isin_codes_2(isins=[], tokens=[], random=RandomWithSeed(-122))\r\n",
      "Trying example: check_property_extract_isin_codes_2(isins=['KZAQAAAAAAO2', 'MYAAAAYMPQF2', 'MWTAPOID2NY6'], tokens=['¬',\r\n",
      " 'wƻ\\U0002e852\\U0006e803\\t\\n',\r\n",
      " 'x',\r\n",
      " '먯Ŋ\\n\\x1b¥癜쎦\\U00030023\\U000483b9é,j\\U000893ca\\x01â',\r\n",
      " '{襙\\U000dfaba偺\\U000def47T',\r\n",
      " '蟴ß\\x13'], random=RandomWithSeed(-228))\r\n",
      "Trying example: check_property_extract_isin_codes_2(isins=[], tokens=['', ''], random=RandomWithSeed(-119053907162689305975377246782294250761))\r\n",
      "Trying example: check_property_extract_isin_codes_2(isins=['SAAZQANYAAK6',\r\n",
      " 'KZAV2HAMVGB7',\r\n",
      " 'PM4JEDSONFO2',\r\n",
      " 'BNHZP8ZKZZG6',\r\n",
      " 'USQ05CZ2QTB9',\r\n",
      " 'DOVDLSFEV804',\r\n",
      " 'CYEKDINIC4O2',\r\n",
      " 'GTUDLIDZTOC6',\r\n",
      " 'TVSDK3QIEXV7',\r\n",
      " 'LI5X85GMG218',\r\n",
      " 'IOB033NTMXL2',\r\n",
      " 'SDUWEGBRBOE9'], tokens=['\\U000cee1bㆩሎ\\x8e#!'], random=RandomWithSeed(-54))\r\n",
      "Trying example: check_property_extract_isin_codes_2(isins=[], tokens=['0', '', ''], random=RandomWithSeed(-119053907162689305975377246782294250761))\r\n",
      "Trying example: check_property_extract_isin_codes_2(isins=['MAZZHHASHPA3', 'CLZA9AEAAAP3'], tokens=[], random=RandomWithSeed(22751))\r\n",
      "Trying example: check_property_extract_isin_codes_2(isins=['GAOTAAAFAAA6'], tokens=['\\x17\\n\\U000ef6be\\n禐\\x1b\\nŋ\\x117逞蒾\\U00053ee1¢𘫅唦𤱣둂%,\\x08\\n臰Șª灏Ç\\x17\\x17_.\\n\\U0008ec86¿F\\U0007c93bᏃ',\r\n",
      " '崧',\r\n",
      " '\\n',\r\n",
      " '°đC핅\\U00019738\\x1f@\\n',\r\n",
      " '\\n\\U000ec674\\U000db817X',\r\n",
      " '|_',\r\n",
      " '\\U000f2735껤\\x16\\U000a75ea\\x04l韬㠤Rö\"',\r\n",
      " 'Ĩ鳷\\x196숨\\x97\\n\\nŲ',\r\n",
      " '1ᓌ%c粜ƽ'], random=RandomWithSeed(-46367))\r\n",
      "Trying example: check_property_extract_isin_codes_2(isins=[], tokens=['庅\\x1fꏯ'], random=RandomWithSeed(-21207))\r\n",
      "Trying example: check_property_extract_isin_codes_2(isins=[], tokens=[], random=RandomWithSeed(-603))\r\n",
      "Trying example: check_property_extract_isin_codes_2(isins=['MYAAPAAAAGA9'], tokens=['훶c'], random=RandomWithSeed(-116))\r\n",
      "Trying example: check_property_extract_isin_codes_2(isins=[], tokens=['', '.\\x95:\\x97lڊE\\n\\U0008dfc4Ồ', 'ţ凳U걘', ''], random=RandomWithSeed(8006643927551493257961755468982781446))\r\n",
      "Trying example: check_property_extract_isin_codes_2(isins=['HM96GLAG72G8', 'LUAYPGMG3G45', 'CDQG63Y1BBP6', 'GUAGSA6VTLC4'], tokens=['\\U000f42fd', '', '\\U000ea89f'], random=RandomWithSeed(-66572285977934276429318720283233033535))\r\n",
      "Trying example: check_property_extract_isin_codes_2(isins=['NISR6UZ6T7K4', 'MGD9F6YG66G6', 'BNN8Q7FZE2O6'], tokens=['Ꮌ𦪒\\U000cb4dcĄ',\r\n",
      " '9⻐祷i_\\U000700a1',\r\n",
      " '\\x1e\\U000c4c1b\\U0008396a',\r\n",
      " '\\nǡ',\r\n",
      " 'ğ\\U000dbec8**\\U000c7079',\r\n",
      " ''], random=RandomWithSeed(100083049094393665724521943362284768075))\r\n",
      "Trying example: check_property_extract_isin_codes_2(isins=['BWBZE8IDYDL5'], tokens=[], random=RandomWithSeed(-67636435747603560952318430351988382965))\r\n",
      "Trying example: check_property_extract_isin_codes_2(isins=[], tokens=['蔹\\n0ĕ\\x10\\U000c2b3fs\\U00083779\\x11',\r\n",
      " '\\U00091f2f\\r',\r\n",
      " '\\U000825d8_\\U000ab980',\r\n",
      " '舯K깢𧩚뭂\\n該À;\\x02\\U00089916',\r\n",
      " '\\U000c0cc3é',\r\n",
      " '\\U0003d14e\\n\\U0001a3f9\\U000393a5\\U000ad784\\U000adce2𬯹ųªD둱\\x80'], random=RandomWithSeed(-19750))\r\n",
      "Trying example: check_property_extract_isin_codes_2(isins=[], tokens=[], random=RandomWithSeed(199))\r\n",
      "Trying example: check_property_extract_isin_codes_2(isins=[], tokens=[''], random=RandomWithSeed(36029897673981719660827899610422516507))\r\n",
      "Trying example: check_property_extract_isin_codes_2(isins=['FMPGDNGTDMM6', 'MCWAXAAATYE8'], tokens=['\\n➲ą\\U000b9db55x\\U0004b0b9\\x13\\U0010be92䙗', '\\x93', 'âኼ霙', ''], random=RandomWithSeed(108))\r\n",
      "Trying example: check_property_extract_isin_codes_2(isins=['MSWMJXFJ9EJ2', 'WFUXTNAAHSA2'], tokens=['\\U00056d95'], random=RandomWithSeed(-152793454950774329672770166866421412594))\r\n",
      "Trying example: check_property_extract_isin_codes_2(isins=[], tokens=[], random=RandomWithSeed(10322266542679897814238488093940160039))\r\n",
      "Trying example: check_property_extract_isin_codes_2(isins=['TZLIGMCWAPG3'], tokens=[], random=RandomWithSeed(-8565))\r\n",
      "Trying example: check_property_extract_isin_codes_2(isins=['IMSBWI3DF7C4'], tokens=[], random=RandomWithSeed(196))\r\n",
      "Trying example: check_property_extract_isin_codes_2(isins=[], tokens=[], random=RandomWithSeed(-24687152109950437545382079362696909458))\r\n",
      "Trying example: check_property_extract_isin_codes_2(isins=['BZ3ALC8AUZE5', 'NIYPERAWYWP5'], tokens=[], random=RandomWithSeed(-125))\r\n",
      "Trying example: check_property_extract_isin_codes_2(isins=[], tokens=['\\U0001bf8eq鳱匬Ĳŧ\\x19A',\r\n",
      " '\\x1e\\x13\\U0002d020\\U000dc0ef厶b걮∳',\r\n",
      " '\\xa0`\\U00074bbc\\n',\r\n",
      " '\\U000d9577D',\r\n",
      " '\\n慆\\x15:8䗐Ŋ',\r\n",
      " '\\n\\x1aw\\U00042d2cKÐ\\U000b9348î\\x83',\r\n",
      " '\\U00059c33',\r\n",
      " '𫜕hW'], random=RandomWithSeed(119))\r\n",
      "Trying example: check_property_extract_isin_codes_2(isins=['MYAAAAAAAAA4'], tokens=[''], random=RandomWithSeed(192))\r\n",
      "Trying example: check_property_extract_isin_codes_2(isins=[], tokens=['', '0'], random=RandomWithSeed(119))\r\n",
      "Trying example: check_property_extract_isin_codes_2(isins=[], tokens=[], random=RandomWithSeed(119))\r\n",
      "Trying example: check_property_extract_isin_codes_2(isins=[], tokens=[], random=RandomWithSeed(10))\r\n",
      "Trying example: check_property_extract_isin_codes_2(isins=[], tokens=[], random=RandomWithSeed(8))\r\n",
      ".\r\n",
      "\r\n",
      "==================== 33 tests deselected =====================\r\n",
      "\r\n",
      "1 passed, 33 deselected in 0.79 seconds\r\n"
     ]
    }
   ],
   "source": [
    "!sh pytest.sh check_property_extract_isin_codes_2 -s"
   ]
  },
  {
   "cell_type": "code",
   "execution_count": null,
   "metadata": {
    "collapsed": false,
    "deletable": true,
    "editable": true,
    "slideshow": {
     "slide_type": "skip"
    }
   },
   "outputs": [],
   "source": [
    "class TextWithIsins:\n",
    "    \n",
    "    def __init__(self, isins, tokens, random):\n",
    "        self.isins, self.tokens = isins, isins + tokens\n",
    "        random.shuffle(self.tokens)\n",
    "        \n",
    "    def __repr__(self):\n",
    "        return ' '.join(self.tokens)\n",
    "\n",
    "    \n",
    "st_text_with_isins = st.builds(TextWithIsins, \n",
    "    isins=st.lists(st_isin_codes()),\n",
    "    tokens=st.lists(st.text()),\n",
    "    random=st.randoms(),\n",
    ")"
   ]
  },
  {
   "cell_type": "code",
   "execution_count": null,
   "metadata": {
    "collapsed": false,
    "deletable": true,
    "editable": true,
    "slideshow": {
     "slide_type": "skip"
    }
   },
   "outputs": [],
   "source": [
    "@settings(verbosity=Verbosity.verbose)\n",
    "@given(st_text_with_isins)\n",
    "def check_property_extract_isin_codes_3(text_with_isins):\n",
    "    actual = sorted(extract_isin_codes(repr(text_with_isins)))\n",
    "    expected = sorted(text_with_isins.isins)\n",
    "    assert actual == expected "
   ]
  },
  {
   "cell_type": "code",
   "execution_count": null,
   "metadata": {
    "collapsed": false,
    "deletable": true,
    "editable": true,
    "scrolled": false,
    "slideshow": {
     "slide_type": "skip"
    }
   },
   "outputs": [],
   "source": [
    "!sh pytest.sh check_property_extract_isin_codes_3 -s"
   ]
  },
  {
   "cell_type": "markdown",
   "metadata": {
    "deletable": true,
    "editable": true,
    "slideshow": {
     "slide_type": "slide"
    }
   },
   "source": [
    "## Stateful Testing"
   ]
  },
  {
   "cell_type": "code",
   "execution_count": null,
   "metadata": {
    "code_folding": [],
    "collapsed": true,
    "deletable": true,
    "editable": true,
    "slideshow": {
     "slide_type": "subslide"
    }
   },
   "outputs": [],
   "source": [
    "class Queue(object):\n",
    "    \"\"\"FIFO queue with a maximum size\"\"\"\n",
    "\n",
    "    def __init__(self, max_size):\n",
    "        self._buffer = [None] * max_size\n",
    "        self._in, self._out, self._max_size = 0, 0, max_size\n",
    "\n",
    "    def put(self, item):\n",
    "        self._buffer[self._in] = item\n",
    "        self._in = (self._in + 1) % self._max_size\n",
    "\n",
    "    def get(self):\n",
    "        result = self._buffer[self._out]\n",
    "        self._out = (self._out + 1) % self._max_size\n",
    "        return result\n",
    "\n",
    "    def __len__(self):\n",
    "        return (self._in - self._out) % self._max_size "
   ]
  },
  {
   "cell_type": "code",
   "execution_count": null,
   "metadata": {
    "collapsed": true,
    "deletable": true,
    "editable": true,
    "slideshow": {
     "slide_type": "subslide"
    }
   },
   "outputs": [],
   "source": [
    "import itertools"
   ]
  },
  {
   "cell_type": "code",
   "execution_count": null,
   "metadata": {
    "collapsed": false,
    "deletable": true,
    "editable": true,
    "slideshow": {
     "slide_type": "-"
    }
   },
   "outputs": [],
   "source": [
    "operations = 'new', 'put', 'get', 'size'\n",
    "list(itertools.permutations(operations))"
   ]
  },
  {
   "cell_type": "code",
   "execution_count": null,
   "metadata": {
    "collapsed": true,
    "deletable": true,
    "editable": true,
    "slideshow": {
     "slide_type": "subslide"
    }
   },
   "outputs": [],
   "source": [
    "from hypothesis.stateful import RuleBasedStateMachine\n",
    "from hypothesis.stateful import rule, precondition"
   ]
  },
  {
   "cell_type": "code",
   "execution_count": null,
   "metadata": {
    "code_folding": [
     11,
     18,
     23,
     29
    ],
    "collapsed": false,
    "deletable": true,
    "editable": true,
    "slideshow": {
     "slide_type": "subslide"
    }
   },
   "outputs": [],
   "source": [
    "class QueueStateMachine(RuleBasedStateMachine):\n",
    "    \n",
    "    Actual, Model = Queue, list\n",
    "\n",
    "    is_created = lambda self: hasattr(self, 'model')\n",
    "    is_not_created = lambda self: not hasattr(self, 'model')\n",
    "    is_not_empty = lambda self: hasattr(self, 'model') \\\n",
    "                                and self.model\n",
    "    \n",
    "    @precondition(is_not_created)\n",
    "    @rule(max_size=st.integers(min_value=1, max_value=5))\n",
    "    def new(self, max_size):\n",
    "        self.actual = self.Actual(max_size) \n",
    "        self.model = self.Model()\n",
    "        self.max_size = max_size\n",
    "\n",
    "    @precondition(is_created)\n",
    "    @rule(item=st.integers())\n",
    "    def put(self, item):\n",
    "        self.actual.put(item), self.model.append(item)\n",
    "\n",
    "    @precondition(is_not_empty)\n",
    "    @rule()\n",
    "    def get(self):\n",
    "        actual, model = self.actual.get(), self.model.pop()\n",
    "        assert actual == model\n",
    "\n",
    "    @precondition(is_created)\n",
    "    @rule()\n",
    "    def length(self):\n",
    "        actual, model = len(self.actual), len(self.model)\n",
    "        assert actual == model"
   ]
  },
  {
   "cell_type": "code",
   "execution_count": null,
   "metadata": {
    "collapsed": true,
    "deletable": true,
    "editable": true,
    "slideshow": {
     "slide_type": "subslide"
    }
   },
   "outputs": [],
   "source": [
    "check_property_queue_matches_model_1 = QueueStateMachine.TestCase "
   ]
  },
  {
   "cell_type": "code",
   "execution_count": null,
   "metadata": {
    "code_folding": [],
    "collapsed": false,
    "deletable": true,
    "editable": true,
    "slideshow": {
     "slide_type": "skip"
    }
   },
   "outputs": [],
   "source": [
    "class QueueStateMachine(QueueStateMachine):\n",
    "    # this is a total cheat, the order in which the errors would naturally occur is \n",
    "    # system under test, model, specification. However the narrative is a little\n",
    "    # better when presented as model, specification, system under test, so secretly\n",
    "    # fix the bug with the system under test here\n",
    "    class Actual(Queue):\n",
    "        def __init__(self, max_size):\n",
    "            super().__init__(max_size + 1)\n",
    "            \n",
    "check_property_queue_matches_model_1 = QueueStateMachine.TestCase"
   ]
  },
  {
   "cell_type": "code",
   "execution_count": 72,
   "metadata": {
    "collapsed": false,
    "deletable": true,
    "editable": true,
    "slideshow": {
     "slide_type": "subslide"
    }
   },
   "outputs": [
    {
     "name": "stdout",
     "output_type": "stream",
     "text": [
      "F\r\n",
      "\r\n",
      "========================== FAILURES ==========================\r\n",
      "\r\n",
      "\r\n",
      "________ check_property_queue_matches_model_1.runTest ________\r\n",
      "\r\n",
      "\r\n",
      "test_run.py:305: in length\r\n",
      "\r\n",
      "E   AssertionError: assert 0 == 2\r\n",
      "\r\n",
      "------------------------- Hypothesis -------------------------\r\n",
      "\r\n",
      "Step #1: new(max_size=1)\r\n",
      "Step #2: put(item=0)\r\n",
      "Step #3: put(item=0)\r\n",
      "Step #4: length()\r\n",
      "\r\n",
      "==================== 33 tests deselected =====================\r\n",
      "\r\n",
      "1 failed, 33 deselected in 0.75 seconds\r\n"
     ]
    }
   ],
   "source": [
    "!sh pytest.sh check_property_queue_matches_model_1"
   ]
  },
  {
   "cell_type": "code",
   "execution_count": null,
   "metadata": {
    "code_folding": [],
    "collapsed": false,
    "deletable": true,
    "editable": true,
    "slideshow": {
     "slide_type": "subslide"
    }
   },
   "outputs": [],
   "source": [
    "class QueueStateMachine2(QueueStateMachine):\n",
    "        \n",
    "    is_not_full = lambda self: (hasattr(self, 'model')\n",
    "                                and len(self.model) < self.max_size)\n",
    "\n",
    "    @precondition(is_not_full)\n",
    "    @rule(item=st.integers())\n",
    "    def put(self, item):\n",
    "        super().put(item)\n",
    "        \n",
    "check_property_queue_matches_model_2 = QueueStateMachine2.TestCase"
   ]
  },
  {
   "cell_type": "code",
   "execution_count": 73,
   "metadata": {
    "collapsed": false,
    "deletable": true,
    "editable": true,
    "scrolled": false,
    "slideshow": {
     "slide_type": "subslide"
    }
   },
   "outputs": [
    {
     "name": "stdout",
     "output_type": "stream",
     "text": [
      "F\r\n",
      "\r\n",
      "========================== FAILURES ==========================\r\n",
      "\r\n",
      "\r\n",
      "________ check_property_queue_matches_model_2.runTest ________\r\n",
      "\r\n",
      "\r\n",
      "test_run.py:299: in get\r\n",
      "\r\n",
      "E   AssertionError: assert 0 == 1\r\n",
      "\r\n",
      "------------------------- Hypothesis -------------------------\r\n",
      "\r\n",
      "Step #1: new(max_size=2)\r\n",
      "Step #2: put(item=0)\r\n",
      "Step #3: put(item=1)\r\n",
      "Step #4: get()\r\n",
      "\r\n",
      "==================== 33 tests deselected =====================\r\n",
      "\r\n",
      "1 failed, 33 deselected in 0.86 seconds\r\n"
     ]
    }
   ],
   "source": [
    "!sh pytest.sh check_property_queue_matches_model_2"
   ]
  },
  {
   "cell_type": "code",
   "execution_count": null,
   "metadata": {
    "collapsed": true,
    "deletable": true,
    "editable": true,
    "slideshow": {
     "slide_type": "skip"
    }
   },
   "outputs": [],
   "source": [
    "class QueueStateMachine2(QueueStateMachine2):\n",
    "    # undo the cheating fix\n",
    "    Actual = Queue"
   ]
  },
  {
   "cell_type": "code",
   "execution_count": null,
   "metadata": {
    "code_folding": [],
    "collapsed": true,
    "deletable": true,
    "editable": true,
    "slideshow": {
     "slide_type": "subslide"
    }
   },
   "outputs": [],
   "source": [
    "class QueueStateMachine3(QueueStateMachine2):\n",
    "    \n",
    "    @precondition(QueueStateMachine2.is_not_full)\n",
    "    @rule(item=st.integers())\n",
    "    def put(self, item):\n",
    "        self.actual.put(item), self.model.insert(0, item)\n",
    "        \n",
    "check_property_queue_matches_model_3 = QueueStateMachine3.TestCase"
   ]
  },
  {
   "cell_type": "code",
   "execution_count": 74,
   "metadata": {
    "collapsed": false,
    "deletable": true,
    "editable": true,
    "slideshow": {
     "slide_type": "subslide"
    }
   },
   "outputs": [
    {
     "name": "stdout",
     "output_type": "stream",
     "text": [
      "F\r\n",
      "\r\n",
      "========================== FAILURES ==========================\r\n",
      "\r\n",
      "\r\n",
      "________ check_property_queue_matches_model_3.runTest ________\r\n",
      "\r\n",
      "\r\n",
      "test_run.py:305: in length\r\n",
      "\r\n",
      "E   AssertionError: assert 0 == 1\r\n",
      "\r\n",
      "------------------------- Hypothesis -------------------------\r\n",
      "\r\n",
      "Step #1: new(max_size=1)\r\n",
      "Step #2: put(item=0)\r\n",
      "Step #3: length()\r\n",
      "\r\n",
      "==================== 33 tests deselected =====================\r\n",
      "\r\n",
      "1 failed, 33 deselected in 0.79 seconds\r\n"
     ]
    }
   ],
   "source": [
    "!sh pytest.sh check_property_queue_matches_model_3"
   ]
  },
  {
   "cell_type": "code",
   "execution_count": 75,
   "metadata": {
    "collapsed": false,
    "deletable": true,
    "editable": true,
    "slideshow": {
     "slide_type": "subslide"
    }
   },
   "outputs": [
    {
     "data": {
      "text/plain": [
       "0"
      ]
     },
     "execution_count": 75,
     "metadata": {},
     "output_type": "execute_result"
    }
   ],
   "source": [
    "queue = Queue(max_size=1)\n",
    "queue._in"
   ]
  },
  {
   "cell_type": "code",
   "execution_count": 76,
   "metadata": {
    "collapsed": false,
    "deletable": true,
    "editable": true,
    "slideshow": {
     "slide_type": "fragment"
    }
   },
   "outputs": [
    {
     "data": {
      "text/plain": [
       "0"
      ]
     },
     "execution_count": 76,
     "metadata": {},
     "output_type": "execute_result"
    }
   ],
   "source": [
    "queue.put(0)\n",
    "queue._in"
   ]
  },
  {
   "cell_type": "code",
   "execution_count": null,
   "metadata": {
    "collapsed": false,
    "deletable": true,
    "editable": true,
    "slideshow": {
     "slide_type": "fragment"
    }
   },
   "outputs": [],
   "source": [
    "def put(self, item):\n",
    "    self._buffer[self._in] = item\n",
    "    self._in = (self._in+ 1) % self.max_size"
   ]
  },
  {
   "cell_type": "code",
   "execution_count": null,
   "metadata": {
    "collapsed": true,
    "deletable": true,
    "editable": true,
    "slideshow": {
     "slide_type": "subslide"
    }
   },
   "outputs": [],
   "source": [
    "class Queue2(Queue):\n",
    "    def __init__(self, max_size):\n",
    "        super(Queue2, self).__init__(max_size + 1)\n",
    "\n",
    "class QueueStateMachine4(QueueStateMachine3):\n",
    "    Actual = Queue2\n",
    "    \n",
    "check_property_queue_matches_model_4 = QueueStateMachine4.TestCase"
   ]
  },
  {
   "cell_type": "code",
   "execution_count": 77,
   "metadata": {
    "collapsed": false,
    "deletable": true,
    "editable": true,
    "slideshow": {
     "slide_type": "subslide"
    }
   },
   "outputs": [
    {
     "name": "stdout",
     "output_type": "stream",
     "text": [
      ".\r\n",
      "\r\n",
      "==================== 33 tests deselected =====================\r\n",
      "\r\n",
      "1 passed, 33 deselected in 1.58 seconds\r\n"
     ]
    }
   ],
   "source": [
    "!sh pytest.sh check_property_queue_matches_model_4"
   ]
  },
  {
   "cell_type": "markdown",
   "metadata": {
    "deletable": true,
    "editable": true,
    "slideshow": {
     "slide_type": "slide"
    }
   },
   "source": [
    "&nbsp;"
   ]
  },
  {
   "cell_type": "markdown",
   "metadata": {
    "deletable": true,
    "editable": true,
    "slideshow": {
     "slide_type": "subslide"
    }
   },
   "source": [
    "![property based testing](pbt.jpg)"
   ]
  },
  {
   "cell_type": "markdown",
   "metadata": {
    "deletable": true,
    "editable": true,
    "slideshow": {
     "slide_type": "subslide"
    }
   },
   "source": [
    "![signal](signal.jpg)"
   ]
  },
  {
   "cell_type": "markdown",
   "metadata": {
    "deletable": true,
    "editable": true,
    "slideshow": {
     "slide_type": "subslide"
    }
   },
   "source": [
    "![patterns](patterns.jpg)"
   ]
  },
  {
   "cell_type": "markdown",
   "metadata": {
    "deletable": true,
    "editable": true,
    "slideshow": {
     "slide_type": "subslide"
    }
   },
   "source": [
    "![datagen](datagen.jpg)"
   ]
  },
  {
   "cell_type": "markdown",
   "metadata": {
    "deletable": true,
    "editable": true,
    "slideshow": {
     "slide_type": "subslide"
    }
   },
   "source": [
    "![stateful](stateful.jpg)"
   ]
  },
  {
   "cell_type": "markdown",
   "metadata": {
    "deletable": true,
    "editable": true,
    "slideshow": {
     "slide_type": "subslide"
    }
   },
   "source": [
    "&nbsp;"
   ]
  },
  {
   "cell_type": "markdown",
   "metadata": {
    "deletable": true,
    "editable": true,
    "slideshow": {
     "slide_type": "fragment"
    }
   },
   "source": [
    "# Stop Writing Tests..."
   ]
  },
  {
   "cell_type": "markdown",
   "metadata": {
    "deletable": true,
    "editable": true,
    "slideshow": {
     "slide_type": "fragment"
    }
   },
   "source": [
    "# ...Start Generating Them!"
   ]
  },
  {
   "cell_type": "code",
   "execution_count": 69,
   "metadata": {
    "collapsed": false,
    "deletable": true,
    "editable": true,
    "slideshow": {
     "slide_type": "skip"
    }
   },
   "outputs": [
    {
     "data": {
      "application/javascript": [
       "$('#clear_all_output').click()"
      ],
      "text/plain": [
       "<IPython.core.display.Javascript object>"
      ]
     },
     "metadata": {},
     "output_type": "display_data"
    }
   ],
   "source": [
    "%%javascript\n",
    "$('#clear_all_output').click()"
   ]
  },
  {
   "cell_type": "code",
   "execution_count": 71,
   "metadata": {
    "collapsed": false,
    "deletable": true,
    "editable": true,
    "slideshow": {
     "slide_type": "skip"
    }
   },
   "outputs": [
    {
     "data": {
      "text/html": [
       "<link href=\"https://fonts.googleapis.com/css?family=ABeeZee\" rel=\"stylesheet\">\n",
       "<style>body { font-family: 'ABeeZee', serif !important; }</style>"
      ],
      "text/plain": [
       "<IPython.core.display.HTML object>"
      ]
     },
     "metadata": {},
     "output_type": "display_data"
    }
   ],
   "source": [
    "%%HTML\n",
    "<link href=\"https://fonts.googleapis.com/css?family=ABeeZee\" rel=\"stylesheet\">\n",
    "<style>body { font-family: 'ABeeZee', serif !important; }</style>"
   ]
  }
 ],
 "metadata": {
  "celltoolbar": "Slideshow",
  "kernelspec": {
   "display_name": "Python 3",
   "language": "python",
   "name": "python3"
  },
  "language_info": {
   "codemirror_mode": {
    "name": "ipython",
    "version": 3
   },
   "file_extension": ".py",
   "mimetype": "text/x-python",
   "name": "python",
   "nbconvert_exporter": "python",
   "pygments_lexer": "ipython3",
   "version": "3.6.0"
  },
  "livereveal": {
   "scroll": true,
   "theme": "black",
   "transition": "fade"
  }
 },
 "nbformat": 4,
 "nbformat_minor": 0
}
