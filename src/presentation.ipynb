{
 "cells": [
  {
   "cell_type": "code",
   "execution_count": null,
   "metadata": {
    "collapsed": false,
    "deletable": true,
    "editable": true,
    "slideshow": {
     "slide_type": "notes"
    }
   },
   "outputs": [],
   "source": [
    "%%javascript\n",
    "$('#run_all_cells_below').click()"
   ]
  },
  {
   "cell_type": "markdown",
   "metadata": {
    "deletable": true,
    "editable": true,
    "slideshow": {
     "slide_type": "slide"
    }
   },
   "source": [
    "# Property Based Testing\n",
    "## (Using Hypothesis)<br><br><br>\n",
    "### Amsterdam Python Meetup\n",
    "### 26 April 2017<br><br><br>\n",
    "### Daniel Bradburn"
   ]
  },
  {
   "cell_type": "markdown",
   "metadata": {
    "deletable": true,
    "editable": true,
    "slideshow": {
     "slide_type": "subslide"
    }
   },
   "source": [
    "Property based testing"
   ]
  },
  {
   "cell_type": "markdown",
   "metadata": {
    "deletable": true,
    "editable": true,
    "slideshow": {
     "slide_type": "fragment"
    }
   },
   "source": [
    "Choosing properties"
   ]
  },
  {
   "cell_type": "markdown",
   "metadata": {
    "deletable": true,
    "editable": true,
    "slideshow": {
     "slide_type": "fragment"
    }
   },
   "source": [
    "Generating data"
   ]
  },
  {
   "cell_type": "markdown",
   "metadata": {
    "deletable": true,
    "editable": true,
    "slideshow": {
     "slide_type": "fragment"
    }
   },
   "source": [
    "Model based testing"
   ]
  },
  {
   "cell_type": "markdown",
   "metadata": {
    "deletable": true,
    "editable": true,
    "slideshow": {
     "slide_type": "fragment"
    }
   },
   "source": [
    "Django"
   ]
  },
  {
   "cell_type": "markdown",
   "metadata": {
    "deletable": true,
    "editable": true,
    "slideshow": {
     "slide_type": "fragment"
    }
   },
   "source": [
    "Examples"
   ]
  },
  {
   "cell_type": "markdown",
   "metadata": {
    "deletable": true,
    "editable": true,
    "slideshow": {
     "slide_type": "slide"
    }
   },
   "source": [
    "## Property Based Testing"
   ]
  },
  {
   "cell_type": "markdown",
   "metadata": {
    "deletable": true,
    "editable": true,
    "slideshow": {
     "slide_type": "notes"
    }
   },
   "source": [
    "say we have a run length encoding function. We encode a string as characters and the number of consecutive occurrences of that character. let's just test this out with something simple"
   ]
  },
  {
   "cell_type": "code",
   "execution_count": null,
   "metadata": {
    "collapsed": true,
    "deletable": true,
    "editable": true,
    "slideshow": {
     "slide_type": "subslide"
    }
   },
   "outputs": [],
   "source": [
    "def encode(input_string):\n",
    "    count = 1\n",
    "    prev = ''\n",
    "    lst = []\n",
    "    for character in input_string:\n",
    "        if character != prev:\n",
    "            if prev:\n",
    "                lst.append((prev, count))\n",
    "            count = 1\n",
    "            prev = character\n",
    "        else:\n",
    "            count += 1\n",
    "    else:\n",
    "        lst.append((character, count))\n",
    "    return lst"
   ]
  },
  {
   "cell_type": "code",
   "execution_count": null,
   "metadata": {
    "collapsed": false,
    "deletable": true,
    "editable": true,
    "slideshow": {
     "slide_type": "fragment"
    }
   },
   "outputs": [],
   "source": [
    "encode('hello')"
   ]
  },
  {
   "cell_type": "markdown",
   "metadata": {
    "deletable": true,
    "editable": true,
    "slideshow": {
     "slide_type": "notes"
    }
   },
   "source": [
    "and we also have a decode function which reconstructs the string let's just check this function, let's use the output from the encode"
   ]
  },
  {
   "cell_type": "code",
   "execution_count": null,
   "metadata": {
    "collapsed": true,
    "deletable": true,
    "editable": true,
    "slideshow": {
     "slide_type": "subslide"
    }
   },
   "outputs": [],
   "source": [
    "def decode(lst):\n",
    "    return ''.join(c * n for c, n in lst)"
   ]
  },
  {
   "cell_type": "code",
   "execution_count": null,
   "metadata": {
    "collapsed": false,
    "deletable": true,
    "editable": true,
    "slideshow": {
     "slide_type": "fragment"
    }
   },
   "outputs": [],
   "source": [
    "decode([('h', 1), ('e', 1), ('l', 2), ('o', 1)])"
   ]
  },
  {
   "cell_type": "markdown",
   "metadata": {
    "deletable": true,
    "editable": true,
    "slideshow": {
     "slide_type": "notes"
    }
   },
   "source": [
    "but it's probably best to formalize this in a unit test. I'm using pytest here, but you could use unittest or your favourite test runner, the principal is the same."
   ]
  },
  {
   "cell_type": "code",
   "execution_count": null,
   "metadata": {
    "collapsed": true,
    "deletable": true,
    "editable": true,
    "slideshow": {
     "slide_type": "subslide"
    }
   },
   "outputs": [],
   "source": [
    "def test_run_length_encode():\n",
    "    input_data = \"hello\"\n",
    "    expected = [('h', 1), ('e', 1), ('l', 2), ('o', 1)]\n",
    "    actual = encode(input_data)\n",
    "    assert actual == expected"
   ]
  },
  {
   "cell_type": "code",
   "execution_count": null,
   "metadata": {
    "collapsed": false,
    "deletable": true,
    "editable": true,
    "slideshow": {
     "slide_type": "-"
    }
   },
   "outputs": [],
   "source": [
    "!sh pytest_run.sh test_run_length_encode"
   ]
  },
  {
   "cell_type": "code",
   "execution_count": null,
   "metadata": {
    "collapsed": true,
    "deletable": true,
    "editable": true,
    "slideshow": {
     "slide_type": "subslide"
    }
   },
   "outputs": [],
   "source": [
    "def test_run_length_decode():\n",
    "    input_data = [('h', 1), ('e', 1), ('l', 2), ('o', 1)]\n",
    "    expected = \"hello\"\n",
    "    actual = decode(input_data)\n",
    "    assert actual == expected"
   ]
  },
  {
   "cell_type": "code",
   "execution_count": null,
   "metadata": {
    "collapsed": false,
    "deletable": true,
    "editable": true,
    "slideshow": {
     "slide_type": "-"
    }
   },
   "outputs": [],
   "source": [
    "!sh pytest_run.sh test_run_length_decode"
   ]
  },
  {
   "cell_type": "code",
   "execution_count": null,
   "metadata": {
    "collapsed": true,
    "deletable": true,
    "editable": true,
    "slideshow": {
     "slide_type": "subslide"
    }
   },
   "outputs": [],
   "source": [
    "import pytest\n",
    "\n",
    "examples = ['hello', 'python', 'uhm...']\n",
    "\n",
    "@pytest.mark.parametrize('input_data', examples)\n",
    "def test_parameterized_run_length_encode_decode(input_data):\n",
    "    assert decode(encode(input_data)) == input_data"
   ]
  },
  {
   "cell_type": "code",
   "execution_count": null,
   "metadata": {
    "collapsed": false,
    "deletable": true,
    "editable": true,
    "slideshow": {
     "slide_type": "-"
    }
   },
   "outputs": [],
   "source": [
    "!sh pytest_run.sh test_parameterized_run_length_encode_decode"
   ]
  },
  {
   "cell_type": "code",
   "execution_count": null,
   "metadata": {
    "collapsed": true,
    "deletable": true,
    "editable": true,
    "slideshow": {
     "slide_type": "subslide"
    }
   },
   "outputs": [],
   "source": [
    "import random, string\n",
    "\n",
    "random.seed(0)\n",
    "\n",
    "random_letter = lambda: random.choice(string.ascii_letters)\n",
    "random_range = lambda m: range(random.randint(0, m))\n",
    "random_word = lambda m: (random_letter() for i in random_range(m))\n",
    "random_words = lambda n, m: (''.join(random_word(m)) for n in range(n))\n",
    "\n",
    "@pytest.mark.parametrize('input_data', random_words(5, 10))\n",
    "def test_fuzzed_run_length_encode_decode(input_data):\n",
    "    assert decode(encode(input_data)) == input_data"
   ]
  },
  {
   "cell_type": "code",
   "execution_count": null,
   "metadata": {
    "collapsed": false,
    "deletable": true,
    "editable": true,
    "slideshow": {
     "slide_type": "-"
    }
   },
   "outputs": [],
   "source": [
    "!sh pytest_run.sh test_fuzzed_run_length_encode_decode"
   ]
  },
  {
   "cell_type": "code",
   "execution_count": null,
   "metadata": {
    "collapsed": true,
    "deletable": true,
    "editable": true,
    "slideshow": {
     "slide_type": "subslide"
    }
   },
   "outputs": [],
   "source": [
    "from hypothesis import strategies as st\n",
    "from hypothesis import given\n",
    "\n",
    "@given(st.text())\n",
    "def test_property_based_run_length_encode_decode(input_data):\n",
    "    assert decode(encode(input_data)) == input_data"
   ]
  },
  {
   "cell_type": "code",
   "execution_count": null,
   "metadata": {
    "collapsed": false,
    "deletable": true,
    "editable": true,
    "slideshow": {
     "slide_type": "-"
    }
   },
   "outputs": [],
   "source": [
    "!sh pytest_run.sh test_property_based_run_length_encode_decode"
   ]
  },
  {
   "cell_type": "code",
   "execution_count": null,
   "metadata": {
    "collapsed": true,
    "deletable": true,
    "editable": true,
    "slideshow": {
     "slide_type": "subslide"
    }
   },
   "outputs": [],
   "source": [
    "def encode_fixed(input_string):\n",
    "    count = 1\n",
    "    prev = ''\n",
    "    lst = []\n",
    "    character = ''\n",
    "    for character in input_string:\n",
    "        if character != prev:\n",
    "            if prev:\n",
    "                lst.append((prev, count))\n",
    "            count = 1\n",
    "            prev = character\n",
    "        else:\n",
    "            count += 1\n",
    "    else:\n",
    "        lst.append((character, count))\n",
    "    return lst"
   ]
  },
  {
   "cell_type": "code",
   "execution_count": null,
   "metadata": {
    "collapsed": true,
    "deletable": true,
    "editable": true,
    "slideshow": {
     "slide_type": "subslide"
    }
   },
   "outputs": [],
   "source": [
    "@given(st.text())\n",
    "def test_property_based_run_length_encode_decode_fixed(input_data):\n",
    "    assert decode(encode_fixed(input_data)) == input_data"
   ]
  },
  {
   "cell_type": "code",
   "execution_count": null,
   "metadata": {
    "collapsed": false,
    "deletable": true,
    "editable": true,
    "slideshow": {
     "slide_type": "-"
    }
   },
   "outputs": [],
   "source": [
    "!sh pytest_run.sh test_property_based_run_length_encode_decode_fixed"
   ]
  },
  {
   "cell_type": "markdown",
   "metadata": {
    "deletable": true,
    "editable": true,
    "slideshow": {
     "slide_type": "subslide"
    }
   },
   "source": [
    "Summary (TODO)"
   ]
  },
  {
   "cell_type": "markdown",
   "metadata": {
    "deletable": true,
    "editable": true,
    "slideshow": {
     "slide_type": "slide"
    }
   },
   "source": [
    "## Property patterns"
   ]
  },
  {
   "cell_type": "code",
   "execution_count": null,
   "metadata": {
    "collapsed": true,
    "deletable": true,
    "editable": true,
    "slideshow": {
     "slide_type": "subslide"
    }
   },
   "outputs": [],
   "source": [
    "from hypothesis import given, strategies as st\n",
    "\n",
    "@given(st.lists(st.integers(), min_size=1))\n",
    "def test_round_and_around(c):\n",
    "    assert c[::-1][::-1] == c"
   ]
  },
  {
   "cell_type": "code",
   "execution_count": null,
   "metadata": {
    "collapsed": false,
    "deletable": true,
    "editable": true,
    "slideshow": {
     "slide_type": "-"
    }
   },
   "outputs": [],
   "source": [
    "!sh pytest_run.sh test_round_and_around"
   ]
  },
  {
   "cell_type": "code",
   "execution_count": null,
   "metadata": {
    "collapsed": true,
    "deletable": true,
    "editable": true,
    "slideshow": {
     "slide_type": "subslide"
    }
   },
   "outputs": [],
   "source": [
    "@given(st.integers(), st.integers())\n",
    "def test_different_paths_same_destination_add(x, y):\n",
    "    assert x + y == y + x"
   ]
  },
  {
   "cell_type": "code",
   "execution_count": null,
   "metadata": {
    "collapsed": false,
    "deletable": true,
    "editable": true,
    "slideshow": {
     "slide_type": "-"
    }
   },
   "outputs": [],
   "source": [
    "!sh pytest_run.sh test_different_paths_same_destination_add"
   ]
  },
  {
   "cell_type": "code",
   "execution_count": null,
   "metadata": {
    "collapsed": true,
    "deletable": true,
    "editable": true,
    "slideshow": {
     "slide_type": "subslide"
    }
   },
   "outputs": [],
   "source": [
    "@given(st.integers(), st.integers())\n",
    "def test_there_and_back_again_add(m, n):\n",
    "    assert m + n - n == m\n",
    "\n",
    "@given(st.text())\n",
    "def test_there_and_back_again_encode_decode(t):\n",
    "    assert t.encode('utf-8').decode('utf-8') == t"
   ]
  },
  {
   "cell_type": "code",
   "execution_count": null,
   "metadata": {
    "collapsed": false,
    "deletable": true,
    "editable": true,
    "slideshow": {
     "slide_type": "-"
    }
   },
   "outputs": [],
   "source": [
    "!sh pytest_run.sh test_there_and_back_again"
   ]
  },
  {
   "cell_type": "code",
   "execution_count": null,
   "metadata": {
    "collapsed": true,
    "deletable": true,
    "editable": true,
    "slideshow": {
     "slide_type": "subslide"
    }
   },
   "outputs": [],
   "source": [
    "from heapq import heapify, heappop\n",
    "\n",
    "@given(st.lists(st.integers(), min_size=1))\n",
    "def test_some_things_never_change(c):\n",
    "    smallest = min(c)\n",
    "    heapify(c)\n",
    "    assert heappop(c) == smallest"
   ]
  },
  {
   "cell_type": "code",
   "execution_count": null,
   "metadata": {
    "collapsed": false,
    "deletable": true,
    "editable": true,
    "slideshow": {
     "slide_type": "-"
    }
   },
   "outputs": [],
   "source": [
    "!sh pytest_run.sh test_some_things_never_change"
   ]
  },
  {
   "cell_type": "code",
   "execution_count": null,
   "metadata": {
    "collapsed": true,
    "deletable": true,
    "editable": true,
    "slideshow": {
     "slide_type": "subslide"
    }
   },
   "outputs": [],
   "source": [
    "@given(st.lists(st.integers()))\n",
    "def test_the_more_things_change_the_more_they_stay_the_same(c):\n",
    "    assert set(c) == set(set(c))"
   ]
  },
  {
   "cell_type": "code",
   "execution_count": null,
   "metadata": {
    "collapsed": false,
    "deletable": true,
    "editable": true,
    "slideshow": {
     "slide_type": "-"
    }
   },
   "outputs": [],
   "source": [
    "!sh pytest_run.sh test_the_more_things_change_the_more_they_stay_the_same"
   ]
  },
  {
   "cell_type": "code",
   "execution_count": null,
   "metadata": {
    "collapsed": true,
    "deletable": true,
    "editable": true,
    "slideshow": {
     "slide_type": "subslide"
    }
   },
   "outputs": [],
   "source": [
    "def test_hard_to_prove_easy_to_verify():\n",
    "    pass"
   ]
  },
  {
   "cell_type": "code",
   "execution_count": null,
   "metadata": {
    "collapsed": false,
    "deletable": true,
    "editable": true,
    "slideshow": {
     "slide_type": "-"
    }
   },
   "outputs": [],
   "source": [
    "!sh pytest_run.sh test_hard_to_prove_easy_to_verify"
   ]
  },
  {
   "cell_type": "code",
   "execution_count": null,
   "metadata": {
    "collapsed": true,
    "deletable": true,
    "editable": true,
    "slideshow": {
     "slide_type": "subslide"
    }
   },
   "outputs": [],
   "source": [
    "def test_two_heads_are_better_than_one():\n",
    "    pass"
   ]
  },
  {
   "cell_type": "code",
   "execution_count": null,
   "metadata": {
    "collapsed": false,
    "deletable": true,
    "editable": true,
    "slideshow": {
     "slide_type": "-"
    }
   },
   "outputs": [],
   "source": [
    "!sh pytest_run.sh test_two_heads_are_better_than_one"
   ]
  },
  {
   "cell_type": "markdown",
   "metadata": {
    "deletable": true,
    "editable": true,
    "slideshow": {
     "slide_type": "subslide"
    }
   },
   "source": [
    "Summary (TODO)"
   ]
  },
  {
   "cell_type": "markdown",
   "metadata": {
    "deletable": true,
    "editable": true,
    "slideshow": {
     "slide_type": "slide"
    }
   },
   "source": [
    "## Data generation"
   ]
  },
  {
   "cell_type": "code",
   "execution_count": null,
   "metadata": {
    "collapsed": false,
    "deletable": true,
    "editable": true,
    "slideshow": {
     "slide_type": "subslide"
    }
   },
   "outputs": [],
   "source": [
    "from hypothesis import strategies as st\n",
    "\n",
    "st.integers().example()"
   ]
  },
  {
   "cell_type": "code",
   "execution_count": null,
   "metadata": {
    "collapsed": false,
    "deletable": true,
    "editable": true,
    "slideshow": {
     "slide_type": "-"
    }
   },
   "outputs": [],
   "source": [
    "st.text().example()"
   ]
  },
  {
   "cell_type": "code",
   "execution_count": null,
   "metadata": {
    "collapsed": false,
    "deletable": true,
    "editable": true,
    "slideshow": {
     "slide_type": "-"
    }
   },
   "outputs": [],
   "source": [
    "st.floats().example()"
   ]
  },
  {
   "cell_type": "code",
   "execution_count": null,
   "metadata": {
    "collapsed": false,
    "deletable": true,
    "editable": true,
    "slideshow": {
     "slide_type": "-"
    }
   },
   "outputs": [],
   "source": [
    "st.lists(st.integers()).example()"
   ]
  },
  {
   "cell_type": "code",
   "execution_count": null,
   "metadata": {
    "collapsed": false,
    "deletable": true,
    "editable": true,
    "slideshow": {
     "slide_type": "subslide"
    }
   },
   "outputs": [],
   "source": [
    "nodes = st.floats() | st.booleans() | st.text() | st.none()\n",
    "children = lambda x: st.lists(x) | st.dictionaries(st.text(), x)\n",
    "st.recursive(nodes, children).example()"
   ]
  },
  {
   "cell_type": "code",
   "execution_count": null,
   "metadata": {
    "collapsed": true,
    "deletable": true,
    "editable": true,
    "slideshow": {
     "slide_type": "subslide"
    }
   },
   "outputs": [],
   "source": [
    "@st.composite\n",
    "def composite_strategy(draw):\n",
    "    pass"
   ]
  },
  {
   "cell_type": "markdown",
   "metadata": {
    "deletable": true,
    "editable": true,
    "slideshow": {
     "slide_type": "subslide"
    }
   },
   "source": [
    "Summary (TODO)"
   ]
  },
  {
   "cell_type": "markdown",
   "metadata": {
    "deletable": true,
    "editable": true,
    "slideshow": {
     "slide_type": "slide"
    }
   },
   "source": [
    "## Model Based Testing"
   ]
  },
  {
   "cell_type": "code",
   "execution_count": null,
   "metadata": {
    "collapsed": true,
    "deletable": true,
    "editable": true,
    "slideshow": {
     "slide_type": "slide"
    }
   },
   "outputs": [],
   "source": [
    "class Queue(object):\n",
    "\n",
    "    def __init__(self, max_size):\n",
    "        self._buffer = [None] * max_size\n",
    "        self._in, self._out, self.max_size = 0, 0, max_size\n",
    "\n",
    "    def put(self, item):\n",
    "        self._buffer[self._in] = item\n",
    "        self._in = (self._in + 1) % self.max_size\n",
    "\n",
    "    def get(self):\n",
    "        result = self._buffer[self._out]\n",
    "        self._out = (self._out + 1) % self.max_size\n",
    "        return result\n",
    "\n",
    "    def __len__(self):\n",
    "        return (self._in - self._out) % self.max_size"
   ]
  },
  {
   "cell_type": "code",
   "execution_count": null,
   "metadata": {
    "collapsed": false,
    "deletable": true,
    "editable": true,
    "slideshow": {
     "slide_type": "subslide"
    }
   },
   "outputs": [],
   "source": [
    "operations = 'new', 'put', 'get', 'size'\n",
    "\n",
    "import itertools\n",
    "\n",
    "list(itertools.permutations(operations))"
   ]
  },
  {
   "cell_type": "markdown",
   "metadata": {
    "deletable": true,
    "editable": true,
    "slideshow": {
     "slide_type": "notes"
    }
   },
   "source": [
    "But what if a bug only occurs if we perform the same operation twice in a row?"
   ]
  },
  {
   "cell_type": "code",
   "execution_count": null,
   "metadata": {
    "collapsed": false,
    "deletable": true,
    "editable": true,
    "slideshow": {
     "slide_type": "subslide"
    }
   },
   "outputs": [],
   "source": [
    "# ensure we also test the case where the same operation is\n",
    "# performed twice\n",
    "len(list(itertools.permutations(operations * 2)))"
   ]
  },
  {
   "cell_type": "markdown",
   "metadata": {
    "deletable": true,
    "editable": true,
    "slideshow": {
     "slide_type": "notes"
    }
   },
   "source": [
    "What about performing the same operation 3 times in a row? Or passing different values\n",
    "to the various arguments these operations take? As we can see, in even\n",
    "the simplest of systems the number of test cases for a brute force method\n",
    "is unmanageable. There must be a better way.\n",
    "Of course not all permutations are valid, for example we don't want a test case of the\n",
    "form ``put``, ``get``, ``new``, ``size`` - it doesn't make sense to do perform any of\n",
    "the other operations on a queue until after it is created. What we need is a way to\n",
    "specify the valid operations for the system under test.\n",
    "In hypothesis we can derive a class from RuleBasedStateMachine where methods decorated\n",
    "with @rule are treated as states in the system. The @rule decorator is a bit like the\n",
    "@given decorator, defining the strategies to use for generating argument values. However\n",
    "@rule is only allowed in the context of a RuleBasedStateMachine.\n",
    "All transitions between states are assumed valid, but the @precondition decorator can be\n",
    "used on a method to indicate whether a transition to this state is valid or not. In this\n",
    "way we can build a specification for the system under test.\n",
    "Using the Queue example, this is how the specification would look. To create\n",
    "a new queue we have the precondition that the queue must not already be\n",
    "created. For all other operations we check the precondition that the queue\n",
    "must have been created. And to get an item from the queue, we want to check\n",
    "that the queue is not empty."
   ]
  },
  {
   "cell_type": "code",
   "execution_count": null,
   "metadata": {
    "collapsed": true,
    "deletable": true,
    "editable": true,
    "slideshow": {
     "slide_type": "subslide"
    }
   },
   "outputs": [],
   "source": [
    "from hypothesis import strategies as st\n",
    "from hypothesis.stateful import RuleBasedStateMachine, rule, precondition\n",
    "\n",
    "class QueueMachine(RuleBasedStateMachine):\n",
    "\n",
    "    Actual, Model = Queue, list\n",
    "\n",
    "    def is_created(self):\n",
    "        return hasattr(self, 'actual')\n",
    "\n",
    "    @precondition(lambda self: not self.is_created())\n",
    "    @rule(max_size=st.integers(min_value=1, max_value=10))\n",
    "    def new(self, max_size):\n",
    "        self.actual, self.model = self.Actual(max_size), self.Model()\n",
    "        self.max_size = max_size\n",
    "\n",
    "    @precondition(is_created)\n",
    "    @rule(item=st.integers())\n",
    "    def put(self, item):\n",
    "        self.actual.put(item)\n",
    "        self.model.append(item)\n",
    "\n",
    "    def is_not_empty(self):\n",
    "        return self.is_created() and len(self.model)\n",
    "\n",
    "    @precondition(is_not_empty)\n",
    "    @rule()\n",
    "    def get(self):\n",
    "        actual, model = self.actual.get(), self.model.pop()\n",
    "        assert actual == model\n",
    "\n",
    "    @precondition(is_created)\n",
    "    @rule()\n",
    "    def size(self):\n",
    "        actual, model = len(self.actual), len(self.model)\n",
    "        assert actual == model"
   ]
  },
  {
   "cell_type": "markdown",
   "metadata": {
    "deletable": true,
    "editable": true,
    "slideshow": {
     "slide_type": "notes"
    }
   },
   "source": [
    "Besides specifying the various states and valid transitions, we want these\n",
    "methods to actually invoke the operation it represents on the system under\n",
    "test, but also we want to have a model which represents our system under\n",
    "test, and perform some similar operation on the model as well. We can then\n",
    "assert post conditions comparing the model and the system under test to\n",
    "determine if we got the expected behaviour or not. Of course you don't have\n",
    "to use a model, you can assert other properties about the system under test\n",
    "using this method.\n",
    "So in our queue example we can use a list as our model."
   ]
  },
  {
   "cell_type": "code",
   "execution_count": 54,
   "metadata": {
    "collapsed": false,
    "deletable": true,
    "editable": true,
    "slideshow": {
     "slide_type": "subslide"
    }
   },
   "outputs": [
    {
     "name": "stdout",
     "output_type": "stream",
     "text": [
      "F\r\n",
      "\r\n",
      "============================== FAILURES ==============================\r\n",
      "\r\n",
      "\r\n",
      "_____________________ test_model_based_1.runTest _____________________\r\n",
      "\r\n",
      "\r\n",
      ".venv/hypothesis/stateful.py:182: in runTest\r\n",
      "    run_state_machine_as_test(state_machine_class)\r\n",
      "\r\n",
      ".venv/hypothesis/stateful.py:109: in run_state_machine_as_test\r\n",
      "    breaker.run(state_machine_factory(), print_steps=True)\r\n",
      "\r\n",
      ".venv/hypothesis/stateful.py:237: in run\r\n",
      "    state_machine.execute_step(value)\r\n",
      "\r\n",
      ".venv/hypothesis/stateful.py:512: in execute_step\r\n",
      "    result = rule.function(self, **data)\r\n",
      "\r\n",
      "test_4_model_based_testing.py:131: in get\r\n",
      "    assert actual == model\r\n",
      "E   AssertionError: assert 0 == 1\r\n",
      "\r\n",
      "----------------------------- Hypothesis -----------------------------\r\n",
      "\r\n",
      "Step #1: new(max_size=2)\r\n",
      "Step #2: put(item=0)\r\n",
      "Step #3: put(item=1)\r\n",
      "Step #4: get()\r\n",
      "\r\n",
      "======================== 23 tests deselected =========================\r\n",
      "\r\n",
      "1 failed, 23 deselected in 0.17 seconds\r\n"
     ]
    }
   ],
   "source": [
    "test_model_based_1 = QueueMachine.TestCase\n",
    "!sh pytest_run.sh test_model_based_1"
   ]
  },
  {
   "cell_type": "markdown",
   "metadata": {
    "deletable": true,
    "editable": true,
    "slideshow": {
     "slide_type": "notes"
    }
   },
   "source": [
    "RuleBasedStateMachine exposes a TestCase class which can be used like the\n",
    "standard TestCase classes.\n",
    "Let's run some tests.\n",
    "As you can see we got some failures, let's have a look at the error, it appears\n",
    "we created a new queue of size 2, we put a 0 into it, then put a 1 into it, and\n",
    "the performed a get. If we look at the assertion failure, we see that by the get\n",
    "our system under test gave us a 0, while the model gave us a 1. Now this is a\n",
    "FIFO queue, which is the behaviour we see from the actual system under test. We\n",
    "have here a bug in our model, our model is insufficient to represent the system\n",
    "under test. Luckily we can fix that by changing the append to a prepend in the\n",
    "put state."
   ]
  },
  {
   "cell_type": "code",
   "execution_count": null,
   "metadata": {
    "collapsed": true,
    "deletable": true,
    "editable": true,
    "slideshow": {
     "slide_type": "subslide"
    }
   },
   "outputs": [],
   "source": [
    "class QueueMachine2(QueueMachine):\n",
    "\n",
    "    @precondition(QueueMachine.is_created)\n",
    "    @rule(item=st.integers())\n",
    "    def put(self, item):\n",
    "        self.actual.put(item)\n",
    "        self.model.insert(0, item)"
   ]
  },
  {
   "cell_type": "markdown",
   "metadata": {
    "deletable": true,
    "editable": true,
    "slideshow": {
     "slide_type": "notes"
    }
   },
   "source": [
    "Let's run the tests again and see what happens."
   ]
  },
  {
   "cell_type": "code",
   "execution_count": 55,
   "metadata": {
    "collapsed": false,
    "deletable": true,
    "editable": true,
    "slideshow": {
     "slide_type": "-"
    }
   },
   "outputs": [
    {
     "name": "stdout",
     "output_type": "stream",
     "text": [
      "F\r\n",
      "\r\n",
      "============================== FAILURES ==============================\r\n",
      "\r\n",
      "\r\n",
      "_____________________ test_model_based_2.runTest _____________________\r\n",
      "\r\n",
      "\r\n",
      ".venv/hypothesis/stateful.py:182: in runTest\r\n",
      "    run_state_machine_as_test(state_machine_class)\r\n",
      "\r\n",
      ".venv/hypothesis/stateful.py:109: in run_state_machine_as_test\r\n",
      "    breaker.run(state_machine_factory(), print_steps=True)\r\n",
      "\r\n",
      ".venv/hypothesis/stateful.py:237: in run\r\n",
      "    state_machine.execute_step(value)\r\n",
      "\r\n",
      ".venv/hypothesis/stateful.py:512: in execute_step\r\n",
      "    result = rule.function(self, **data)\r\n",
      "\r\n",
      "test_4_model_based_testing.py:137: in size\r\n",
      "    assert actual == model\r\n",
      "E   AssertionError: assert 0 == 2\r\n",
      "\r\n",
      "----------------------------- Hypothesis -----------------------------\r\n",
      "\r\n",
      "Step #1: new(max_size=1)\r\n",
      "Step #2: put(item=0)\r\n",
      "Step #3: put(item=0)\r\n",
      "Step #4: size()\r\n",
      "\r\n",
      "======================== 23 tests deselected =========================\r\n",
      "\r\n",
      "1 failed, 23 deselected in 0.17 seconds\r\n"
     ]
    }
   ],
   "source": [
    "test_model_based_2 = QueueMachine2.TestCase\n",
    "!sh pytest_run.sh test_model_based_2"
   ]
  },
  {
   "cell_type": "markdown",
   "metadata": {
    "deletable": true,
    "editable": true,
    "slideshow": {
     "slide_type": "notes"
    }
   },
   "source": [
    "This time we encounter a different error. We create a new queue of size 1, we\n",
    "put a 0 into it, then put another 0 into it, and then ask for the size. Our\n",
    "actual system under test reports 0, while the model reports 2. Now the 0 is\n",
    "clearly wrong, but what is going on here? Well I create a queue of size 1\n",
    "and then I put 2 items into it. It's debatable about what the system should\n",
    "actually do here, maybe raise an exception, but for the sake of the tests\n",
    "we generated an invalid test case here, so this is a bug in our specification.\n",
    "We can fix this by altering the pre condition to ensure we don't try and put\n",
    "items on the queue if it is already full."
   ]
  },
  {
   "cell_type": "code",
   "execution_count": null,
   "metadata": {
    "collapsed": true,
    "deletable": true,
    "editable": true,
    "slideshow": {
     "slide_type": "subslide"
    }
   },
   "outputs": [],
   "source": [
    "class QueueMachine3(QueueMachine2):\n",
    "\n",
    "    def is_not_full(self):\n",
    "        return self.is_created() and len(self.model) < self.max_size\n",
    "\n",
    "    @precondition(is_not_full)\n",
    "    @rule(item=st.integers())\n",
    "    def put(self, item):\n",
    "        self.actual.put(item)\n",
    "        self.model.insert(0, item)"
   ]
  },
  {
   "cell_type": "markdown",
   "metadata": {
    "deletable": true,
    "editable": true,
    "slideshow": {
     "slide_type": "notes"
    }
   },
   "source": [
    "Let's run the tests again with the updated model and specification."
   ]
  },
  {
   "cell_type": "code",
   "execution_count": 56,
   "metadata": {
    "collapsed": false,
    "deletable": true,
    "editable": true,
    "slideshow": {
     "slide_type": "-"
    }
   },
   "outputs": [
    {
     "name": "stdout",
     "output_type": "stream",
     "text": [
      "F\r\n",
      "\r\n",
      "============================== FAILURES ==============================\r\n",
      "\r\n",
      "\r\n",
      "_____________________ test_model_based_3.runTest _____________________\r\n",
      "\r\n",
      "\r\n",
      ".venv/hypothesis/stateful.py:182: in runTest\r\n",
      "    run_state_machine_as_test(state_machine_class)\r\n",
      "\r\n",
      ".venv/hypothesis/stateful.py:109: in run_state_machine_as_test\r\n",
      "    breaker.run(state_machine_factory(), print_steps=True)\r\n",
      "\r\n",
      ".venv/hypothesis/stateful.py:237: in run\r\n",
      "    state_machine.execute_step(value)\r\n",
      "\r\n",
      ".venv/hypothesis/stateful.py:512: in execute_step\r\n",
      "    result = rule.function(self, **data)\r\n",
      "\r\n",
      "test_4_model_based_testing.py:137: in size\r\n",
      "    assert actual == model\r\n",
      "E   AssertionError: assert 0 == 1\r\n",
      "\r\n",
      "----------------------------- Hypothesis -----------------------------\r\n",
      "\r\n",
      "Step #1: new(max_size=1)\r\n",
      "Step #2: put(item=0)\r\n",
      "Step #3: size()\r\n",
      "\r\n",
      "======================== 23 tests deselected =========================\r\n",
      "\r\n",
      "1 failed, 23 deselected in 0.15 seconds\r\n"
     ]
    }
   ],
   "source": [
    "test_model_based_3 = QueueMachine3.TestCase\n",
    "!sh pytest_run.sh test_model_based_3"
   ]
  },
  {
   "cell_type": "markdown",
   "metadata": {
    "deletable": true,
    "editable": true,
    "slideshow": {
     "slide_type": "notes"
    }
   },
   "source": [
    "Now we get yet another error, this time with create a new queue of size 1, we put\n",
    "an item into it and we ask the size. Our model gives the correct answer, 1,\n",
    "but our actual system under test gives a size of 0, that's clearly wrong, I\n",
    "think this is a bug in the actual implementation of the system under test. Let's\n",
    "take a look at what is going here."
   ]
  },
  {
   "cell_type": "code",
   "execution_count": null,
   "metadata": {
    "collapsed": true,
    "deletable": true,
    "editable": true,
    "slideshow": {
     "slide_type": "subslide"
    }
   },
   "outputs": [],
   "source": [
    "class Queue2(Queue):\n",
    "    def __init__(self, max_size):\n",
    "        super(Queue2, self).__init__(max_size + 1)\n",
    "\n",
    "class QueueMachine4(QueueMachine3):\n",
    "    Actual = Queue2"
   ]
  },
  {
   "cell_type": "code",
   "execution_count": 57,
   "metadata": {
    "collapsed": false,
    "deletable": true,
    "editable": true,
    "slideshow": {
     "slide_type": "-"
    }
   },
   "outputs": [
    {
     "name": "stdout",
     "output_type": "stream",
     "text": [
      ".\r\n",
      "\r\n",
      "======================== 23 tests deselected =========================\r\n",
      "\r\n",
      "1 passed, 23 deselected in 0.28 seconds\r\n"
     ]
    }
   ],
   "source": [
    "test_model_based_4 = QueueMachine4.TestCase\n",
    "!sh pytest_run.sh test_model_based_4"
   ]
  },
  {
   "cell_type": "markdown",
   "metadata": {
    "deletable": true,
    "editable": true,
    "slideshow": {
     "slide_type": "subslide"
    }
   },
   "source": []
  },
  {
   "cell_type": "markdown",
   "metadata": {
    "deletable": true,
    "editable": true,
    "slideshow": {
     "slide_type": "fragment"
    }
   },
   "source": [
    "Tackles the problem of testing interactions between features"
   ]
  },
  {
   "cell_type": "markdown",
   "metadata": {
    "deletable": true,
    "editable": true,
    "slideshow": {
     "slide_type": "fragment"
    }
   },
   "source": [
    "Complexity, is this a bug in the spec, model or system under test?"
   ]
  },
  {
   "cell_type": "markdown",
   "metadata": {
    "deletable": true,
    "editable": true,
    "slideshow": {
     "slide_type": "slide"
    }
   },
   "source": [
    "## Django"
   ]
  },
  {
   "cell_type": "markdown",
   "metadata": {
    "deletable": true,
    "editable": true,
    "slideshow": {
     "slide_type": "slide"
    }
   },
   "source": [
    "## Real World Examples"
   ]
  },
  {
   "cell_type": "code",
   "execution_count": 51,
   "metadata": {
    "collapsed": false,
    "deletable": true,
    "editable": true,
    "slideshow": {
     "slide_type": "notes"
    }
   },
   "outputs": [
    {
     "data": {
      "application/javascript": [
       "$('#clear_all_output').click()"
      ],
      "text/plain": [
       "<IPython.core.display.Javascript object>"
      ]
     },
     "metadata": {},
     "output_type": "display_data"
    }
   ],
   "source": [
    "%%javascript\n",
    "$('#clear_all_output').click()"
   ]
  },
  {
   "cell_type": "code",
   "execution_count": 53,
   "metadata": {
    "collapsed": false,
    "deletable": true,
    "editable": true,
    "slideshow": {
     "slide_type": "notes"
    }
   },
   "outputs": [
    {
     "data": {
      "text/html": [
       "<link href=\"https://fonts.googleapis.com/css?family=ABeeZee\" rel=\"stylesheet\">\n",
       "<style>body { font-family: 'ABeeZee', serif !important; }</style>"
      ],
      "text/plain": [
       "<IPython.core.display.HTML object>"
      ]
     },
     "metadata": {},
     "output_type": "display_data"
    }
   ],
   "source": [
    "%%HTML\n",
    "<link href=\"https://fonts.googleapis.com/css?family=ABeeZee\" rel=\"stylesheet\">\n",
    "<style>body { font-family: 'ABeeZee', serif !important; }</style>"
   ]
  }
 ],
 "metadata": {
  "kernelspec": {
   "display_name": "Python 3",
   "language": "python",
   "name": "python3"
  },
  "language_info": {
   "codemirror_mode": {
    "name": "ipython",
    "version": 3
   },
   "file_extension": ".py",
   "mimetype": "text/x-python",
   "name": "python",
   "nbconvert_exporter": "python",
   "pygments_lexer": "ipython3",
   "version": "3.6.0"
  },
  "livereveal": {
   "scroll": true,
   "theme": "black",
   "transition": "fade"
  }
 },
 "nbformat": 4,
 "nbformat_minor": 2
}
