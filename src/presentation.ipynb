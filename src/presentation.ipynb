{
 "cells": [
  {
   "cell_type": "code",
   "execution_count": null,
   "metadata": {
    "collapsed": false,
    "deletable": true,
    "editable": true,
    "slideshow": {
     "slide_type": "notes"
    }
   },
   "outputs": [],
   "source": [
    "%%javascript\n",
    "$('#run_all_cells_below').click()"
   ]
  },
  {
   "cell_type": "code",
   "execution_count": null,
   "metadata": {
    "collapsed": true,
    "deletable": true,
    "editable": true,
    "slideshow": {
     "slide_type": "notes"
    }
   },
   "outputs": [],
   "source": [
    "from hypothesis import settings\n",
    "\n",
    "settings.register_profile(\"presentation\", settings(\n",
    "    database_file=None, \n",
    "    max_examples=100, \n",
    "    stateful_step_count=1000,\n",
    "))\n",
    "\n",
    "settings.load_profile(\"presentation\")"
   ]
  },
  {
   "cell_type": "markdown",
   "metadata": {
    "deletable": true,
    "editable": true,
    "slideshow": {
     "slide_type": "slide"
    }
   },
   "source": [
    "# Property Based Testing\n",
    "## Using Hypothesis<br><br><br>\n",
    "### Amsterdam Python Meetup\n",
    "### 26 April 2017<br><br><br>\n",
    "### Daniel Bradburn"
   ]
  },
  {
   "cell_type": "markdown",
   "metadata": {
    "deletable": true,
    "editable": true,
    "slideshow": {
     "slide_type": "subslide"
    }
   },
   "source": [
    "Property based testing"
   ]
  },
  {
   "cell_type": "markdown",
   "metadata": {
    "deletable": true,
    "editable": true,
    "slideshow": {
     "slide_type": "fragment"
    }
   },
   "source": [
    "Choosing properties"
   ]
  },
  {
   "cell_type": "markdown",
   "metadata": {
    "deletable": true,
    "editable": true,
    "slideshow": {
     "slide_type": "fragment"
    }
   },
   "source": [
    "Generating data"
   ]
  },
  {
   "cell_type": "markdown",
   "metadata": {
    "deletable": true,
    "editable": true,
    "slideshow": {
     "slide_type": "fragment"
    }
   },
   "source": [
    "Stateful testing"
   ]
  },
  {
   "cell_type": "markdown",
   "metadata": {
    "deletable": true,
    "editable": true,
    "slideshow": {
     "slide_type": "slide"
    }
   },
   "source": [
    "## Property Based Testing"
   ]
  },
  {
   "cell_type": "code",
   "execution_count": null,
   "metadata": {
    "collapsed": false,
    "deletable": true,
    "editable": true,
    "slideshow": {
     "slide_type": "subslide"
    }
   },
   "outputs": [],
   "source": [
    "def encode(text):\n",
    "    \"\"\"\n",
    "    Run length encode text - repeated characters are replaced\n",
    "    by a single instance followed by the count.\n",
    "    \"\"\"\n",
    "    prev, count, result = '', '', []\n",
    "    \n",
    "    for curr in text:\n",
    "        if prev == curr:\n",
    "            count += 1\n",
    "        else:\n",
    "            result.append(f'{prev}{count}')\n",
    "            prev, count = curr, 1\n",
    "    else:\n",
    "        result.append(f'{curr}{count}')\n",
    "        \n",
    "    return ''.join(result)"
   ]
  },
  {
   "cell_type": "code",
   "execution_count": 72,
   "metadata": {
    "collapsed": false,
    "deletable": true,
    "editable": true,
    "scrolled": false,
    "slideshow": {
     "slide_type": "subslide"
    }
   },
   "outputs": [
    {
     "data": {
      "text/plain": [
       "'h1e1l2o1'"
      ]
     },
     "execution_count": 72,
     "metadata": {},
     "output_type": "execute_result"
    }
   ],
   "source": [
    "encode('hello')"
   ]
  },
  {
   "cell_type": "code",
   "execution_count": null,
   "metadata": {
    "collapsed": true,
    "deletable": true,
    "editable": true,
    "slideshow": {
     "slide_type": "subslide"
    }
   },
   "outputs": [],
   "source": [
    "from re import sub\n",
    "\n",
    "def decode(text):\n",
    "    \"\"\"\n",
    "    Run length decode text - characters followed by a count n\n",
    "    are replaced by the character repeated n times.\n",
    "    \"\"\"\n",
    "    grouper = lambda m: m.group(1) * int(m.group(2))\n",
    "    return sub(r'(\\D)(\\d+)', grouper, text)"
   ]
  },
  {
   "cell_type": "code",
   "execution_count": null,
   "metadata": {
    "collapsed": false,
    "deletable": true,
    "editable": true,
    "slideshow": {
     "slide_type": "subslide"
    }
   },
   "outputs": [],
   "source": [
    "decode('h1e1l4o1')"
   ]
  },
  {
   "cell_type": "code",
   "execution_count": null,
   "metadata": {
    "collapsed": true,
    "deletable": true,
    "editable": true,
    "slideshow": {
     "slide_type": "subslide"
    }
   },
   "outputs": [],
   "source": [
    "def test_run_length_encode():\n",
    "    assert encode('hello') == 'h1e1l2o1'"
   ]
  },
  {
   "cell_type": "code",
   "execution_count": 73,
   "metadata": {
    "collapsed": false,
    "deletable": true,
    "editable": true,
    "scrolled": true,
    "slideshow": {
     "slide_type": "-"
    }
   },
   "outputs": [
    {
     "name": "stdout",
     "output_type": "stream",
     "text": [
      ".\r\n",
      "\r\n",
      "==================== 33 tests deselected =====================\r\n",
      "\r\n",
      "1 passed, 33 deselected in 0.63 seconds\r\n"
     ]
    }
   ],
   "source": [
    "!sh pytest.sh test_run_length_encode"
   ]
  },
  {
   "cell_type": "code",
   "execution_count": null,
   "metadata": {
    "collapsed": true,
    "deletable": true,
    "editable": true,
    "slideshow": {
     "slide_type": "subslide"
    }
   },
   "outputs": [],
   "source": [
    "def test_run_length_decode():\n",
    "    assert decode('h1e1l2o1') == 'hello'"
   ]
  },
  {
   "cell_type": "code",
   "execution_count": 74,
   "metadata": {
    "collapsed": false,
    "deletable": true,
    "editable": true,
    "slideshow": {
     "slide_type": "-"
    }
   },
   "outputs": [
    {
     "name": "stdout",
     "output_type": "stream",
     "text": [
      ".\r\n",
      "\r\n",
      "==================== 33 tests deselected =====================\r\n",
      "\r\n",
      "1 passed, 33 deselected in 0.60 seconds\r\n"
     ]
    }
   ],
   "source": [
    "!sh pytest.sh test_run_length_decode"
   ]
  },
  {
   "cell_type": "code",
   "execution_count": null,
   "metadata": {
    "collapsed": true,
    "deletable": true,
    "editable": true,
    "slideshow": {
     "slide_type": "subslide"
    }
   },
   "outputs": [],
   "source": [
    "import pytest\n",
    "\n",
    "examples = ['hello', 'python', 'meetup', 'amsterdam']\n",
    "\n",
    "@pytest.mark.parametrize('text', examples)\n",
    "def test_parameterized_run_length_encode_decode(text):\n",
    "    assert decode(encode(text)) == text"
   ]
  },
  {
   "cell_type": "code",
   "execution_count": 75,
   "metadata": {
    "collapsed": false,
    "deletable": true,
    "editable": true,
    "slideshow": {
     "slide_type": "-"
    }
   },
   "outputs": [
    {
     "name": "stdout",
     "output_type": "stream",
     "text": [
      "....\r\n",
      "\r\n",
      "==================== 30 tests deselected =====================\r\n",
      "\r\n",
      "4 passed, 30 deselected in 0.62 seconds\r\n"
     ]
    }
   ],
   "source": [
    "!sh pytest.sh test_parameterized_run_length_encode_decode"
   ]
  },
  {
   "cell_type": "code",
   "execution_count": null,
   "metadata": {
    "collapsed": false,
    "deletable": true,
    "editable": true,
    "slideshow": {
     "slide_type": "subslide"
    }
   },
   "outputs": [],
   "source": [
    "from random import seed, choice, randint\n",
    "\n",
    "seed(0)\n",
    "\n",
    "randletter = lambda _: chr(choice(range(32, 255)))\n",
    "randrange  = lambda length: range(randint(0, length))\n",
    "randchars  = lambda max_len: map(randletter, randrange(max_len))\n",
    "randword   = lambda max_len: ''.join(randchars(max_len))\n",
    "randwords  = lambda n, max_len: (randword(max_len) for _ in range(n))\n",
    "\n",
    "@pytest.mark.parametrize('text', randwords(n=5, max_len=5))\n",
    "def test_fuzzed_run_length_encode_decode(text):\n",
    "    assert decode(encode(text)) == text"
   ]
  },
  {
   "cell_type": "code",
   "execution_count": 76,
   "metadata": {
    "collapsed": false,
    "deletable": true,
    "editable": true,
    "scrolled": true,
    "slideshow": {
     "slide_type": "-"
    }
   },
   "outputs": [
    {
     "name": "stdout",
     "output_type": "stream",
     "text": [
      ".....\r\n",
      "\r\n",
      "==================== 29 tests deselected =====================\r\n",
      "\r\n",
      "5 passed, 29 deselected in 0.62 seconds\r\n"
     ]
    }
   ],
   "source": [
    "!sh pytest.sh test_fuzzed_run_length_encode_decode"
   ]
  },
  {
   "cell_type": "code",
   "execution_count": null,
   "metadata": {
    "collapsed": true,
    "deletable": true,
    "editable": true,
    "slideshow": {
     "slide_type": "subslide"
    }
   },
   "outputs": [],
   "source": [
    "from hypothesis import strategies as st, given\n",
    "\n",
    "@given(st.text())\n",
    "def check_property_rle_encode_decode_should_round_trip(text):\n",
    "    assert decode(encode(text)) == text"
   ]
  },
  {
   "cell_type": "code",
   "execution_count": 77,
   "metadata": {
    "collapsed": false,
    "deletable": true,
    "editable": true,
    "scrolled": false,
    "slideshow": {
     "slide_type": "-"
    }
   },
   "outputs": [
    {
     "name": "stdout",
     "output_type": "stream",
     "text": [
      "F\r\n",
      "\r\n",
      "========================== FAILURES ==========================\r\n",
      "\r\n",
      "\r\n",
      "_____ check_property_rle_encode_decode_should_round_trip _____\r\n",
      "\r\n",
      "\r\n",
      "test_run.py:77: in check_property_rle_encode_decode_should_round_trip\r\n",
      "\r\n",
      "test_run.py:78: in check_property_rle_encode_decode_should_round_trip\r\n",
      "\r\n",
      "test_run.py:26: in encode\r\n",
      "\r\n",
      "E   UnboundLocalError: local variable 'curr' referenced before assignment\r\n",
      "\r\n",
      "------------------------- Hypothesis -------------------------\r\n",
      "\r\n",
      "Falsifying example: check_property_rle_encode_decode_should_round_trip(text='')\r\n",
      "\r\n",
      "==================== 33 tests deselected =====================\r\n",
      "\r\n",
      "1 failed, 33 deselected in 0.78 seconds\r\n"
     ]
    }
   ],
   "source": [
    "!sh pytest.sh check_property_rle_encode_decode_should_round_trip"
   ]
  },
  {
   "cell_type": "code",
   "execution_count": null,
   "metadata": {
    "collapsed": true,
    "deletable": true,
    "editable": true,
    "slideshow": {
     "slide_type": "subslide"
    }
   },
   "outputs": [],
   "source": [
    "def encode_fixed(text):\n",
    "    \"\"\"\n",
    "    Run length encode text - repeated characters are replaced\n",
    "    by a single instance followed by the count.\n",
    "    \"\"\"\n",
    "    curr, prev, count, result = '', '', '', []\n",
    "    \n",
    "    for curr in text:\n",
    "        if prev == curr:\n",
    "            count += 1\n",
    "        else:\n",
    "            result.append(f'{prev}{count}')\n",
    "            prev, count = curr, 1\n",
    "    else:\n",
    "        result.append(f'{curr}{count}')\n",
    "        \n",
    "    return ''.join(result)"
   ]
  },
  {
   "cell_type": "code",
   "execution_count": null,
   "metadata": {
    "collapsed": false,
    "deletable": true,
    "editable": true,
    "slideshow": {
     "slide_type": "subslide"
    }
   },
   "outputs": [],
   "source": [
    "@given(st.text())\n",
    "def check_property_fixed_rle_encode_decode_should_round_trip(text):\n",
    "    assert decode(encode_fixed(text)) == text"
   ]
  },
  {
   "cell_type": "code",
   "execution_count": null,
   "metadata": {
    "collapsed": false,
    "deletable": true,
    "editable": true,
    "scrolled": false,
    "slideshow": {
     "slide_type": "-"
    }
   },
   "outputs": [],
   "source": [
    "!sh pytest.sh check_property_fixed_rle_encode_decode_should_round_trip"
   ]
  },
  {
   "cell_type": "code",
   "execution_count": null,
   "metadata": {
    "code_folding": [],
    "collapsed": false,
    "deletable": true,
    "editable": true,
    "slideshow": {
     "slide_type": "subslide"
    }
   },
   "outputs": [],
   "source": [
    "from string import digits\n",
    "\n",
    "@given(st.text(st.characters(blacklist_characters=digits)))\n",
    "def check_property_nonum_rle_encode_decode_should_round_trip(text):\n",
    "    assert decode(encode_fixed(text)) == text"
   ]
  },
  {
   "cell_type": "code",
   "execution_count": null,
   "metadata": {
    "collapsed": false,
    "deletable": true,
    "editable": true,
    "scrolled": false,
    "slideshow": {
     "slide_type": "-"
    }
   },
   "outputs": [],
   "source": [
    "!sh pytest.sh check_property_nonum_rle_encode_decode_should_round_trip"
   ]
  },
  {
   "cell_type": "code",
   "execution_count": null,
   "metadata": {
    "collapsed": false,
    "deletable": true,
    "editable": true,
    "slideshow": {
     "slide_type": "subslide"
    }
   },
   "outputs": [],
   "source": [
    "from hypothesis import settings, Verbosity\n",
    "\n",
    "@settings(verbosity=Verbosity.verbose)\n",
    "@given(st.text())\n",
    "def check_property_verbose_rle_encode_decode_should_round_trip(text):\n",
    "    assert decode(encode_fixed(text)) == text"
   ]
  },
  {
   "cell_type": "code",
   "execution_count": null,
   "metadata": {
    "collapsed": false,
    "deletable": true,
    "editable": true,
    "scrolled": false,
    "slideshow": {
     "slide_type": "-"
    }
   },
   "outputs": [],
   "source": [
    "!sh pytest.sh check_property_verbose_rle_encode_decode_should_round_trip"
   ]
  },
  {
   "cell_type": "code",
   "execution_count": null,
   "metadata": {
    "collapsed": true,
    "deletable": true,
    "editable": true,
    "slideshow": {
     "slide_type": "subslide"
    }
   },
   "outputs": [],
   "source": [
    "from random import seed\n",
    "\n",
    "seed(0)\n",
    "\n",
    "@pytest.mark.parametrize('text', randwords(n=5, max_len=15))\n",
    "def test_fuzzed_more_run_length_encode_decode(text):\n",
    "    assert decode(encode_fixed(text)) == text"
   ]
  },
  {
   "cell_type": "code",
   "execution_count": null,
   "metadata": {
    "collapsed": false,
    "deletable": true,
    "editable": true,
    "slideshow": {
     "slide_type": "-"
    }
   },
   "outputs": [],
   "source": [
    "!sh pytest.sh test_fuzzed_more_run_length_encode_decode"
   ]
  },
  {
   "cell_type": "markdown",
   "metadata": {
    "deletable": true,
    "editable": true,
    "slideshow": {
     "slide_type": "slide"
    }
   },
   "source": [
    "## Property patterns"
   ]
  },
  {
   "cell_type": "code",
   "execution_count": null,
   "metadata": {
    "collapsed": true,
    "deletable": true,
    "editable": true,
    "slideshow": {
     "slide_type": "subslide"
    }
   },
   "outputs": [],
   "source": [
    "@given(st.text())\n",
    "def check_property_dont_explode(text):\n",
    "    text.encode('ascii')"
   ]
  },
  {
   "cell_type": "code",
   "execution_count": null,
   "metadata": {
    "collapsed": false,
    "deletable": true,
    "editable": true,
    "slideshow": {
     "slide_type": "-"
    }
   },
   "outputs": [],
   "source": [
    "!sh pytest.sh check_property_dont_explode"
   ]
  },
  {
   "cell_type": "code",
   "execution_count": null,
   "metadata": {
    "collapsed": true,
    "deletable": true,
    "editable": true,
    "slideshow": {
     "slide_type": "subslide"
    }
   },
   "outputs": [],
   "source": [
    "@given(st.text())\n",
    "def check_property_there_and_back_again(text):\n",
    "    assert text.encode('utf-8').decode('utf-8') == text"
   ]
  },
  {
   "cell_type": "code",
   "execution_count": null,
   "metadata": {
    "collapsed": false,
    "deletable": true,
    "editable": true,
    "slideshow": {
     "slide_type": "-"
    }
   },
   "outputs": [],
   "source": [
    "!sh pytest.sh check_property_there_and_back_again"
   ]
  },
  {
   "cell_type": "code",
   "execution_count": null,
   "metadata": {
    "collapsed": true,
    "deletable": true,
    "editable": true,
    "slideshow": {
     "slide_type": "subslide"
    }
   },
   "outputs": [],
   "source": [
    "@given(st.lists(st.integers(), min_size=1))\n",
    "def check_property_round_and_around(c):\n",
    "    assert c[::-1][::-1] == c"
   ]
  },
  {
   "cell_type": "code",
   "execution_count": null,
   "metadata": {
    "collapsed": false,
    "deletable": true,
    "editable": true,
    "slideshow": {
     "slide_type": "-"
    }
   },
   "outputs": [],
   "source": [
    "!sh pytest.sh check_property_round_and_around"
   ]
  },
  {
   "cell_type": "code",
   "execution_count": null,
   "metadata": {
    "collapsed": true,
    "deletable": true,
    "editable": true,
    "slideshow": {
     "slide_type": "subslide"
    }
   },
   "outputs": [],
   "source": [
    "@given(st.integers(), st.integers())\n",
    "def check_property_different_paths_same_destination(x, y):\n",
    "    assert x + y == y + x"
   ]
  },
  {
   "cell_type": "code",
   "execution_count": null,
   "metadata": {
    "collapsed": false,
    "deletable": true,
    "editable": true,
    "slideshow": {
     "slide_type": "-"
    }
   },
   "outputs": [],
   "source": [
    "!sh pytest.sh check_property_different_paths_same_destination"
   ]
  },
  {
   "cell_type": "code",
   "execution_count": null,
   "metadata": {
    "collapsed": true,
    "deletable": true,
    "editable": true,
    "slideshow": {
     "slide_type": "subslide"
    }
   },
   "outputs": [],
   "source": [
    "from heapq import heapify, heappop\n",
    "\n",
    "@given(st.lists(st.integers(), min_size=1))\n",
    "def check_property_some_things_never_change(c):\n",
    "    smallest = min(c)\n",
    "    heapify(c)\n",
    "    assert heappop(c) == smallest"
   ]
  },
  {
   "cell_type": "code",
   "execution_count": 78,
   "metadata": {
    "collapsed": false,
    "deletable": true,
    "editable": true,
    "slideshow": {
     "slide_type": "-"
    }
   },
   "outputs": [
    {
     "name": "stdout",
     "output_type": "stream",
     "text": [
      ".\r\n",
      "\r\n",
      "==================== 33 tests deselected =====================\r\n",
      "\r\n",
      "1 passed, 33 deselected in 0.66 seconds\r\n"
     ]
    }
   ],
   "source": [
    "!sh pytest.sh check_property_some_things_never_change"
   ]
  },
  {
   "cell_type": "code",
   "execution_count": null,
   "metadata": {
    "collapsed": true,
    "deletable": true,
    "editable": true,
    "slideshow": {
     "slide_type": "subslide"
    }
   },
   "outputs": [],
   "source": [
    "@given(st.lists(st.integers()))\n",
    "def check_property_the_more_things_change_the_more_they_stay_the_same(c):\n",
    "    assert set(c) == set(set(c))"
   ]
  },
  {
   "cell_type": "code",
   "execution_count": 79,
   "metadata": {
    "collapsed": false,
    "deletable": true,
    "editable": true,
    "slideshow": {
     "slide_type": "-"
    }
   },
   "outputs": [
    {
     "name": "stdout",
     "output_type": "stream",
     "text": [
      ".\r\n",
      "\r\n",
      "==================== 33 tests deselected =====================\r\n",
      "\r\n",
      "1 passed, 33 deselected in 0.66 seconds\r\n"
     ]
    }
   ],
   "source": [
    "!sh pytest.sh check_property_the_more_things_change_the_more_they_stay_the_same"
   ]
  },
  {
   "cell_type": "code",
   "execution_count": null,
   "metadata": {
    "code_folding": [],
    "collapsed": false,
    "deletable": true,
    "editable": true,
    "slideshow": {
     "slide_type": "subslide"
    }
   },
   "outputs": [],
   "source": [
    "from dataset import connect\n",
    "\n",
    "@given(st.lists(st.integers(min_value=0, max_value=1e6), min_size=1))\n",
    "def check_property_two_heads_are_better_than_one(numbers):\n",
    "    \n",
    "    db = connect('sqlite:///:memory:')\n",
    "    db['nums'].insert_many({'num': x} for x in numbers)\n",
    "    \n",
    "    actual = next(db.query('select sum(num) s from nums'))['s']\n",
    "    expected = sum(numbers)\n",
    "   \n",
    "    assert actual == expected"
   ]
  },
  {
   "cell_type": "code",
   "execution_count": null,
   "metadata": {
    "collapsed": false,
    "deletable": true,
    "editable": true,
    "slideshow": {
     "slide_type": "-"
    }
   },
   "outputs": [],
   "source": [
    "!sh pytest.sh check_property_two_heads_are_better_than_one"
   ]
  },
  {
   "cell_type": "markdown",
   "metadata": {
    "deletable": true,
    "editable": true,
    "slideshow": {
     "slide_type": "slide"
    }
   },
   "source": [
    "## Data generation"
   ]
  },
  {
   "cell_type": "code",
   "execution_count": null,
   "metadata": {
    "collapsed": false,
    "deletable": true,
    "editable": true,
    "slideshow": {
     "slide_type": "subslide"
    }
   },
   "outputs": [],
   "source": [
    "from re import findall\n",
    "from stdnum.isin import is_valid\n",
    "\n",
    "def extract_isin_codes(text):\n",
    "    \"\"\"\n",
    "    Extract strings conforming to the isin code standard\n",
    "    from words in text.\n",
    "    \"\"\"\n",
    "    regex = '[a-zA-Z]{2}[a-zA-Z0-9]{9}[0-9]'\n",
    "    possible_isins = findall(regex, text)\n",
    "    return filter(is_valid, possible_isins)"
   ]
  },
  {
   "cell_type": "code",
   "execution_count": null,
   "metadata": {
    "collapsed": false,
    "deletable": true,
    "editable": true,
    "slideshow": {
     "slide_type": "subslide"
    }
   },
   "outputs": [],
   "source": [
    "from hypothesis import given, strategies as st\n",
    "\n",
    "@settings(verbosity=Verbosity.verbose)\n",
    "@given(st.text())\n",
    "def check_property_extract_isin_codes_1(text):\n",
    "    extract_isin_codes(text)"
   ]
  },
  {
   "cell_type": "code",
   "execution_count": 80,
   "metadata": {
    "collapsed": false,
    "deletable": true,
    "editable": true,
    "scrolled": false,
    "slideshow": {
     "slide_type": "-"
    }
   },
   "outputs": [
    {
     "name": "stdout",
     "output_type": "stream",
     "text": [
      "Trying example: check_property_extract_isin_codes_1(text='\\U0007779bS쟫d⍞띍\\U0005e51bⅥè\\U000dba55[진,J\\U00108ff9谟\\U000c8cd9\\U000aea93Ꚉ𡸶\\x1e\\x8f\\x0bKô')\r\n",
      "Trying example: check_property_extract_isin_codes_1(text='\\U00052520S鍻諗⍜\\U0001bf4d\\U00051829\\U000ef94c𑊗')\r\n",
      "Trying example: check_property_extract_isin_codes_1(text='\\U00052620𐡃º-\\U000c31ca')\r\n",
      "Trying example: check_property_extract_isin_codes_1(text='Ŷ')\r\n",
      "Trying example: check_property_extract_isin_codes_1(text='¦\\U000e104f\\U0005c66a\\ua7ca\\x86\\U000d3863鲦Ǒ\\x01霺英\\n')\r\n",
      "Trying example: check_property_extract_isin_codes_1(text='\\U000108a6\\U000e114fǚ')\r\n",
      "Trying example: check_property_extract_isin_codes_1(text='=\\U000e104f(\\U0001cc81\\x850\\x1e\\U000504b1')\r\n",
      "Trying example: check_property_extract_isin_codes_1(text='H')\r\n",
      "Trying example: check_property_extract_isin_codes_1(text='3ĺ\\x06^\\U000875aeÁ¶嵱\\n鏿\\U0010dbd1+\\n:\\r\\U000d0e91')\r\n",
      "Trying example: check_property_extract_isin_codes_1(text='\\U00040833')\r\n",
      "Trying example: check_property_extract_isin_codes_1(text='ꅗ')\r\n",
      "Trying example: check_property_extract_isin_codes_1(text='\\U00102444\\U00100227\\U00080f69\\n')\r\n",
      "Trying example: check_property_extract_isin_codes_1(text='\\U00102444\\U000ffa27\\x0e\\U00080f69씭\\U000ed42e\\U00055a2c\\U00042ce0')\r\n",
      "Trying example: check_property_extract_isin_codes_1(text='씭\\U00102444\\U00102444\\x0e윭\\U000ed42f\\x0e\\U00062ce0')\r\n",
      "Trying example: check_property_extract_isin_codes_1(text='')\r\n",
      "Trying example: check_property_extract_isin_codes_1(text='\\nT⤝齕[\\U0009e6a8\\n')\r\n",
      "Trying example: check_property_extract_isin_codes_1(text='\\n9ଥᐋ\\n\\U0002d46b!\\x04\\U000b12ab')\r\n",
      "Trying example: check_property_extract_isin_codes_1(text='\\U0002d46b8\\U000531f5\\n\\n\\n\\U0006b68a\\n᯲鞷»')\r\n",
      "Trying example: check_property_extract_isin_codes_1(text='-1')\r\n",
      "Trying example: check_property_extract_isin_codes_1(text='-1➄')\r\n",
      "Trying example: check_property_extract_isin_codes_1(text='000')\r\n",
      "Trying example: check_property_extract_isin_codes_1(text='Ųª\\xad')\r\n",
      "Trying example: check_property_extract_isin_codes_1(text='㼸\\x10')\r\n",
      "Trying example: check_property_extract_isin_codes_1(text='\\U0003e7c1\\x15i\\U000af530*\"\\n\\U00079ce0n\\n\\U00064191êà\\U000709c9䝨v')\r\n",
      "Trying example: check_property_extract_isin_codes_1(text='\\U000eccbb覫')\r\n",
      "Trying example: check_property_extract_isin_codes_1(text='0鹲Ꮲ')\r\n",
      "Trying example: check_property_extract_isin_codes_1(text='\\U00050018')\r\n",
      "Trying example: check_property_extract_isin_codes_1(text='0')\r\n",
      "Trying example: check_property_extract_isin_codes_1(text='薲')\r\n",
      "Trying example: check_property_extract_isin_codes_1(text='뷃\\U000cbbab숬')\r\n",
      "Trying example: check_property_extract_isin_codes_1(text='⁇㺎ᅬⴼ㎓')\r\n",
      "Trying example: check_property_extract_isin_codes_1(text='\\U000ef71e')\r\n",
      "Trying example: check_property_extract_isin_codes_1(text='M\\n\\x0fÌ蓹둺\\U00099581\\U000e23df𦻈')\r\n",
      "Trying example: check_property_extract_isin_codes_1(text='M\\U000b537b\\x0f')\r\n",
      "Trying example: check_property_extract_isin_codes_1(text='M\\U00087098')\r\n",
      "Trying example: check_property_extract_isin_codes_1(text='\\U000f173f\\U00064aa0¨')\r\n",
      "Trying example: check_property_extract_isin_codes_1(text='\\U00087098\\U00105880¨')\r\n",
      "Trying example: check_property_extract_isin_codes_1(text='a쟩')\r\n",
      "Trying example: check_property_extract_isin_codes_1(text='\\U000fd539\\x18\\x1bǡk')\r\n",
      "Trying example: check_property_extract_isin_codes_1(text='\\U000ed85f\\n\\x82\\x0e\\U000156a1')\r\n",
      "Trying example: check_property_extract_isin_codes_1(text='\\U000d7853C')\r\n",
      "Trying example: check_property_extract_isin_codes_1(text='B取\\x93\\nƒ\\U000e6ffeª\\n')\r\n",
      "Trying example: check_property_extract_isin_codes_1(text='\\U000c0126\\U000edcf5\\U0005d4dd')\r\n",
      "Trying example: check_property_extract_isin_codes_1(text='\\nF\\U0010e1f9')\r\n",
      "Trying example: check_property_extract_isin_codes_1(text='\\U000792a9Ð\\U000f75b6')\r\n",
      "Trying example: check_property_extract_isin_codes_1(text='/\\x18\\nR\\x90\\U000c73e9\\U000994c4')\r\n",
      "Trying example: check_property_extract_isin_codes_1(text='!')\r\n",
      "Trying example: check_property_extract_isin_codes_1(text='Y')\r\n",
      "Trying example: check_property_extract_isin_codes_1(text='\\x87䫳\\x9dô\\n\\U00047a58廉䢌Y曩')\r\n",
      "Trying example: check_property_extract_isin_codes_1(text='𠣣\\U0010de9bFö+嗝')\r\n",
      "Trying example: check_property_extract_isin_codes_1(text='\\x0c\\x00\\n\\U000742325')\r\n",
      "Trying example: check_property_extract_isin_codes_1(text='\\U0010e321\\U001071fe\\n\\U0007efb4½\\u177c)')\r\n",
      "Trying example: check_property_extract_isin_codes_1(text='\\U0010e321')\r\n",
      "Trying example: check_property_extract_isin_codes_1(text='\\U000134eb㽙')\r\n",
      "Trying example: check_property_extract_isin_codes_1(text='Ⳬ')\r\n",
      "Trying example: check_property_extract_isin_codes_1(text='Ḗ')\r\n",
      "Trying example: check_property_extract_isin_codes_1(text='ᰊ\\n\\nùG\\U000a033d,\\nq')\r\n",
      "Trying example: check_property_extract_isin_codes_1(text='ᑚ\\U0010ffe5\\nWÇ\\U000a073d\\U000a033d𐠱ŉ\\x06\\U0009cebd썐\\U00032f7d`嵄')\r\n",
      "Trying example: check_property_extract_isin_codes_1(text='˓ᑚ\\x80ᑚ\\U0010ffe5ᑚ\\U00076e4e뵏I\\U00108029\\U00082bb8')\r\n",
      "Trying example: check_property_extract_isin_codes_1(text='˓4䶏')\r\n",
      "Trying example: check_property_extract_isin_codes_1(text='æ㪥뽨⊃,寓')\r\n",
      "Trying example: check_property_extract_isin_codes_1(text='=\\U000442a5\\U0001c768')\r\n",
      "Trying example: check_property_extract_isin_codes_1(text='萒\\U00016674')\r\n",
      ".\r\n",
      "\r\n",
      "==================== 33 tests deselected =====================\r\n",
      "\r\n",
      "1 passed, 33 deselected in 0.69 seconds\r\n"
     ]
    }
   ],
   "source": [
    "!sh pytest.sh check_property_extract_isin_codes_1 -s"
   ]
  },
  {
   "cell_type": "code",
   "execution_count": null,
   "metadata": {
    "collapsed": false,
    "deletable": true,
    "editable": true,
    "slideshow": {
     "slide_type": "subslide"
    }
   },
   "outputs": [],
   "source": [
    "from string import ascii_letters, digits\n",
    "from stdnum.isin import _country_codes, from_natid\n",
    "\n",
    "@st.composite\n",
    "def st_isin_codes(draw):\n",
    "    country_code = draw(st.sampled_from(_country_codes))\n",
    "    alphanum = ascii_letters + digits\n",
    "    natid = draw(st.text(alphanum, min_size=9, max_size=9))\n",
    "    return from_natid(country_code, natid)"
   ]
  },
  {
   "cell_type": "code",
   "execution_count": 87,
   "metadata": {
    "collapsed": false,
    "deletable": true,
    "editable": true,
    "scrolled": false,
    "slideshow": {
     "slide_type": "-"
    }
   },
   "outputs": [
    {
     "data": {
      "text/plain": [
       "'AUDULDIKOYS5'"
      ]
     },
     "execution_count": 87,
     "metadata": {},
     "output_type": "execute_result"
    }
   ],
   "source": [
    "st_isin_codes().example()"
   ]
  },
  {
   "cell_type": "code",
   "execution_count": 90,
   "metadata": {
    "collapsed": false,
    "deletable": true,
    "editable": true,
    "slideshow": {
     "slide_type": "subslide"
    }
   },
   "outputs": [],
   "source": [
    "@settings(verbosity=Verbosity.verbose)\n",
    "@given(st.lists(st_isin_codes()), st.lists(st.text()), st.randoms())\n",
    "def check_property_extract_isin_codes_2(isins, tokens, random):\n",
    "    \n",
    "    tokens += isins\n",
    "    random.shuffle(tokens)\n",
    "    text = ' '.join(tokens)\n",
    "    \n",
    "    actual = sorted(extract_isin_codes(text))\n",
    "    expected = sorted(isins)\n",
    "    \n",
    "    assert actual == expected "
   ]
  },
  {
   "cell_type": "code",
   "execution_count": 91,
   "metadata": {
    "collapsed": false,
    "deletable": true,
    "editable": true,
    "scrolled": false,
    "slideshow": {
     "slide_type": "-"
    }
   },
   "outputs": [
    {
     "name": "stdout",
     "output_type": "stream",
     "text": [
      "Trying example: check_property_extract_isin_codes_2(isins=['XDUX95ENVQX6'], tokens=['쟫d⍞띍\\U0005e51bⅥè\\U000dba55[진,J\\U00108ff9谟\\U000c8cd9\\U000aea93Ꚉ𡸶\\x1e\\x8f\\x0bKô'], random=RandomWithSeed(214))\r\n",
      "Trying example: check_property_extract_isin_codes_2(isins=['BGA9DXJ9CMB5'], tokens=['', '\\x05\\U000f0930\\U000dc08a\\n'], random=RandomWithSeed(-107))\r\n",
      "Trying example: check_property_extract_isin_codes_2(isins=['ETJDHWHHDEE3', 'CGI6BAAVAXI7'], tokens=['', '\\U000e37c6', ''], random=RandomWithSeed(129964248047425392171087870))\r\n",
      "Trying example: check_property_extract_isin_codes_2(isins=[], tokens=['0', '\\U000b8dbf쎠\\x05', '\\U0004f38d'], random=RandomWithSeed(28100003343711044662441065145513410816))\r\n",
      "Trying example: check_property_extract_isin_codes_2(isins=[], tokens=[], random=RandomWithSeed(28099841084434215449077673567503122688))\r\n",
      "Trying example: check_property_extract_isin_codes_2(isins=['PE0SLBRG2OF3'], tokens=['Û=쌶(⦖\\x1a痕졨\\U000504b1',\r\n",
      " '\\x90',\r\n",
      " 'w>ǂ',\r\n",
      " '^E',\r\n",
      " '\\x19\\n\\n',\r\n",
      " \"'\",\r\n",
      " 'n\\x0c´E\\U0010dbd1+\\n:\\r\\U000d0e91',\r\n",
      " '\\U000d7d52\\n?蝚¡',\r\n",
      " 'ø\\U000f5029-D\\U000f8625鮇\\ue144ࠕ',\r\n",
      " 'jĝ\\n\\U0008aa71J',\r\n",
      " '¸',\r\n",
      " '',\r\n",
      " '\\U000ed42e\\U00055a2c\\U00042ce0',\r\n",
      " '\\n頉\"鞙Q',\r\n",
      " '\\n\\x93㙸\\x9aGN\\x18-\\nT⤝齕[\\U0009e6a8\\n'], random=RandomWithSeed(97))\r\n",
      "Trying example: check_property_extract_isin_codes_2(isins=['SLGZRHVLPCB6', 'SOAAQA4ACAC4'], tokens=['', '', 'ڥ\\x1b\\U000128a5'], random=RandomWithSeed(-175))\r\n",
      "Trying example: check_property_extract_isin_codes_2(isins=[], tokens=[], random=RandomWithSeed(-90558587195530025593173947815523520512))\r\n",
      "Trying example: check_property_extract_isin_codes_2(isins=['SLA8LD9SWAS3',\r\n",
      " 'UAONLA5JR192',\r\n",
      " 'IO7CTUCAPXW3',\r\n",
      " 'VN8IPOPTL0L1',\r\n",
      " 'AFFX3DLTG649',\r\n",
      " 'GG3L82ODMJ70',\r\n",
      " 'BSRW0EXSRJV7',\r\n",
      " 'MSP9GDBASEE2',\r\n",
      " 'ZAHNQXQK1LH6',\r\n",
      " 'ADEGXLOGJQD0',\r\n",
      " 'XDPPAYDTLCD2',\r\n",
      " 'ERNBI4CODJF1',\r\n",
      " 'KYQ4ZNSZKQG2'], tokens=['°\\n', '', '\\tI֍`', 'X*\"\\n\\U00079ce0n\\n\\U00064191êà\\U000709c9䝨v', ''], random=RandomWithSeed(111))\r\n",
      "Trying example: check_property_extract_isin_codes_2(isins=['FKCHX9W5KMB7', 'HTFBA8B7LZF1', 'REVJTBQ0DAS2'], tokens=['\\U000e3f55'], random=RandomWithSeed(79796050814616553558978079213110100773))\r\n",
      "Trying example: check_property_extract_isin_codes_2(isins=['DJMSOWAZCID6',\r\n",
      " 'DOFLKSBHAYE6',\r\n",
      " 'MGABJAUCAAO5',\r\n",
      " 'GBOGMASJPLF4',\r\n",
      " 'TJ3ZTKJF21D0'], tokens=['뀓\\x1d箃\\r\\x1bǡk', '쵑\\U0006662f', '', 'Ҹ\\U000b1a41卣\\x1f赭'], random=RandomWithSeed(-236))\r\n",
      "Trying example: check_property_extract_isin_codes_2(isins=['KNPW32ZV0AV0',\r\n",
      " 'AGEMMHRN9840',\r\n",
      " 'STIB9N9HI5S7',\r\n",
      " 'IQHWQ3VMA229',\r\n",
      " 'MDF3Q8AVHTP9',\r\n",
      " 'NPL8JCA5A8E3',\r\n",
      " 'PHLI1R8WALL4',\r\n",
      " 'AQCGWN03ODL3',\r\n",
      " 'TVXYPONVMAZ7',\r\n",
      " 'AEROF732H0M1',\r\n",
      " 'STFIVUWOKPV5'], tokens=['\\n\\U000b2f2b旲取\\x93\\nƒ\\U000e6ffeª\\n'], random=RandomWithSeed(141))\r\n",
      "Trying example: check_property_extract_isin_codes_2(isins=['GUAPAQ23IAA5', 'TJCCCJARWWQ7'], tokens=['\\nĘ㙦', '錓\\uf109𖬻\\U000e0d67\\U000ea693\\U000a4664萝 '], random=RandomWithSeed(145))\r\n",
      "Trying example: check_property_extract_isin_codes_2(isins=[], tokens=['', '', ''], random=RandomWithSeed(116))\r\n",
      "Trying example: check_property_extract_isin_codes_2(isins=[], tokens=['', '', '埢', '几\\U000abae4;', '\\U000a53412'], random=RandomWithSeed(61))\r\n",
      "Trying example: check_property_extract_isin_codes_2(isins=[], tokens=[''], random=RandomWithSeed(57))\r\n",
      "Trying example: check_property_extract_isin_codes_2(isins=[], tokens=[], random=RandomWithSeed(281))\r\n",
      "Trying example: check_property_extract_isin_codes_2(isins=[], tokens=[], random=RandomWithSeed(79))\r\n",
      "Trying example: check_property_extract_isin_codes_2(isins=[], tokens=[], random=RandomWithSeed(14))\r\n",
      "Trying example: check_property_extract_isin_codes_2(isins=[], tokens=[], random=RandomWithSeed(4))\r\n",
      "Trying example: check_property_extract_isin_codes_2(isins=['BQY2TOR4E3V4'], tokens=['\\x0c\\x00\\n\\U000742325', ''], random=RandomWithSeed(128))\r\n",
      "Trying example: check_property_extract_isin_codes_2(isins=['SOBY2BATBA28'], tokens=[], random=RandomWithSeed(-31))\r\n",
      "Trying example: check_property_extract_isin_codes_2(isins=[], tokens=[''], random=RandomWithSeed(128))\r\n",
      "Trying example: check_property_extract_isin_codes_2(isins=[], tokens=[], random=RandomWithSeed(0))\r\n",
      "Trying example: check_property_extract_isin_codes_2(isins=['LIOEEB0BGWU5'], tokens=['\\x0f\\x01'], random=RandomWithSeed(218))\r\n",
      "Trying example: check_property_extract_isin_codes_2(isins=['SJWRYF0LRGE7'], tokens=[''], random=RandomWithSeed(140737488355546))\r\n",
      "Trying example: check_property_extract_isin_codes_2(isins=['CM4DQEEM7WE1'], tokens=[''], random=RandomWithSeed(162652233030852194233896476392304915473))\r\n",
      "Trying example: check_property_extract_isin_codes_2(isins=['INGHSPZMTQE7',\r\n",
      " 'CU6YAFKEV460',\r\n",
      " 'USFJWBV1MLD7',\r\n",
      " 'SIC4LESTYIZ0',\r\n",
      " 'SVTRLTXUDTC8'], tokens=['\\x06\\U0009cebd썐\\U00032f7d`嵄'], random=RandomWithSeed(62))\r\n",
      "Trying example: check_property_extract_isin_codes_2(isins=['SHQJEPN2QKM9', 'AOYQEXQXZ6I4', 'IQGXL0HR76H9'], tokens=[], random=RandomWithSeed(37509375943114431783963360255399367473))\r\n",
      "Trying example: check_property_extract_isin_codes_2(isins=['AQK3MZ3PTBY8', 'EEJRRZYL7N05'], tokens=['', '', '뽨⊃,寓', '\\x8e', '\\U000bcc3dyଇ\\n'], random=RandomWithSeed(124))\r\n",
      "Trying example: check_property_extract_isin_codes_2(isins=[], tokens=['\\U000d0c4b'], random=RandomWithSeed(206))\r\n",
      "Trying example: check_property_extract_isin_codes_2(isins=[], tokens=[], random=RandomWithSeed(7))\r\n",
      "Trying example: check_property_extract_isin_codes_2(isins=[], tokens=[], random=RandomWithSeed(3))\r\n",
      "Trying example: check_property_extract_isin_codes_2(isins=[], tokens=[], random=RandomWithSeed(1))\r\n",
      "Trying example: check_property_extract_isin_codes_2(isins=[], tokens=['\\U000b8929\\U000f2eb0댹',\r\n",
      " '9',\r\n",
      " '\\n\\nµ谦Ľȓ涱\\U000be409-伌9',\r\n",
      " '\\n\\U00013896',\r\n",
      " '錘1\\n\\U000573d8',\r\n",
      " 'Rݧ\\x17\\U00080260\\x02v\\n\\u0b65',\r\n",
      " '\\x82',\r\n",
      " 'ᚄÄ\\U00103779M\\U0010c2944\\U0006280c\\n\\x99\\U0009b365'], random=RandomWithSeed(-18122))\r\n",
      "Trying example: check_property_extract_isin_codes_2(isins=['SOGB7EAAMQZ8',\r\n",
      " 'LYIMCWWBME46',\r\n",
      " 'BBGBXZ2PQDH8',\r\n",
      " 'KZKIABS3NBR0',\r\n",
      " 'SYNFWPBMO7D8',\r\n",
      " 'MOPRRN7YEIQ0',\r\n",
      " 'MLLHYYPAXIW0'], tokens=[], random=RandomWithSeed(1329228708839592462484036281630064641))\r\n",
      "Trying example: check_property_extract_isin_codes_2(isins=['CIG9UEKVNXL9',\r\n",
      " 'TGSYI42MMAU3',\r\n",
      " 'NANVDS2PHHR4',\r\n",
      " 'BTXLGURMDEW0',\r\n",
      " 'WSPFNUIYFGN5'], tokens=[], random=RandomWithSeed(-49395175287350901875940602356820940824))\r\n",
      "Trying example: check_property_extract_isin_codes_2(isins=['GIKZGPAOCAE9',\r\n",
      " 'TNRVTSP2GUU4',\r\n",
      " 'SMIROMWCGJN0',\r\n",
      " 'RW62HV2AMOR2',\r\n",
      " 'UZMRBGZ4P334',\r\n",
      " 'GUWFUDHNT5Z6',\r\n",
      " 'ASB8YW7LEDX7',\r\n",
      " 'BSY3OOHCBUH6',\r\n",
      " 'DZ1TOPSLHQV9',\r\n",
      " 'SKNRATYTBWU7',\r\n",
      " 'CWJLIKXAFF60'], tokens=['\\U000b9c6c\\x82ፑ¢l赞늪估㻀\\U000ad331\\U00073a00\\x15\\U00059ee7\\U00078acd',\r\n",
      " '\\U000e2572'], random=RandomWithSeed(-88))\r\n",
      "Trying example: check_property_extract_isin_codes_2(isins=['TROY5HBVUA90'], tokens=[], random=RandomWithSeed(-31359355382910015260350208920182560663))\r\n",
      "Trying example: check_property_extract_isin_codes_2(isins=['KGUUSRW0EY25',\r\n",
      " 'DOMGNCHDCRR8',\r\n",
      " 'CKMWVBIOFCS8',\r\n",
      " 'HUWEINM2AKX2',\r\n",
      " 'SXTEXMXMQNX0',\r\n",
      " 'SCBWW1NNVPE0',\r\n",
      " 'UMNSM76XUS88',\r\n",
      " 'DJVNG7WEAGV1'], tokens=['Ʊ',\r\n",
      " '\\x17',\r\n",
      " 'ú\\U000b1dacƎ\\n',\r\n",
      " \"\\U00038107\\n\\U0009fed0\\n\\x1f\\x16Ę\\u171eg'\\x81\\n~\\U0007936e\\U00057ed3\",\r\n",
      " '\\x1d\\n莝\\U0004adda霽\\U000160ac\\U00068902𨻾\\x1b',\r\n",
      " 'ß\\n\\U0008d30b\\n\\n\\U000ff9f8º\\x19r',\r\n",
      " '闢',\r\n",
      " '\\U0006cc4b'], random=RandomWithSeed(-32))\r\n",
      "Trying example: check_property_extract_isin_codes_2(isins=[], tokens=[], random=RandomWithSeed(93289106670745746110184437766555043431))\r\n",
      "Trying example: check_property_extract_isin_codes_2(isins=[], tokens=[], random=RandomWithSeed(70))\r\n",
      "Trying example: check_property_extract_isin_codes_2(isins=[], tokens=['\\U0007cb92\\x18'], random=RandomWithSeed(-88740303530362383609076123114559161026))\r\n",
      "Trying example: check_property_extract_isin_codes_2(isins=['BDAXWZXNWMC4', 'DOIJCAAUGET1', 'NUGIMA61UV38'], tokens=['೧䜅㶘\\U00031fa3ć텎\\U000eb8f4xĂ\\x02ꢅ\\x1b·쳷*\\x0bÞ',\r\n",
      " '⯂ŮĢ슇B郂\\U000b0133',\r\n",
      " '\\x1a\\x15\\x0c飾\\n!ƒ\\U0008b53d\\nĳƩ]×\\U000148d0\\n',\r\n",
      " '㝻Y',\r\n",
      " '긒',\r\n",
      " 'F',\r\n",
      " '䃾p缅'], random=RandomWithSeed(-115))\r\n",
      "Trying example: check_property_extract_isin_codes_2(isins=['AMENEVMUZDD5', 'MMHZUVGXEOL4', 'ISW7Z0QWUSP1', 'CLHYB4S4PBA0'], tokens=['', '\\U000e96be瘇ą\\U000b5a8c', ''], random=RandomWithSeed(-45))\r\n",
      "Trying example: check_property_extract_isin_codes_2(isins=['ADJUJVTSGHN6'], tokens=['',\r\n",
      " '\\u0ab4\\U00090870',\r\n",
      " 'Ȱ\\U0008d0f8\\x02\\U000e96be\\U0001dee6',\r\n",
      " '\\U000c96be'], random=RandomWithSeed(-103851640184399968521409614698648384500))\r\n",
      "Trying example: check_property_extract_isin_codes_2(isins=['MP4UZTSULKZ7'], tokens=['', '', '\\U000cd4fcN𖨱\\ue910\\U000890f8'], random=RandomWithSeed(112093014985720905611464576565758940244))\r\n",
      "Trying example: check_property_extract_isin_codes_2(isins=['CLRFLUE5QAQ4',\r\n",
      " 'MOXARUIRTV07',\r\n",
      " 'GR413D0RHAE2',\r\n",
      " 'MZMH9MZIAOX1',\r\n",
      " 'SXHG7JLKDGB7',\r\n",
      " 'GHMKD8S1IYM8',\r\n",
      " 'VAEMT1DM3VK3'], tokens=['\\U00078b88',\r\n",
      " 'N¿\\U000c487e\\U00083e6c\\U0009ba69鵪綦뫡\\U000e7b71\\U000c2b76\\U00051fc1\\U00049d11m`',\r\n",
      " '\\x15\\n×\\U000d59ad⢂',\r\n",
      " '㋨䑵+\\n^',\r\n",
      " '\\n\\U0006e6abI\\x11M\\x1aC\\x16ਅ',\r\n",
      " \"'\\x14\",\r\n",
      " ''], random=RandomWithSeed(13540))\r\n",
      "Trying example: check_property_extract_isin_codes_2(isins=['RUAFLUAARAU7', 'MOABLUAAAA28'], tokens=[''], random=RandomWithSeed(0))\r\n",
      "Trying example: check_property_extract_isin_codes_2(isins=['CNAAAUAEAA05'], tokens=[], random=RandomWithSeed(-49181457012197589057816071516689793024))\r\n",
      "Trying example: check_property_extract_isin_codes_2(isins=['KWAAASAAAA28'], tokens=[], random=RandomWithSeed(-49181457012197589057816071516689793536))\r\n",
      "Trying example: check_property_extract_isin_codes_2(isins=['KWAAAAAAAA28'], tokens=[], random=RandomWithSeed(-49181457012197589057816071516689793536))\r\n",
      "Trying example: check_property_extract_isin_codes_2(isins=['FRGABAAQAA27'], tokens=[], random=RandomWithSeed(0))\r\n",
      "Trying example: check_property_extract_isin_codes_2(isins=['CAAAAAIQAGA1'], tokens=[], random=RandomWithSeed(295147905179352825856))\r\n",
      "Trying example: check_property_extract_isin_codes_2(isins=['CAAAAAYQAGA8'], tokens=[], random=RandomWithSeed(0))\r\n",
      "Trying example: check_property_extract_isin_codes_2(isins=[], tokens=[], random=RandomWithSeed(166153499473220945145271538825954328576))\r\n",
      "Trying example: check_property_extract_isin_codes_2(isins=['JOXMGEXZLRA7', 'MRZG01ET9HT8', 'BDZU7Y2TYVC0', 'SVNV4NG6D3M4'], tokens=['\\U000cdeb6\"', '', '\\U000fe704ć9\\U000d9962\\x02{i\\U0008a74d4R𠍭¤Þ\\x1aį', '罚鮇Gb'], random=RandomWithSeed(-5516542619865680))\r\n",
      "Trying example: check_property_extract_isin_codes_2(isins=['BEBXAGMAAAZ8', 'HRATZ0C1Z969'], tokens=['\\U000cdeb6'], random=RandomWithSeed(94))\r\n",
      "Trying example: check_property_extract_isin_codes_2(isins=[], tokens=[], random=RandomWithSeed(-122))\r\n",
      "Trying example: check_property_extract_isin_codes_2(isins=['BOAQAAAAAAO5', 'SOAAAAYMPQF0', 'MFTAPOID2NY7'], tokens=['¬',\r\n",
      " 'wƻ\\U0002e852\\U0006e803\\t\\n',\r\n",
      " 'x',\r\n",
      " '먯Ŋ\\n\\x1b¥癜쎦\\U00030023\\U000483b9é,j\\U000893ca\\x01â',\r\n",
      " '{襙\\U000dfaba偺\\U000def47T',\r\n",
      " '蟴ß\\x13'], random=RandomWithSeed(-228))\r\n",
      "Trying example: check_property_extract_isin_codes_2(isins=[], tokens=['', ''], random=RandomWithSeed(-119053907162689305975377246782294250761))\r\n",
      "Trying example: check_property_extract_isin_codes_2(isins=['OMAZQANYAAK0',\r\n",
      " 'BOAV2HAMVGB1',\r\n",
      " 'BW4JEDSONFO6',\r\n",
      " 'LSHZP8ZKZZG9',\r\n",
      " 'BQQ05CZ2QTB4',\r\n",
      " 'SEVDLSFEV803',\r\n",
      " 'CFEKDINIC4O5',\r\n",
      " 'PKUDLIDZTOC6',\r\n",
      " 'TFSDK3QIEXV7',\r\n",
      " 'MY5X85GMG217',\r\n",
      " 'UGB033NTMXL6',\r\n",
      " 'IDUWEGBRBOE0'], tokens=['\\U000cee1bㆩሎ\\x8e#!'], random=RandomWithSeed(-54))\r\n",
      "Trying example: check_property_extract_isin_codes_2(isins=[], tokens=['0', '', ''], random=RandomWithSeed(-119053907162689305975377246782294250761))\r\n",
      "Trying example: check_property_extract_isin_codes_2(isins=['NFZZHHASHPA0', 'NOZA9AEAAAP7'], tokens=[], random=RandomWithSeed(22751))\r\n",
      "Trying example: check_property_extract_isin_codes_2(isins=['BFOTAAAFAAA6'], tokens=['\\x17\\n\\U000ef6be\\n禐\\x1b\\nŋ\\x117逞蒾\\U00053ee1¢𘫅唦𤱣둂%,\\x08\\n臰Șª灏Ç\\x17\\x17_.\\n\\U0008ec86¿F\\U0007c93bᏃ',\r\n",
      " '崧',\r\n",
      " '\\n',\r\n",
      " '°đC핅\\U00019738\\x1f@\\n',\r\n",
      " '\\n\\U000ec674\\U000db817X',\r\n",
      " '|_',\r\n",
      " '\\U000f2735껤\\x16\\U000a75ea\\x04l韬㠤Rö\"',\r\n",
      " 'Ĩ鳷\\x196숨\\x97\\n\\nŲ',\r\n",
      " '1ᓌ%c粜ƽ'], random=RandomWithSeed(-46367))\r\n",
      "Trying example: check_property_extract_isin_codes_2(isins=[], tokens=['庅\\x1fꏯ'], random=RandomWithSeed(-21207))\r\n",
      "Trying example: check_property_extract_isin_codes_2(isins=[], tokens=[], random=RandomWithSeed(-603))\r\n",
      "Trying example: check_property_extract_isin_codes_2(isins=['SOAAPAAAAGA7'], tokens=['훶c'], random=RandomWithSeed(-116))\r\n",
      "Trying example: check_property_extract_isin_codes_2(isins=[], tokens=['', '.\\x95:\\x97lڊE\\n\\U0008dfc4Ồ', 'ţ凳U걘', ''], random=RandomWithSeed(8006643927551493257961755468982781446))\r\n",
      "Trying example: check_property_extract_isin_codes_2(isins=['ML96GLAG72G0', 'STAYPGMG3G42', 'BHQG63Y1BBP3', 'SHAGSA6VTLC7'], tokens=['\\U000f42fd', '', '\\U000ea89f'], random=RandomWithSeed(-66572285977934276429318720283233033535))\r\n",
      "Trying example: check_property_extract_isin_codes_2(isins=['GDSR6UZ6T7K8', 'ISD9F6YG66G9', 'LSN8Q7FZE2O9'], tokens=['Ꮌ𦪒\\U000cb4dcĄ',\r\n",
      " '9⻐祷i_\\U000700a1',\r\n",
      " '\\x1e\\U000c4c1b\\U0008396a',\r\n",
      " '\\nǡ',\r\n",
      " 'ğ\\U000dbec8**\\U000c7079',\r\n",
      " ''], random=RandomWithSeed(100083049094393665724521943362284768075))\r\n",
      "Trying example: check_property_extract_isin_codes_2(isins=['IRBZE8IDYDL5'], tokens=[], random=RandomWithSeed(-67636435747603560952318430351988382965))\r\n",
      "Trying example: check_property_extract_isin_codes_2(isins=[], tokens=['蔹\\n0ĕ\\x10\\U000c2b3fs\\U00083779\\x11',\r\n",
      " '\\U00091f2f\\r',\r\n",
      " '\\U000825d8_\\U000ab980',\r\n",
      " '舯K깢𧩚뭂\\n該À;\\x02\\U00089916',\r\n",
      " '\\U000c0cc3é',\r\n",
      " '\\U0003d14e\\n\\U0001a3f9\\U000393a5\\U000ad784\\U000adce2𬯹ųªD둱\\x80'], random=RandomWithSeed(-19750))\r\n",
      "Trying example: check_property_extract_isin_codes_2(isins=[], tokens=[], random=RandomWithSeed(199))\r\n",
      "Trying example: check_property_extract_isin_codes_2(isins=[], tokens=[''], random=RandomWithSeed(36029897673981719660827899610422516507))\r\n",
      "Trying example: check_property_extract_isin_codes_2(isins=['ETPGDNGTDMM4', 'LCWAXAAATYE0'], tokens=['\\n➲ą\\U000b9db55x\\U0004b0b9\\x13\\U0010be92䙗', '\\x93', 'âኼ霙', ''], random=RandomWithSeed(108))\r\n",
      "Trying example: check_property_extract_isin_codes_2(isins=['PGWMJXFJ9EJ3', 'JPUXTNAAHSA8'], tokens=['\\U00056d95'], random=RandomWithSeed(-152793454950774329672770166866421412594))\r\n",
      "Trying example: check_property_extract_isin_codes_2(isins=[], tokens=[], random=RandomWithSeed(10322266542679897814238488093940160039))\r\n",
      "Trying example: check_property_extract_isin_codes_2(isins=['UALIGMCWAPG4'], tokens=[], random=RandomWithSeed(-8565))\r\n",
      "Trying example: check_property_extract_isin_codes_2(isins=['BVSBWI3DF7C0'], tokens=[], random=RandomWithSeed(196))\r\n",
      "Trying example: check_property_extract_isin_codes_2(isins=[], tokens=[], random=RandomWithSeed(-24687152109950437545382079362696909458))\r\n",
      "Trying example: check_property_extract_isin_codes_2(isins=['AI3ALC8AUZE3', 'GDYPERAWYWP0'], tokens=[], random=RandomWithSeed(-125))\r\n",
      "Trying example: check_property_extract_isin_codes_2(isins=[], tokens=['\\U0001bf8eq鳱匬Ĳŧ\\x19A',\r\n",
      " '\\x1e\\x13\\U0002d020\\U000dc0ef厶b걮∳',\r\n",
      " '\\xa0`\\U00074bbc\\n',\r\n",
      " '\\U000d9577D',\r\n",
      " '\\n慆\\x15:8䗐Ŋ',\r\n",
      " '\\n\\x1aw\\U00042d2cKÐ\\U000b9348î\\x83',\r\n",
      " '\\U00059c33',\r\n",
      " '𫜕hW'], random=RandomWithSeed(119))\r\n",
      "Trying example: check_property_extract_isin_codes_2(isins=['SOAAAAAAAAA2'], tokens=[''], random=RandomWithSeed(192))\r\n",
      "Trying example: check_property_extract_isin_codes_2(isins=[], tokens=['', '0'], random=RandomWithSeed(119))\r\n",
      "Trying example: check_property_extract_isin_codes_2(isins=[], tokens=[], random=RandomWithSeed(119))\r\n",
      "Trying example: check_property_extract_isin_codes_2(isins=[], tokens=[], random=RandomWithSeed(10))\r\n",
      "Trying example: check_property_extract_isin_codes_2(isins=[], tokens=[], random=RandomWithSeed(8))\r\n",
      ".\r\n",
      "\r\n",
      "==================== 33 tests deselected =====================\r\n",
      "\r\n",
      "1 passed, 33 deselected in 0.82 seconds\r\n"
     ]
    }
   ],
   "source": [
    "!sh pytest.sh check_property_extract_isin_codes_2 -s"
   ]
  },
  {
   "cell_type": "code",
   "execution_count": null,
   "metadata": {
    "collapsed": false,
    "deletable": true,
    "editable": true,
    "slideshow": {
     "slide_type": "skip"
    }
   },
   "outputs": [],
   "source": [
    "class TextWithIsins:\n",
    "    \n",
    "    def __init__(self, isins, tokens, random):\n",
    "        self.isins, self.tokens = isins, isins + tokens\n",
    "        random.shuffle(self.tokens)\n",
    "        \n",
    "    def __repr__(self):\n",
    "        return ' '.join(self.tokens)\n",
    "\n",
    "    \n",
    "st_text_with_isins = st.builds(TextWithIsins, \n",
    "    isins=st.lists(st_isin_codes()),\n",
    "    tokens=st.lists(st.text()),\n",
    "    random=st.randoms(),\n",
    ")"
   ]
  },
  {
   "cell_type": "code",
   "execution_count": null,
   "metadata": {
    "collapsed": false,
    "deletable": true,
    "editable": true,
    "slideshow": {
     "slide_type": "skip"
    }
   },
   "outputs": [],
   "source": [
    "@settings(verbosity=Verbosity.verbose)\n",
    "@given(st_text_with_isins)\n",
    "def check_property_extract_isin_codes_3(text_with_isins):\n",
    "    actual = sorted(extract_isin_codes(repr(text_with_isins)))\n",
    "    expected = sorted(text_with_isins.isins)\n",
    "    assert actual == expected "
   ]
  },
  {
   "cell_type": "code",
   "execution_count": null,
   "metadata": {
    "collapsed": false,
    "deletable": true,
    "editable": true,
    "scrolled": false,
    "slideshow": {
     "slide_type": "skip"
    }
   },
   "outputs": [],
   "source": [
    "!sh pytest.sh check_property_extract_isin_codes_3 -s"
   ]
  },
  {
   "cell_type": "markdown",
   "metadata": {
    "deletable": true,
    "editable": true,
    "slideshow": {
     "slide_type": "slide"
    }
   },
   "source": [
    "## Stateful Testing"
   ]
  },
  {
   "cell_type": "code",
   "execution_count": null,
   "metadata": {
    "code_folding": [],
    "collapsed": true,
    "deletable": true,
    "editable": true,
    "slideshow": {
     "slide_type": "subslide"
    }
   },
   "outputs": [],
   "source": [
    "class Queue(object):\n",
    "    \"\"\"FIFO queue with a maximum size\"\"\"\n",
    "\n",
    "    def __init__(self, max_size):\n",
    "        self._buffer = [None] * max_size\n",
    "        self._in, self._out, self.max_size = 0, 0, max_size\n",
    "\n",
    "    def put(self, item):\n",
    "        self._buffer[self._in] = item\n",
    "        self._in = (self._in + 1) % self.max_size\n",
    "\n",
    "    def get(self):\n",
    "        result = self._buffer[self._out]\n",
    "        self._out = (self._out + 1) % self.max_size\n",
    "        return result\n",
    "\n",
    "    def __len__(self):\n",
    "        return (self._in - self._out) % self.max_size"
   ]
  },
  {
   "cell_type": "code",
   "execution_count": null,
   "metadata": {
    "collapsed": true,
    "deletable": true,
    "editable": true,
    "slideshow": {
     "slide_type": "subslide"
    }
   },
   "outputs": [],
   "source": [
    "import itertools"
   ]
  },
  {
   "cell_type": "code",
   "execution_count": null,
   "metadata": {
    "collapsed": false,
    "deletable": true,
    "editable": true,
    "slideshow": {
     "slide_type": "-"
    }
   },
   "outputs": [],
   "source": [
    "operations = 'new', 'put', 'get', 'size'\n",
    "list(itertools.permutations(operations))"
   ]
  },
  {
   "cell_type": "code",
   "execution_count": null,
   "metadata": {
    "collapsed": true,
    "deletable": true,
    "editable": true,
    "slideshow": {
     "slide_type": "subslide"
    }
   },
   "outputs": [],
   "source": [
    "from hypothesis.stateful import RuleBasedStateMachine\n",
    "from hypothesis.stateful import rule, precondition"
   ]
  },
  {
   "cell_type": "code",
   "execution_count": null,
   "metadata": {
    "code_folding": [
     10,
     17,
     22,
     28
    ],
    "collapsed": false,
    "deletable": true,
    "editable": true,
    "slideshow": {
     "slide_type": "subslide"
    }
   },
   "outputs": [],
   "source": [
    "class QueueStateMachine(RuleBasedStateMachine):\n",
    "    \n",
    "    Actual, Model = Queue, list\n",
    "\n",
    "    is_created = lambda self: hasattr(self, 'model')\n",
    "    is_not_created = lambda self: not hasattr(self, 'model')\n",
    "    is_not_empty = lambda self: hasattr(self, 'model') \\\n",
    "                                and self.model\n",
    "    \n",
    "    @precondition(is_not_created)\n",
    "    @rule(max_size=st.integers(min_value=1, max_value=10))\n",
    "    def new(self, max_size):\n",
    "        self.actual = self.Actual(max_size) \n",
    "        self.model = self.Model()\n",
    "        self.max_size = max_size\n",
    "\n",
    "    @precondition(is_created)\n",
    "    @rule(item=st.integers())\n",
    "    def put(self, item):\n",
    "        self.actual.put(item), self.model.append(item)\n",
    "\n",
    "    @precondition(is_not_empty)\n",
    "    @rule()\n",
    "    def get(self):\n",
    "        actual, model = self.actual.get(), self.model.pop()\n",
    "        assert actual == model\n",
    "\n",
    "    @precondition(is_created)\n",
    "    @rule()\n",
    "    def length(self):\n",
    "        actual, model = len(self.actual), len(self.model)\n",
    "        assert actual == model"
   ]
  },
  {
   "cell_type": "code",
   "execution_count": null,
   "metadata": {
    "collapsed": true,
    "deletable": true,
    "editable": true,
    "slideshow": {
     "slide_type": "subslide"
    }
   },
   "outputs": [],
   "source": [
    "check_property_queue_matches_model_1 = QueueStateMachine.TestCase"
   ]
  },
  {
   "cell_type": "code",
   "execution_count": null,
   "metadata": {
    "code_folding": [],
    "collapsed": false,
    "deletable": true,
    "editable": true,
    "slideshow": {
     "slide_type": "skip"
    }
   },
   "outputs": [],
   "source": [
    "class QueueStateMachine(QueueStateMachine):\n",
    "    # this is a total cheat, the order in which the errors would naturally occur is \n",
    "    # system under test, model, specification. However the narrative is a little\n",
    "    # better when presented as model, specification, system under test, so secretly\n",
    "    # fix the bug with the system under test here\n",
    "    class Actual(Queue):\n",
    "        def __init__(self, max_size):\n",
    "            super().__init__(max_size + 1)\n",
    "            \n",
    "check_property_queue_matches_model_1 = QueueStateMachine.TestCase"
   ]
  },
  {
   "cell_type": "code",
   "execution_count": null,
   "metadata": {
    "collapsed": false,
    "deletable": true,
    "editable": true,
    "slideshow": {
     "slide_type": "subslide"
    }
   },
   "outputs": [],
   "source": [
    "!sh pytest.sh check_property_queue_matches_model_1"
   ]
  },
  {
   "cell_type": "code",
   "execution_count": null,
   "metadata": {
    "code_folding": [],
    "collapsed": false,
    "deletable": true,
    "editable": true,
    "slideshow": {
     "slide_type": "subslide"
    }
   },
   "outputs": [],
   "source": [
    "class QueueStateMachine2(QueueStateMachine):\n",
    "        \n",
    "    is_not_full = lambda self: (hasattr(self, 'model')\n",
    "                                and len(self.model) < self.max_size)\n",
    "\n",
    "    @precondition(is_not_full)\n",
    "    @rule(item=st.integers())\n",
    "    def put(self, item):\n",
    "        super().put(item)\n",
    "        \n",
    "check_property_queue_matches_model_2 = QueueStateMachine2.TestCase"
   ]
  },
  {
   "cell_type": "code",
   "execution_count": null,
   "metadata": {
    "collapsed": false,
    "deletable": true,
    "editable": true,
    "scrolled": false,
    "slideshow": {
     "slide_type": "subslide"
    }
   },
   "outputs": [],
   "source": [
    "!sh pytest.sh check_property_queue_matches_model_2"
   ]
  },
  {
   "cell_type": "code",
   "execution_count": null,
   "metadata": {
    "collapsed": true,
    "deletable": true,
    "editable": true,
    "slideshow": {
     "slide_type": "skip"
    }
   },
   "outputs": [],
   "source": [
    "class QueueStateMachine2(QueueStateMachine2):\n",
    "    # undo the cheating fix\n",
    "    Actual = Queue"
   ]
  },
  {
   "cell_type": "code",
   "execution_count": null,
   "metadata": {
    "code_folding": [],
    "collapsed": true,
    "deletable": true,
    "editable": true,
    "slideshow": {
     "slide_type": "subslide"
    }
   },
   "outputs": [],
   "source": [
    "class QueueStateMachine3(QueueStateMachine2):\n",
    "    \n",
    "    @precondition(QueueStateMachine2.is_not_full)\n",
    "    @rule(item=st.integers())\n",
    "    def put(self, item):\n",
    "        self.actual.put(item), self.model.insert(0, item)\n",
    "        \n",
    "check_property_queue_matches_model_3 = QueueStateMachine3.TestCase"
   ]
  },
  {
   "cell_type": "code",
   "execution_count": null,
   "metadata": {
    "collapsed": false,
    "deletable": true,
    "editable": true,
    "slideshow": {
     "slide_type": "subslide"
    }
   },
   "outputs": [],
   "source": [
    "!sh pytest.sh check_property_queue_matches_model_3"
   ]
  },
  {
   "cell_type": "code",
   "execution_count": null,
   "metadata": {
    "collapsed": false,
    "deletable": true,
    "editable": true,
    "slideshow": {
     "slide_type": "subslide"
    }
   },
   "outputs": [],
   "source": [
    "queue = Queue(max_size=1)\n",
    "queue._in, queue._out"
   ]
  },
  {
   "cell_type": "code",
   "execution_count": null,
   "metadata": {
    "collapsed": false,
    "deletable": true,
    "editable": true,
    "slideshow": {
     "slide_type": "fragment"
    }
   },
   "outputs": [],
   "source": [
    "queue.put(0)\n",
    "queue._in, queue._out"
   ]
  },
  {
   "cell_type": "code",
   "execution_count": null,
   "metadata": {
    "collapsed": false,
    "deletable": true,
    "editable": true,
    "slideshow": {
     "slide_type": "fragment"
    }
   },
   "outputs": [],
   "source": [
    "def put(self, item):\n",
    "    self._buffer[self._in] = item\n",
    "    self._in = (self._in + 1) % self.max_size"
   ]
  },
  {
   "cell_type": "code",
   "execution_count": null,
   "metadata": {
    "collapsed": true,
    "deletable": true,
    "editable": true,
    "slideshow": {
     "slide_type": "subslide"
    }
   },
   "outputs": [],
   "source": [
    "class Queue2(Queue):\n",
    "    def __init__(self, max_size):\n",
    "        super(Queue2, self).__init__(max_size + 1)\n",
    "\n",
    "class QueueStateMachine4(QueueStateMachine3):\n",
    "    Actual = Queue2\n",
    "    \n",
    "check_property_queue_matches_model_4 = QueueStateMachine4.TestCase"
   ]
  },
  {
   "cell_type": "code",
   "execution_count": 68,
   "metadata": {
    "collapsed": false,
    "deletable": true,
    "editable": true,
    "slideshow": {
     "slide_type": "subslide"
    }
   },
   "outputs": [],
   "source": [
    "!sh pytest.sh check_property_queue_matches_model_4"
   ]
  },
  {
   "cell_type": "markdown",
   "metadata": {
    "deletable": true,
    "editable": true,
    "slideshow": {
     "slide_type": "slide"
    }
   },
   "source": [
    "&nbsp;"
   ]
  },
  {
   "cell_type": "markdown",
   "metadata": {
    "deletable": true,
    "editable": true,
    "slideshow": {
     "slide_type": "subslide"
    }
   },
   "source": [
    "![property based testing](pbt.jpg)"
   ]
  },
  {
   "cell_type": "markdown",
   "metadata": {
    "deletable": true,
    "editable": true,
    "slideshow": {
     "slide_type": "subslide"
    }
   },
   "source": [
    "![signal](signal.jpg)"
   ]
  },
  {
   "cell_type": "markdown",
   "metadata": {
    "deletable": true,
    "editable": true,
    "slideshow": {
     "slide_type": "subslide"
    }
   },
   "source": [
    "![patterns](patterns.jpg)"
   ]
  },
  {
   "cell_type": "markdown",
   "metadata": {
    "deletable": true,
    "editable": true,
    "slideshow": {
     "slide_type": "subslide"
    }
   },
   "source": [
    "![datagen](datagen.jpg)"
   ]
  },
  {
   "cell_type": "markdown",
   "metadata": {
    "deletable": true,
    "editable": true,
    "slideshow": {
     "slide_type": "subslide"
    }
   },
   "source": [
    "![stateful](stateful.jpg)"
   ]
  },
  {
   "cell_type": "markdown",
   "metadata": {
    "deletable": true,
    "editable": true,
    "slideshow": {
     "slide_type": "subslide"
    }
   },
   "source": [
    "&nbsp;"
   ]
  },
  {
   "cell_type": "markdown",
   "metadata": {
    "deletable": true,
    "editable": true,
    "slideshow": {
     "slide_type": "fragment"
    }
   },
   "source": [
    "# Stop Writing Tests..."
   ]
  },
  {
   "cell_type": "markdown",
   "metadata": {
    "deletable": true,
    "editable": true,
    "slideshow": {
     "slide_type": "fragment"
    }
   },
   "source": [
    "# ...Start Generating Them!"
   ]
  },
  {
   "cell_type": "code",
   "execution_count": 69,
   "metadata": {
    "collapsed": false,
    "deletable": true,
    "editable": true,
    "slideshow": {
     "slide_type": "skip"
    }
   },
   "outputs": [
    {
     "data": {
      "application/javascript": [
       "$('#clear_all_output').click()"
      ],
      "text/plain": [
       "<IPython.core.display.Javascript object>"
      ]
     },
     "metadata": {},
     "output_type": "display_data"
    }
   ],
   "source": [
    "%%javascript\n",
    "$('#clear_all_output').click()"
   ]
  },
  {
   "cell_type": "code",
   "execution_count": 71,
   "metadata": {
    "collapsed": false,
    "deletable": true,
    "editable": true,
    "slideshow": {
     "slide_type": "skip"
    }
   },
   "outputs": [
    {
     "data": {
      "text/html": [
       "<link href=\"https://fonts.googleapis.com/css?family=ABeeZee\" rel=\"stylesheet\">\n",
       "<style>body { font-family: 'ABeeZee', serif !important; }</style>"
      ],
      "text/plain": [
       "<IPython.core.display.HTML object>"
      ]
     },
     "metadata": {},
     "output_type": "display_data"
    }
   ],
   "source": [
    "%%HTML\n",
    "<link href=\"https://fonts.googleapis.com/css?family=ABeeZee\" rel=\"stylesheet\">\n",
    "<style>body { font-family: 'ABeeZee', serif !important; }</style>"
   ]
  }
 ],
 "metadata": {
  "celltoolbar": "Slideshow",
  "kernelspec": {
   "display_name": "Python 3",
   "language": "python",
   "name": "python3"
  },
  "language_info": {
   "codemirror_mode": {
    "name": "ipython",
    "version": 3
   },
   "file_extension": ".py",
   "mimetype": "text/x-python",
   "name": "python",
   "nbconvert_exporter": "python",
   "pygments_lexer": "ipython3",
   "version": "3.6.0"
  },
  "livereveal": {
   "scroll": true,
   "theme": "black",
   "transition": "fade"
  }
 },
 "nbformat": 4,
 "nbformat_minor": 0
}
